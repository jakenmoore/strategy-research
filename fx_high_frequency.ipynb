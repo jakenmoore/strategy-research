{
 "cells": [
  {
   "cell_type": "code",
   "execution_count": null,
   "metadata": {},
   "outputs": [],
   "source": [
    "import pandas as pd\n",
    "import quandl\n",
    "import matplotlib.pyplot as plt\n",
    "import numpy as np\n",
    "import math\n",
    "import time\n",
    "from scipy import stats\n",
    "%matplotlib inline"
   ]
  },
  {
   "cell_type": "code",
   "execution_count": null,
   "metadata": {},
   "outputs": [],
   "source": [
    "def read_pickle(instrument, startdate, enddate, resample_period):\n",
    "    path_ = ('/home/jake/Code/kaiseki/local_data/' + instrument + \"_pickle\")\n",
    "    df = pd.read_pickle(path_).loc[startdate:enddate].resample(resample_period).last()\n",
    "    return df\n"
   ]
  },
  {
   "cell_type": "code",
   "execution_count": null,
   "metadata": {},
   "outputs": [],
   "source": [
    "from plotly import __version__\n",
    "from plotly.offline import download_plotlyjs, init_notebook_mode, plot, iplot\n",
    "import plotly.graph_objs as go\n",
    "import plotly.grid_objs as gd\n",
    "import seaborn as sns\n",
    "import cufflinks as cf\n",
    "init_notebook_mode(connected=True)\n",
    "cf.go_offline()\n",
    "cf.set_config_file(offline=False, world_readable=True, theme='polar')"
   ]
  },
  {
   "cell_type": "code",
   "execution_count": null,
   "metadata": {},
   "outputs": [],
   "source": [
    "# Load data for 15 min model\n",
    "instrument = \"\"\n",
    "startdate = '2015-01-01'\n",
    "enddate = '2018-12-31'\n",
    "resample_period = \"15t\"\n",
    "\n",
    "\n",
    "usdeur = read_pickle(\"EURUSD\", startdate, enddate, resample_period)\n",
    "usdeur= usdeur[['open','high','low','close']]\n",
    "usdeur= 1/usdeur\n",
    "# usdeur.columns = [['usdeur_open','usdeur_high','usdeur_low','usdeur_close']]\n",
    "\n",
    "usdaud = read_pickle(\"AUDUSD\", startdate, enddate, resample_period)\n",
    "usdaud= usdaud[['open','high','low','close']]\n",
    "usdaud= 1/usdaud\n",
    "# usdaud.columns = [['usdaud_open','usdaud_high','usdaud_low','usdaud_close']]\n",
    "\n",
    "usdcad = read_pickle(\"USDCAD\", startdate, enddate, resample_period)\n",
    "usdcad= usdcad[['open','high','low','close']]\n",
    "# usdcad.columns = [['usdcad_open','usdcad_high','usdcad_low','usdcad_close']]\n",
    "\n",
    "usdchf = read_pickle(\"USDCHF\", startdate, enddate, resample_period)\n",
    "usdchf= usdchf[['open','high','low','close']]\n",
    "# usdchf.columns = [['usdchf_open','usdchf_high','usdchf_low','usdchf_close']]\n",
    "\n",
    "usdjpy = read_pickle(\"USDJPY\", startdate, enddate, resample_period)\n",
    "usdjpy= usdjpy[['open','high','low','close']]\n",
    "# usdjpy.columns = [['usdjpy_open','usdjpy_high','usdjpy_low','usdjpy_close']]\n",
    "\n",
    "usdgbp = read_pickle(\"GBPUSD\", startdate, enddate, resample_period)\n",
    "usdgbp= usdgbp[['open','high','low','close']]\n",
    "usdgbp= 1/usdgbp\n",
    "# usdgbp.columns = [['usdgbp_open','usdgbp_high','usdgbp_low','usdgbp_close']]\n",
    "\n",
    "usdnok = read_pickle(\"USDNOK\", startdate, enddate, resample_period)\n",
    "usdnok= usdnok[['open','high','low','close']]\n",
    "# usdnok.columns = [['usdnok_open','usdnok_high','usdnok_low','usdnok_close']]\n",
    "\n",
    "usdsek = read_pickle(\"USDSEK\", startdate, enddate, resample_period)\n",
    "usdsek= usdsek[['open','high','low','close']]\n",
    "# usdsek.columns = [['usdsek_open','usdsek_high','usdsek_low','usdsek_close']]\n",
    "\n",
    "usdnzd = read_pickle(\"NZDUSD\", startdate, enddate, resample_period)\n",
    "usdnzd= usdnzd[['open','high','low','close']]\n",
    "usdnzd= 1/usdnzd\n",
    "# usdnzd.columns = [['usdnzd_open','usdnzd_high','usdnzd_low','usdnzd_close']]"
   ]
  },
  {
   "cell_type": "code",
   "execution_count": null,
   "metadata": {},
   "outputs": [],
   "source": [
    "df = pd.concat([usdeur,usdaud,usdcad,usdchf,usdjpy,usdgbp,usdnok,usdsek],axis=1)\n",
    "\n",
    "df = pd.concat([usdeur['close'],\n",
    "                usdaud['close'],\n",
    "                usdcad['close'],\n",
    "                usdchf['close'],\n",
    "                usdjpy['close'],\n",
    "                usdgbp['close'],\n",
    "                usdnok['close'],\n",
    "                usdsek['close'], \n",
    "                usdnzd['close']], axis=1)\n",
    "\n",
    "df.index = df.index.to_pydatetime()\n",
    "df.sort_index(inplace=True)\n",
    "df = df[df.index.dayofweek < 5]\n",
    "\n",
    "fx_c = df.dropna()\n",
    "fx_c.columns = [['usdeur_close',\n",
    "                 'usdaud_close',\n",
    "                 'usdcad_close',\n",
    "                 'usdchf_close',\n",
    "                 'usdjpy_close',\n",
    "                 'usdgbp_close',\n",
    "                 'usdnok_close',\n",
    "                 'usdsek_close',\n",
    "                 'usdnzd_close']]\n",
    "\n",
    "fx_c_rets = fx_c.pct_change()"
   ]
  },
  {
   "cell_type": "code",
   "execution_count": null,
   "metadata": {},
   "outputs": [],
   "source": []
  },
  {
   "cell_type": "code",
   "execution_count": null,
   "metadata": {},
   "outputs": [],
   "source": []
  },
  {
   "cell_type": "code",
   "execution_count": null,
   "metadata": {},
   "outputs": [],
   "source": [
    "# original model, no limit orders, assumes no transaction costs\n",
    "\n",
    "fx_c_ranks = fx_c_rets.rank(axis=1, ascending=False)\n",
    "df_long_signal = np.sign(fx_c_ranks[fx_c_ranks<=1])\n",
    "df_short_signal = np.sign(fx_c_ranks[fx_c_ranks>=9])*(-1)\n",
    "long_rets = df_long_signal.shift(1) * fx_c_rets*(-1)\n",
    "short_rets = df_short_signal.shift(1) * fx_c_rets*(-1)\n",
    "long_rets_sum = long_rets.mean(axis=1)\n",
    "short_rets_sum = short_rets.mean(axis=1)\n",
    "mr_pnl = (long_rets_sum + short_rets_sum) / 2\n",
    "\n",
    "print(np.mean(mr_pnl)*100)\n",
    "\n",
    "mr_cum_pnl = mr_pnl.cumsum()\n",
    "mr_cum_pnl.plot()\n",
    "plt.show()"
   ]
  },
  {
   "cell_type": "code",
   "execution_count": null,
   "metadata": {},
   "outputs": [],
   "source": [
    "long_rets['usdeur_close'].cumsum().plot()"
   ]
  },
  {
   "cell_type": "code",
   "execution_count": null,
   "metadata": {},
   "outputs": [],
   "source": []
  },
  {
   "cell_type": "code",
   "execution_count": null,
   "metadata": {},
   "outputs": [],
   "source": []
  },
  {
   "cell_type": "code",
   "execution_count": null,
   "metadata": {},
   "outputs": [],
   "source": []
  },
  {
   "cell_type": "code",
   "execution_count": null,
   "metadata": {},
   "outputs": [],
   "source": []
  },
  {
   "cell_type": "code",
   "execution_count": null,
   "metadata": {},
   "outputs": [],
   "source": []
  },
  {
   "cell_type": "markdown",
   "metadata": {},
   "source": [
    "# Re run everything with 1 minute data, then create 15 min OHLC bars"
   ]
  },
  {
   "cell_type": "code",
   "execution_count": null,
   "metadata": {},
   "outputs": [],
   "source": [
    "# reload data for 1 min \n",
    "instrument = \"\"\n",
    "startdate = '2015-01-01'\n",
    "enddate = '2018-12-31'\n",
    "resample_period = \"1t\"\n",
    "\n",
    "\n",
    "usdeur = read_pickle(\"EURUSD\", startdate, enddate, resample_period)\n",
    "usdeur= usdeur[['open','high','low','close']]\n",
    "usdeur= 1/usdeur\n",
    "# usdeur.columns = [['usdeur_open','usdeur_high','usdeur_low','usdeur_close']]\n",
    "\n",
    "usdaud = read_pickle(\"AUDUSD\", startdate, enddate, resample_period)\n",
    "usdaud= usdaud[['open','high','low','close']]\n",
    "usdaud= 1/usdaud\n",
    "# usdaud.columns = [['usdaud_open','usdaud_high','usdaud_low','usdaud_close']]\n",
    "\n",
    "usdcad = read_pickle(\"USDCAD\", startdate, enddate, resample_period)\n",
    "usdcad= usdcad[['open','high','low','close']]\n",
    "# usdcad.columns = [['usdcad_open','usdcad_high','usdcad_low','usdcad_close']]\n",
    "\n",
    "usdchf = read_pickle(\"USDCHF\", startdate, enddate, resample_period)\n",
    "usdchf= usdchf[['open','high','low','close']]\n",
    "# usdchf.columns = [['usdchf_open','usdchf_high','usdchf_low','usdchf_close']]\n",
    "\n",
    "usdjpy = read_pickle(\"USDJPY\", startdate, enddate, resample_period)\n",
    "usdjpy= usdjpy[['open','high','low','close']]\n",
    "# usdjpy.columns = [['usdjpy_open','usdjpy_high','usdjpy_low','usdjpy_close']]\n",
    "\n",
    "usdgbp = read_pickle(\"GBPUSD\", startdate, enddate, resample_period)\n",
    "usdgbp= usdgbp[['open','high','low','close']]\n",
    "usdgbp= 1/usdgbp\n",
    "# usdgbp.columns = [['usdgbp_open','usdgbp_high','usdgbp_low','usdgbp_close']]\n",
    "\n",
    "usdnok = read_pickle(\"USDNOK\", startdate, enddate, resample_period)\n",
    "usdnok= usdnok[['open','high','low','close']]\n",
    "# usdnok.columns = [['usdnok_open','usdnok_high','usdnok_low','usdnok_close']]\n",
    "\n",
    "usdsek = read_pickle(\"USDSEK\", startdate, enddate, resample_period)\n",
    "usdsek= usdsek[['open','high','low','close']]\n",
    "# usdsek.columns = [['usdsek_open','usdsek_high','usdsek_low','usdsek_close']]\n",
    "\n",
    "usdnzd = read_pickle(\"NZDUSD\", startdate, enddate, resample_period)\n",
    "usdnzd= usdnzd[['open','high','low','close']]\n",
    "usdnzd= 1/usdnzd\n",
    "# usdnzd.columns = [['usdnzd_open','usdnzd_high','usdnzd_low','usdnzd_close']]"
   ]
  },
  {
   "cell_type": "code",
   "execution_count": null,
   "metadata": {},
   "outputs": [],
   "source": []
  },
  {
   "cell_type": "code",
   "execution_count": null,
   "metadata": {},
   "outputs": [],
   "source": []
  },
  {
   "cell_type": "code",
   "execution_count": null,
   "metadata": {},
   "outputs": [],
   "source": [
    "# create OHLC 15 min bars\n",
    "\n",
    "usdeur_15m = usdeur.resample(\"15t\").agg({'open': 'first',\n",
    "                                          'high': 'max',\n",
    "                                          'low': 'min',\n",
    "                                          'close': 'last'})\n",
    "\n",
    "usdaud_15m = usdaud.resample(\"15t\").agg({'open': 'first',\n",
    "                                          'high': 'max',\n",
    "                                          'low': 'min',\n",
    "                                          'close': 'last'})\n",
    "\n",
    "usdcad_15m = usdcad.resample(\"15t\").agg({'open': 'first',\n",
    "                                          'high': 'max',\n",
    "                                          'low': 'min',\n",
    "                                          'close': 'last'})"
   ]
  },
  {
   "cell_type": "code",
   "execution_count": null,
   "metadata": {},
   "outputs": [],
   "source": []
  },
  {
   "cell_type": "code",
   "execution_count": null,
   "metadata": {},
   "outputs": [],
   "source": []
  },
  {
   "cell_type": "code",
   "execution_count": null,
   "metadata": {},
   "outputs": [],
   "source": [
    "# total bid:ask spread per currency pair\n",
    "spread = 0.00004\n",
    "halfspread = spread / 2"
   ]
  },
  {
   "cell_type": "code",
   "execution_count": null,
   "metadata": {},
   "outputs": [],
   "source": []
  },
  {
   "cell_type": "code",
   "execution_count": null,
   "metadata": {},
   "outputs": [],
   "source": []
  },
  {
   "cell_type": "code",
   "execution_count": null,
   "metadata": {},
   "outputs": [],
   "source": [
    "# calculate fill levels and whether these have been hit\n",
    "usdeur_15m['ret'] = usdeur_15m['close'].pct_change()\n",
    "usdeur_15m['c_to_l'] = (usdeur_15m['low'].shift(1) / usdeur_15m['close'] - 1)\n",
    "usdeur_15m['c_to_h'] = (usdeur_15m['high'].shift(1) / usdeur_15m['close'] -1)\n",
    "usdeur_15m['l_to_h'] = (usdeur_15m['high'] / usdeur_15m['low'] -1) * 100\n",
    "\n",
    "usdeur_15m['long_fill'] = np.where(usdeur_15m['c_to_l'] < -spread, 1, 0)\n",
    "usdeur_15m['long_entry'] = usdeur_15m['close'].shift(1)*(1-spread)\n",
    "usdeur_15m['short_fill'] = np.where(usdeur_15m['c_to_h'] > spread, 1, 0)\n",
    "\n",
    "# is there something to gain from looking at current bar h/l to next bar h/l ? \n",
    "# I.e. if current low > xx buy til high?\n"
   ]
  },
  {
   "cell_type": "code",
   "execution_count": null,
   "metadata": {},
   "outputs": [],
   "source": []
  },
  {
   "cell_type": "code",
   "execution_count": null,
   "metadata": {},
   "outputs": [],
   "source": []
  },
  {
   "cell_type": "code",
   "execution_count": null,
   "metadata": {},
   "outputs": [],
   "source": [
    "# adjust the signal to account for being filled \n",
    "usdeur_15m['long_sig'] = df_long_signal['usdeur_close']\n",
    "usdeur_15m['short_sig'] = df_short_signal['usdeur_close']\n",
    "usdeur_15m['long_sig_2'] = usdeur_15m['long_sig'] * usdeur_15m['long_fill']\n",
    "usdeur_15m['short_sig_2'] = usdeur_15m['short_sig'] * usdeur_15m['short_fill']\n",
    "usdeur_15m['longpnl'] = usdeur_15m['long_sig_2'].shift(1) * (usdeur_15m['ret'] - halfspread) * (-1)\n",
    "usdeur_15m['shortpnl'] = usdeur_15m['short_sig_2'].shift(1) * (usdeur_15m['ret'] + halfspread) * (-1)\n",
    "usdeur_15m['longpnl'].cumsum().plot()"
   ]
  },
  {
   "cell_type": "code",
   "execution_count": null,
   "metadata": {},
   "outputs": [],
   "source": []
  },
  {
   "cell_type": "code",
   "execution_count": null,
   "metadata": {},
   "outputs": [],
   "source": []
  },
  {
   "cell_type": "code",
   "execution_count": null,
   "metadata": {},
   "outputs": [],
   "source": [
    "# calculate probability of fill\n",
    "eur_prob_long_fill = usdeur_15m['long_fill'].sum() / len(usdeur_15m['long_fill'])\n",
    "eur_prob_short_fill = usdeur_15m['short_fill'].sum() / len(usdeur_15m['short_fill'])\n",
    "eur_prob_fill = (eur_prob_long_fill + eur_prob_short_fill) / 2\n",
    "# calculate yield per trade\n",
    "eur_yield = (((np.mean(usdeur_15m['longpnl'])*100) + (np.mean(usdeur_15m['longpnl'])*100)) / 2) \n",
    "eur_yield "
   ]
  },
  {
   "cell_type": "code",
   "execution_count": null,
   "metadata": {},
   "outputs": [],
   "source": []
  },
  {
   "cell_type": "code",
   "execution_count": null,
   "metadata": {},
   "outputs": [],
   "source": []
  },
  {
   "cell_type": "code",
   "execution_count": null,
   "metadata": {},
   "outputs": [],
   "source": [
    "# calculate pnl potential \n",
    "trades_per_hour = 4\n",
    "\n",
    "prob_fill = eur_prob_fill\n",
    "trade_yield = eur_yield\n",
    "\n",
    "trades_per_day = 24 * trades_per_hour * prob_fill \n",
    "daily_yield = (trades_per_day * trade_yield) / 100\n",
    "daily_yield"
   ]
  },
  {
   "cell_type": "code",
   "execution_count": null,
   "metadata": {},
   "outputs": [],
   "source": []
  },
  {
   "cell_type": "code",
   "execution_count": null,
   "metadata": {},
   "outputs": [],
   "source": []
  },
  {
   "cell_type": "code",
   "execution_count": null,
   "metadata": {},
   "outputs": [],
   "source": [
    "# annual pnl with 10m of trading capital\n",
    "daily_yield * 10000000"
   ]
  },
  {
   "cell_type": "code",
   "execution_count": null,
   "metadata": {},
   "outputs": [],
   "source": []
  },
  {
   "cell_type": "code",
   "execution_count": null,
   "metadata": {},
   "outputs": [],
   "source": []
  },
  {
   "cell_type": "markdown",
   "metadata": {},
   "source": [
    "# High frequency strategy description\n",
    "\n",
    "Bid:ask spread is about 0.4 bps per instrument. \n",
    "\n",
    "If we get long signal, we bid at 0.4 bps below the mid. \n",
    "\n",
    "We are filled if the low is lower than this bid. \n",
    "\n",
    "Exit is a market order, therefore the spread we capture is half of the bid:ask spread, i.e. 0.4 bps / 2 = 0.2 bps.\n",
    "\n",
    "To test. We get signal at 1200 and we then walk through each minute looking for the entry price. Then we continue to walk forward looking for a exit price, i.e. we try to offer out our position. If not filled, we market order. \n",
    "\n",
    "\n",
    "\n",
    "\n"
   ]
  },
  {
   "cell_type": "markdown",
   "metadata": {},
   "source": [
    "\n",
    "\n",
    "0.0006 and / 3 = 0.004428552285332181\n"
   ]
  },
  {
   "cell_type": "code",
   "execution_count": null,
   "metadata": {},
   "outputs": [],
   "source": []
  },
  {
   "cell_type": "code",
   "execution_count": null,
   "metadata": {},
   "outputs": [],
   "source": []
  },
  {
   "cell_type": "code",
   "execution_count": null,
   "metadata": {},
   "outputs": [],
   "source": []
  },
  {
   "cell_type": "code",
   "execution_count": null,
   "metadata": {},
   "outputs": [],
   "source": [
    "# export some data to csv to manually check results\n",
    "usdeur_15m.loc[\"2017-02-03\" : \"2017-02-10\"].to_csv(\"test.csv\")"
   ]
  },
  {
   "cell_type": "code",
   "execution_count": null,
   "metadata": {},
   "outputs": [],
   "source": []
  }
 ],
 "metadata": {
  "kernelspec": {
   "display_name": "Python 3",
   "language": "python",
   "name": "python3"
  },
  "language_info": {
   "codemirror_mode": {
    "name": "ipython",
    "version": 3
   },
   "file_extension": ".py",
   "mimetype": "text/x-python",
   "name": "python",
   "nbconvert_exporter": "python",
   "pygments_lexer": "ipython3",
   "version": "3.6.8"
  }
 },
 "nbformat": 4,
 "nbformat_minor": 2
}
