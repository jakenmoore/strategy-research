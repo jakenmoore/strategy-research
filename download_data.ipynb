{
 "cells": [
  {
   "cell_type": "code",
   "execution_count": null,
   "metadata": {},
   "outputs": [],
   "source": [
    "import pandas as pd\n",
    "import numpy as np\n",
    "import matplotlib as plt\n",
    "%matplotlib inline\n",
    "import warnings\n",
    "import datetime\n",
    "warnings.filterwarnings('ignore')\n",
    "\n",
    "s3_bucket = 'mfx-sagemaker-dev'\n"
   ]
  },
  {
   "cell_type": "code",
   "execution_count": null,
   "metadata": {},
   "outputs": [],
   "source": [
    "df_key = \"go-data/GBPUSD_20200801-000000_20200816-220000/2020-08-02T21:00:20.414Z-2020-08-16T22:00:00.999Z-Input_FASTMATCH-JPM-UBS-CITADEL-JEFFERIES-STATESTREET-XTX-HC_TECH-GOLDMAN_SACHS_top5-1.csv.gz\"\n",
    "                \n",
    "                \n",
    "df = pd.read_csv('s3://{}/{}'.format(s3_bucket, df_key), index_col='t', parse_dates=['t'])\n",
    "            "
   ]
  },
  {
   "cell_type": "code",
   "execution_count": null,
   "metadata": {},
   "outputs": [],
   "source": [
    "df2 = df.loc[\"2020-08-10\"]\n",
    "df2.to_csv(\"/Volumes/GoogleDrive/Shared drives/data/go_gbpusd_20200810_quotes.csv\")\n",
    "df2 = df.loc[\"2020-08-11\"]\n",
    "df2.to_csv(\"/Volumes/GoogleDrive/Shared drives/data/go_gbpusd_20200811_quotes.csv\")\n",
    "df2 = df.loc[\"2020-08-12\"]\n",
    "df2.to_csv(\"/Volumes/GoogleDrive/Shared drives/data/go_gbpusd_20200812_quotes.csv\")\n",
    "df2 = df.loc[\"2020-08-13\"]\n",
    "df2.to_csv(\"/Volumes/GoogleDrive/Shared drives/data/go_gbpusd_20200813_quotes.csv\")\n",
    "df2 = df.loc[\"2020-08-14\"]\n",
    "df2.to_csv(\"/Volumes/GoogleDrive/Shared drives/data/go_gbpusd_20200814_quotes.csv\")\n"
   ]
  },
  {
   "cell_type": "code",
   "execution_count": null,
   "metadata": {},
   "outputs": [],
   "source": [
    "df.to_parquet(\"/Volumes/GoogleDrive/Shared drives/data/go_gbpusd_20200810_20200814_quotes.parq\")"
   ]
  },
  {
   "cell_type": "code",
   "execution_count": null,
   "metadata": {},
   "outputs": [],
   "source": []
  }
 ],
 "metadata": {
  "kernelspec": {
   "display_name": "Python 3",
   "language": "python",
   "name": "python3"
  },
  "language_info": {
   "codemirror_mode": {
    "name": "ipython",
    "version": 3
   },
   "file_extension": ".py",
   "mimetype": "text/x-python",
   "name": "python",
   "nbconvert_exporter": "python",
   "pygments_lexer": "ipython3",
   "version": "3.7.2"
  }
 },
 "nbformat": 4,
 "nbformat_minor": 2
}
