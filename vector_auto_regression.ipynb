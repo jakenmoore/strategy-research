{
 "cells": [
  {
   "cell_type": "markdown",
   "metadata": {},
   "source": [
    "### TODO\n",
    "Add VAR exogenous - OFI, other models "
   ]
  },
  {
   "cell_type": "code",
   "execution_count": null,
   "metadata": {},
   "outputs": [],
   "source": [
    "# import libraries\n",
    "import pandas as pd\n",
    "pd.options.display.max_columns = None \n",
    "\n",
    "import numpy as np\n",
    "import math\n",
    "import datetime as dt\n",
    "from datetime import timedelta\n",
    "\n",
    "# charting libraries\n",
    "import matplotlib.pyplot as plt\n",
    "%matplotlib inline\n",
    "plt.style.use(\"seaborn-notebook\")\n",
    "\n",
    "# Import Statsmodels\n",
    "from statsmodels.tsa.api import VAR\n",
    "from statsmodels.tsa.stattools import adfuller\n",
    "from statsmodels.tools.eval_measures import rmse, aic\n",
    "\n",
    "import warnings\n",
    "warnings.filterwarnings('ignore')"
   ]
  },
  {
   "cell_type": "code",
   "execution_count": null,
   "metadata": {},
   "outputs": [],
   "source": [
    "#################\n",
    "# Load from S3\n",
    "#################\n",
    "resample_period = \"10ms\"\n",
    "usdcad_file = \"/Volumes/GoogleDrive/Shared drives/data/echo/think_usdcad_20200921_quotes.csv\"\n",
    "gbpusd_file = \"/Volumes/GoogleDrive/Shared drives/Data/echo/think_gbpusd_20200921_quotes.csv\"\n",
    "usdjpy_file = \"/Volumes/GoogleDrive/Shared drives/Data/echo/think_usdjpy_20200921_quotes.csv\"\n",
    "eurusd_file = \"/Volumes/GoogleDrive/Shared drives/Data/echo/think_eurusd_20200921_quotes.csv\""
   ]
  },
  {
   "cell_type": "code",
   "execution_count": null,
   "metadata": {},
   "outputs": [],
   "source": [
    "usdcad_df = pd.read_csv(usdcad_file, index_col='t', parse_dates=['t'])\n",
    "usdcad = usdcad_df[[\"Bid0\", \"Offer0\"]]\n",
    "del usdcad_df\n",
    "usdcad = usdcad.rename(columns={\"Bid0\": \"usdcad_bid0\", \"Offer0\": \"usdcad_offer0\"})\n",
    "usdcad[\"usdcad_mid\"] = (usdcad[\"usdcad_bid0\"] + usdcad[\"usdcad_offer0\"]) / 2\n",
    "usdcad[\"usdcad_mid_change\"] = usdcad[\"usdcad_mid\"].pct_change()\n",
    "usdcad = usdcad.resample(resample_period).last().ffill()\n",
    "\n",
    "# sweep model\n",
    "usdcad[\"usdcad_3_sum\"] = usdcad[\"usdcad_mid_change\"].rolling(10).sum()\n",
    "usdcad[\"usdcad_3_sum_stdev\"] = usdcad[\"usdcad_3_sum\"].rolling(500).std()\n",
    "\n",
    "\n",
    "# define the up and down sweeps\n",
    "usdcad[\"usdcad_sweep_up_signal\"] = np.where(usdcad[\"usdcad_3_sum\"] \n",
    "                                                    >= 2*usdcad[\"usdcad_3_sum_stdev\"], 1, 0)\n",
    "usdcad[\"usdcad_sweep_down_signal\"] = np.where(usdcad[\"usdcad_3_sum\"] \n",
    "                                                    <= 2*-usdcad[\"usdcad_3_sum_stdev\"], -1, 0)\n",
    "usdcad[\"usdcad_sweep_signal\"] = usdcad[\"usdcad_sweep_up_signal\"] + usdcad[\"usdcad_sweep_down_signal\"]\n",
    "\n",
    "# lag the signal \n",
    "usdcad[\"usdcad_sweep_signal\"] = usdcad[\"usdcad_sweep_signal\"].shift(1)\n",
    "# generate spread\n",
    "usdcad[\"usdcad_spread\"] = (usdcad[\"usdcad_offer0\"] - usdcad[\"usdcad_bid0\"]) / usdcad[\"usdcad_mid\"]\n"
   ]
  },
  {
   "cell_type": "code",
   "execution_count": null,
   "metadata": {},
   "outputs": [],
   "source": [
    "eurusd_df = pd.read_csv(eurusd_file, index_col='t', parse_dates=['t'])\n",
    "eurusd = eurusd_df[[\"Bid0\", \"Offer0\"]]\n",
    "del eurusd_df\n",
    "eurusd = eurusd.rename(columns={\"Bid0\": \"eurusd_bid0\", \"Offer0\": \"eurusd_offer0\"})\n",
    "eurusd[\"eurusd_mid\"] = (eurusd[\"eurusd_bid0\"] + eurusd[\"eurusd_offer0\"]) / 2\n",
    "eurusd[\"eurusd_mid_change\"] = eurusd[\"eurusd_mid\"].pct_change()\n",
    "eurusd = eurusd.resample(resample_period).last().ffill()\n",
    "\n",
    "# sweep model\n",
    "eurusd[\"eurusd_3_sum\"] = eurusd[\"eurusd_mid_change\"].rolling(10).sum()\n",
    "eurusd[\"eurusd_3_sum_stdev\"] = eurusd[\"eurusd_3_sum\"].rolling(500).std()\n",
    "\n",
    "\n",
    "# define the up and down sweeps\n",
    "eurusd[\"eurusd_sweep_up_signal\"] = np.where(eurusd[\"eurusd_3_sum\"] \n",
    "                                                    >= 2*eurusd[\"eurusd_3_sum_stdev\"], 1, 0)\n",
    "eurusd[\"eurusd_sweep_down_signal\"] = np.where(eurusd[\"eurusd_3_sum\"] \n",
    "                                                    <= 2*-eurusd[\"eurusd_3_sum_stdev\"], -1, 0)\n",
    "eurusd[\"eurusd_sweep_signal\"] = eurusd[\"eurusd_sweep_up_signal\"] + eurusd[\"eurusd_sweep_down_signal\"]\n",
    "\n",
    "# lag the signal \n",
    "eurusd[\"eurusd_sweep_signal\"] = eurusd[\"eurusd_sweep_signal\"].shift(1)\n",
    "# generate spread\n",
    "eurusd[\"eurusd_spread\"] = (eurusd[\"eurusd_offer0\"] - eurusd[\"eurusd_bid0\"]) / eurusd[\"eurusd_mid\"]\n"
   ]
  },
  {
   "cell_type": "code",
   "execution_count": null,
   "metadata": {},
   "outputs": [],
   "source": [
    "usdjpy_df = pd.read_csv(usdjpy_file, index_col='t', parse_dates=['t'])\n",
    "usdjpy = usdjpy_df[[\"Bid0\", \"Offer0\"]]\n",
    "del usdjpy_df\n",
    "usdjpy = usdjpy.rename(columns={\"Bid0\": \"usdjpy_bid0\", \"Offer0\": \"usdjpy_offer0\"})\n",
    "usdjpy[\"usdjpy_mid\"] = (usdjpy[\"usdjpy_bid0\"] + usdjpy[\"usdjpy_offer0\"]) / 2\n",
    "usdjpy[\"usdjpy_mid_change\"] = usdjpy[\"usdjpy_mid\"].pct_change()\n",
    "usdjpy = usdjpy.resample(resample_period).last().ffill()\n",
    "\n",
    "# sweep model\n",
    "usdjpy[\"usdjpy_3_sum\"] = usdjpy[\"usdjpy_mid_change\"].rolling(10).sum()\n",
    "usdjpy[\"usdjpy_3_sum_stdev\"] = usdjpy[\"usdjpy_3_sum\"].rolling(500).std()\n",
    "\n",
    "\n",
    "# define the up and down sweeps\n",
    "usdjpy[\"usdjpy_sweep_up_signal\"] = np.where(usdjpy[\"usdjpy_3_sum\"] \n",
    "                                                    >= 2*usdjpy[\"usdjpy_3_sum_stdev\"], 1, 0)\n",
    "usdjpy[\"usdjpy_sweep_down_signal\"] = np.where(usdjpy[\"usdjpy_3_sum\"] \n",
    "                                                    <= 2*-usdjpy[\"usdjpy_3_sum_stdev\"], -1, 0)\n",
    "usdjpy[\"usdjpy_sweep_signal\"] = usdjpy[\"usdjpy_sweep_up_signal\"] + usdjpy[\"usdjpy_sweep_down_signal\"]\n",
    "\n",
    "# lag the signal \n",
    "usdjpy[\"usdjpy_sweep_signal\"] = usdjpy[\"usdjpy_sweep_signal\"].shift(1)\n",
    "# generate spread\n",
    "usdjpy[\"usdjpy_spread\"] = (usdjpy[\"usdjpy_offer0\"] - usdjpy[\"usdjpy_bid0\"]) / usdjpy[\"usdjpy_mid\"]\n"
   ]
  },
  {
   "cell_type": "code",
   "execution_count": null,
   "metadata": {},
   "outputs": [],
   "source": [
    "gbpusd_df = pd.read_csv(gbpusd_file, index_col='t', parse_dates=['t'])\n",
    "gbpusd = gbpusd_df[[\"Bid0\", \"Offer0\"]]\n",
    "del gbpusd_df\n",
    "gbpusd = gbpusd.rename(columns={\"Bid0\": \"gbpusd_bid0\", \"Offer0\": \"gbpusd_offer0\"})\n",
    "gbpusd[\"gbpusd_mid\"] = (gbpusd[\"gbpusd_bid0\"] + gbpusd[\"gbpusd_offer0\"]) / 2\n",
    "gbpusd[\"gbpusd_mid_change\"] = gbpusd[\"gbpusd_mid\"].pct_change()\n",
    "gbpusd = gbpusd.resample(resample_period).last().ffill()\n",
    "\n",
    "# sweep model\n",
    "gbpusd[\"gbpusd_3_sum\"] = gbpusd[\"gbpusd_mid_change\"].rolling(10).sum()\n",
    "gbpusd[\"gbpusd_3_sum_stdev\"] = gbpusd[\"gbpusd_3_sum\"].rolling(500).std()\n",
    "\n",
    "\n",
    "# define the up and down sweeps\n",
    "gbpusd[\"gbpusd_sweep_up_signal\"] = np.where(gbpusd[\"gbpusd_3_sum\"] \n",
    "                                                    >= 2*gbpusd[\"gbpusd_3_sum_stdev\"], 1, 0)\n",
    "gbpusd[\"gbpusd_sweep_down_signal\"] = np.where(gbpusd[\"gbpusd_3_sum\"] \n",
    "                                                    <= 2*-gbpusd[\"gbpusd_3_sum_stdev\"], -1, 0)\n",
    "gbpusd[\"gbpusd_sweep_signal\"] = gbpusd[\"gbpusd_sweep_up_signal\"] + gbpusd[\"gbpusd_sweep_down_signal\"]\n",
    "\n",
    "# lag the signal \n",
    "gbpusd[\"gbpusd_sweep_signal\"] = gbpusd[\"gbpusd_sweep_signal\"].shift(1)\n",
    "# generate spread\n",
    "gbpusd[\"gbpusd_spread\"] = (gbpusd[\"gbpusd_offer0\"] - gbpusd[\"gbpusd_bid0\"]) / gbpusd[\"gbpusd_mid\"]\n"
   ]
  },
  {
   "cell_type": "code",
   "execution_count": null,
   "metadata": {},
   "outputs": [],
   "source": [
    "df_all = pd.concat([usdcad, usdjpy, eurusd, gbpusd], axis=1)"
   ]
  },
  {
   "cell_type": "code",
   "execution_count": null,
   "metadata": {},
   "outputs": [],
   "source": []
  },
  {
   "cell_type": "code",
   "execution_count": null,
   "metadata": {},
   "outputs": [],
   "source": [
    "df_mid_changes = (df_all[[\"usdcad_mid_change\",\n",
    "                          \"usdjpy_mid_change\",\n",
    "                          \"gbpusd_mid_change\", \n",
    "                          \"eurusd_mid_change\",\n",
    "                         \"usdcad_sweep_signal\",\n",
    "                         \"usdjpy_sweep_signal\",\n",
    "                         \"gbpusd_sweep_signal\",\n",
    "                         \"eurusd_sweep_signal\"]])\n",
    "\n",
    "df_mid_changes = df_mid_changes.fillna(0)\n",
    "n_obs = 3500000\n",
    "df_train, df_test = df_mid_changes[0:-n_obs], df_mid_changes[-n_obs:]\n"
   ]
  },
  {
   "cell_type": "code",
   "execution_count": null,
   "metadata": {},
   "outputs": [],
   "source": [
    "# define the model\n",
    "model = VAR(df_train)"
   ]
  },
  {
   "cell_type": "code",
   "execution_count": null,
   "metadata": {},
   "outputs": [],
   "source": [
    "# look at lags method 1\n",
    "# looking for the lowest point of the AICS\n",
    "for i in range(5):\n",
    "    result = model.fit(i)\n",
    "    print('Lag Order =', i)\n",
    "    print('AIC : ', result.aic)\n",
    "    print('BIC : ', result.bic)\n",
    "    print('FPE : ', result.fpe)\n",
    "    print('HQIC: ', result.hqic, '\\n')"
   ]
  },
  {
   "cell_type": "code",
   "execution_count": null,
   "metadata": {},
   "outputs": [],
   "source": [
    "# look at lags method 2\n",
    "x = model.select_order(maxlags=10)\n",
    "x.summary()"
   ]
  },
  {
   "cell_type": "code",
   "execution_count": null,
   "metadata": {},
   "outputs": [],
   "source": [
    "# fit model\n",
    "model_fitted = model.fit(10)\n",
    "model_fitted.summary()"
   ]
  },
  {
   "cell_type": "code",
   "execution_count": null,
   "metadata": {},
   "outputs": [],
   "source": [
    "model_fitted.cov_params().to_clipboard()"
   ]
  },
  {
   "cell_type": "code",
   "execution_count": null,
   "metadata": {},
   "outputs": [],
   "source": [
    "# Get the lag order\n",
    "lag_order = model_fitted.k_ar\n",
    "print(lag_order)  #> 4\n",
    "\n"
   ]
  },
  {
   "cell_type": "code",
   "execution_count": null,
   "metadata": {},
   "outputs": [],
   "source": [
    "# Input data for forecasting\n",
    "forecast_input = df_mid_changes.values[-lag_order:]\n"
   ]
  },
  {
   "cell_type": "code",
   "execution_count": null,
   "metadata": {},
   "outputs": [],
   "source": [
    "# Forecast\n",
    "fc = model_fitted.forecast(y=forecast_input, steps=n_obs)\n",
    "df_forecast = pd.DataFrame(fc, index=df_mid_changes.index[-n_obs:], columns=df_mid_changes.columns + '_f')\n"
   ]
  },
  {
   "cell_type": "code",
   "execution_count": null,
   "metadata": {},
   "outputs": [],
   "source": [
    "df_results = pd.concat([df_forecast, df_mid_changes], axis=1)"
   ]
  },
  {
   "cell_type": "code",
   "execution_count": null,
   "metadata": {},
   "outputs": [],
   "source": [
    "df_results.tail(5)"
   ]
  },
  {
   "cell_type": "code",
   "execution_count": null,
   "metadata": {},
   "outputs": [],
   "source": [
    "df_results[\"usdcad_pnl\"] = np.sign(df_results[\"usdcad_mid_change_f\"]) * df_results[\"usdcad_mid_change\"]\n",
    "df_results[\"usdjpy_pnl\"] = np.sign(df_results[\"usdjpy_mid_change_f\"]) * df_results[\"usdjpy_mid_change\"]\n",
    "df_results[\"eurusd_pnl\"] = np.sign(df_results[\"eurusd_mid_change_f\"]) * df_results[\"eurusd_mid_change\"]\n",
    "df_results[\"gbpusd_pnl\"] = np.sign(df_results[\"gbpusd_mid_change_f\"]) * df_results[\"gbpusd_mid_change\"]\n",
    "df_results[\"usdcad_signal\"] = np.sign(df_results[\"usdcad_mid_change_f\"])"
   ]
  },
  {
   "cell_type": "code",
   "execution_count": null,
   "metadata": {},
   "outputs": [],
   "source": [
    "df_results[\"eurusd_pnl\"][-n_obs:-1500000].cumsum().resample(\"1T\").last().plot()\n",
    "plt.legend();"
   ]
  },
  {
   "cell_type": "code",
   "execution_count": null,
   "metadata": {},
   "outputs": [],
   "source": [
    "df_results[\"usdcad_pnl\"][-n_obs:-1500000].cumsum().resample(\"1T\").last().plot()\n",
    "plt.legend();"
   ]
  },
  {
   "cell_type": "code",
   "execution_count": null,
   "metadata": {},
   "outputs": [],
   "source": [
    "df_mid_changes[\"eurusd_sweep_up_pnl\"]"
   ]
  },
  {
   "cell_type": "code",
   "execution_count": null,
   "metadata": {},
   "outputs": [],
   "source": [
    "usdcad_results = df_mid_changes[[\"eurusd_sweep_up_signal\", \"eurusd_sweep_up_pnl\"]]"
   ]
  },
  {
   "cell_type": "code",
   "execution_count": null,
   "metadata": {},
   "outputs": [],
   "source": [
    "###############\n",
    "# Counts the number of ticks between changes in the signal\n",
    "# Calculates pnl per trade \n",
    "###############\n",
    "\n",
    "# these are the df and column for the signals \n",
    "signal_df = usdcad_results\n",
    "signal_column = 'eurusd_sweep_up_signal'\n",
    "\n",
    "# the df and column for the pnl\n",
    "pnl_column = usdcad_results['eurusd_sweep_up_pnl']\n",
    "\n",
    "\n",
    "def SignalPersisenceFast(df,column_name): \n",
    "    array= df[column_name].values\n",
    "    previous_signal  = False \n",
    "    Counter = 0\n",
    "    Times = []\n",
    "    for x in range(len(array)):\n",
    "        if((array[x] == previous_signal or Counter == 0) and array[x] != 0):\n",
    "            Counter = Counter + 1\n",
    "        else:\n",
    "            Times.append(Counter)\n",
    "            if array[x] != 0 : \n",
    "                Counter =  1\n",
    "        previous_signal = array[x]\n",
    "    return Times\n",
    "\n",
    "Times = SignalPersisenceFast(usdcad_results,signal_column)\n",
    "number_trades = (usdcad_results[\"eurusd_sweep_up_signal\"].count() / np.mean(Times))\n",
    "pnl_per_trade = pnl_column.sum() / number_trades\n",
    "\n",
    "print(\"**time in signal/trade**\")\n",
    "print(\"Mean units of time in trade \"f'{(np.mean(Times)):.2f}')\n",
    "print(\"25 percentile time in trade \" + str(np.percentile(Times, 25, axis=0)))\n",
    "print(\"Median time in trade \" + str(np.median(Times)))\n",
    "print(\"75 percentile time in trade \" + str(np.percentile(Times, 75, axis=0)))\n",
    "print()\n",
    "\n",
    "print(\"**performance stats**\")\n",
    "print(\"Number of signals/trades: \"f'{number_trades:.0f}')\n",
    "print(\"Cumulative PnL %: \"f'{(pnl_column.sum() * 100):.2f}')\n",
    "print(\"Average Trade PnL $ per million \"f'{(pnl_per_trade*1000000):.2f}')"
   ]
  },
  {
   "cell_type": "code",
   "execution_count": null,
   "metadata": {},
   "outputs": [],
   "source": [
    "2000000/number_trades"
   ]
  },
  {
   "cell_type": "code",
   "execution_count": null,
   "metadata": {},
   "outputs": [],
   "source": [
    "usdcad_results.count()"
   ]
  },
  {
   "cell_type": "code",
   "execution_count": null,
   "metadata": {},
   "outputs": [],
   "source": [
    "df_mid_changes.tail()"
   ]
  },
  {
   "cell_type": "code",
   "execution_count": null,
   "metadata": {},
   "outputs": [],
   "source": [
    "# sweep model\n",
    "df_all[\"eurusd_3_sum\"] = df_all[\"eurusd_mid_change\"].rolling(10).sum()\n",
    "df_all[\"eurusd_3_sum_stdev\"] = df_all[\"eurusd_3_sum\"].rolling(500).std()\n",
    "\n",
    "\n",
    "# define the up and down sweeps\n",
    "df_all[\"eurusd_sweep_up_signal\"] = np.where(df_all[\"eurusd_3_sum\"] \n",
    "                                                    >= 2*df_all[\"eurusd_3_sum_stdev\"], 1, 0)\n",
    "df_all[\"eurusd_sweep_down_signal\"] = np.where(df_all[\"eurusd_3_sum\"] \n",
    "                                                    <= 2*-df_all[\"eurusd_3_sum_stdev\"], -1, 0)\n",
    "\n",
    "# lag the up signal \n",
    "df_all[\"eurusd_sweep_up_signal\"] = df_all[\"eurusd_sweep_up_signal\"].shift(1)\n",
    "\n",
    "# create the up pnl\n",
    "df_all[\"eurusd_sweep_up_pnl\"] = df_all[\"eurusd_sweep_up_signal\"] * df_all[\"eurusd_mid_change\"]\n",
    "\n",
    "# lag the down signal \n",
    "df_all[\"eurusd_sweep_down_signal\"] = df_all[\"eurusd_sweep_down_signal\"].shift(1)\n",
    "\n",
    "# create the up pnl\n",
    "df_all[\"eurusd_sweep_down_pnl\"] = df_all[\"eurusd_sweep_down_signal\"] * df_all[\"eurusd_mid_change\"]"
   ]
  },
  {
   "cell_type": "code",
   "execution_count": null,
   "metadata": {},
   "outputs": [],
   "source": [
    "df_all[\"eurusd_sweep_up_pnl\"][0:-2499000].cumsum().resample(\"1T\").last().plot()"
   ]
  },
  {
   "cell_type": "code",
   "execution_count": null,
   "metadata": {},
   "outputs": [],
   "source": [
    "df_all[\"eurusd_sweep_up_pnl\"][-n_obs:-3499000].plot()"
   ]
  },
  {
   "cell_type": "code",
   "execution_count": null,
   "metadata": {},
   "outputs": [],
   "source": [
    "df_all[\"gbpusd_spread\"][-n_obs:-3499000].plot()"
   ]
  },
  {
   "cell_type": "code",
   "execution_count": null,
   "metadata": {
    "scrolled": true
   },
   "outputs": [],
   "source": [
    "series.replace(0, np.nan)"
   ]
  },
  {
   "cell_type": "code",
   "execution_count": null,
   "metadata": {},
   "outputs": [],
   "source": [
    "series.mean()*10000000"
   ]
  },
  {
   "cell_type": "code",
   "execution_count": null,
   "metadata": {},
   "outputs": [],
   "source": [
    "df_all[\"eurusd_sweep_down_pnl\"][0:-2499000].replace(0, np.nan).mean()"
   ]
  },
  {
   "cell_type": "code",
   "execution_count": null,
   "metadata": {},
   "outputs": [],
   "source": [
    "df_all[\"eurusd_sweep_up_pnl\"].replace(0, np.nan).mean()"
   ]
  },
  {
   "cell_type": "markdown",
   "metadata": {},
   "source": [
    "### NOTES\n",
    "It looks like you should widen the price with the spike and then things mean revert 0.5 seconds-plus further out.\n",
    "\n",
    "Putting the sweep signal in a VAR doesn't work because all the zeros. "
   ]
  },
  {
   "cell_type": "code",
   "execution_count": null,
   "metadata": {},
   "outputs": [],
   "source": []
  },
  {
   "cell_type": "code",
   "execution_count": null,
   "metadata": {},
   "outputs": [],
   "source": []
  }
 ],
 "metadata": {
  "kernelspec": {
   "display_name": "Python 3",
   "language": "python",
   "name": "python3"
  },
  "language_info": {
   "codemirror_mode": {
    "name": "ipython",
    "version": 3
   },
   "file_extension": ".py",
   "mimetype": "text/x-python",
   "name": "python",
   "nbconvert_exporter": "python",
   "pygments_lexer": "ipython3",
   "version": "3.7.9"
  }
 },
 "nbformat": 4,
 "nbformat_minor": 2
}
