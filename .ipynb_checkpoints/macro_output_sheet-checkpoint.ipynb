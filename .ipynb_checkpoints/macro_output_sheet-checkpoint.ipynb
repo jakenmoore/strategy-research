{
 "cells": [
  {
   "cell_type": "markdown",
   "metadata": {},
   "source": [
    "### Import the libraries and data"
   ]
  },
  {
   "cell_type": "code",
   "execution_count": null,
   "metadata": {
    "hideCode": false,
    "hidePrompt": false
   },
   "outputs": [],
   "source": [
    "# import libraries\n",
    "from datetime import date\n",
    "import pandas as pd\n",
    "pd.options.display.max_columns = None \n",
    "import numpy as np\n",
    "\n",
    "# charting libraries & set style\n",
    "import matplotlib.pyplot as plt\n",
    "%matplotlib inline\n",
    "plt.style.use(\"seaborn\")\n",
    "\n",
    "# ignore warnings\n",
    "import warnings\n",
    "warnings.filterwarnings('ignore')\n",
    "\n",
    "# import our own utilities\n",
    "from macro_model import *\n",
    "\n",
    "# configs\n",
    "today = date.today()\n",
    "data_start_date = \"2005-01-01\"\n",
    "analysis_start_date = \"2020-07-01\"\n",
    "end_date = today"
   ]
  },
  {
   "cell_type": "markdown",
   "metadata": {},
   "source": [
    "### Run the models and plot the results "
   ]
  },
  {
   "cell_type": "code",
   "execution_count": null,
   "metadata": {
    "hideCode": false,
    "hideOutput": false,
    "hidePrompt": false
   },
   "outputs": [],
   "source": [
    "# load the data and add models \n",
    "all_data = load_data(data_start_date, end_date, daily_risk_target)\n",
    "# create risk and rates indices\n",
    "create_indices(all_data)\n",
    "# run main model\n",
    "run_model(all_data)\n",
    "# run valuation models \n",
    "run_valuation_models(all_data)\n",
    "# plot returns\n",
    "all_data[[\"weighted_10y_rates_index_return\", \"weighted_risk_index_return\", \"model_pnl\"]].cumsum().plot()\n",
    "plt.legend();"
   ]
  },
  {
   "cell_type": "markdown",
   "metadata": {},
   "source": [
    "### Show long term performance stats"
   ]
  },
  {
   "cell_type": "code",
   "execution_count": null,
   "metadata": {
    "hideCode": false
   },
   "outputs": [],
   "source": [
    "# show long term performance stats\n",
    "print(f\"Start date: {data_start_date}\")\n",
    "show_performance_stats(all_data[\"2020-01-01\":\"2020-12-31\"])"
   ]
  },
  {
   "cell_type": "markdown",
   "metadata": {},
   "source": [
    "### An example chart"
   ]
  },
  {
   "cell_type": "code",
   "execution_count": null,
   "metadata": {
    "hideCode": false
   },
   "outputs": [],
   "source": [
    "all_data[['spx_index_60d_percentile', 'spx_index', 'spx_index_21d_vol']].plot(subplots=True);"
   ]
  },
  {
   "cell_type": "markdown",
   "metadata": {},
   "source": [
    "### Show returns since 1-October 2020"
   ]
  },
  {
   "cell_type": "code",
   "execution_count": null,
   "metadata": {
    "hideCode": false
   },
   "outputs": [],
   "source": [
    "# model pnl since 1-Oct 2020\n",
    "pnl = pd.DataFrame(all_data[\"model_pnl\"]['2010-10-01':today])\n",
    "pnl.to_clipboard()"
   ]
  },
  {
   "cell_type": "markdown",
   "metadata": {},
   "source": [
    "### Show the latest signals "
   ]
  },
  {
   "cell_type": "code",
   "execution_count": null,
   "metadata": {
    "hideCode": false
   },
   "outputs": [],
   "source": [
    "# show latest signals\n",
    "signals = all_data[[\"risk_signal\", \"rates_signal\"]]['2020-10-01':today]\n",
    "signals"
   ]
  },
  {
   "cell_type": "markdown",
   "metadata": {},
   "source": [
    "### Calculate current allocations and futures positions"
   ]
  },
  {
   "cell_type": "code",
   "execution_count": null,
   "metadata": {
    "hideCode": false
   },
   "outputs": [],
   "source": [
    "# calculate positions\n",
    "output_weights_futures(all_data)\n",
    "output_weights_pct(all_data)\n",
    "futures_positions = all_data[weights_futures_list]\n",
    "current_weights = np.array(all_data[weights_pct_list].shift(1)[-1:].tail())"
   ]
  },
  {
   "cell_type": "markdown",
   "metadata": {},
   "source": [
    "### Show percent allocations "
   ]
  },
  {
   "cell_type": "code",
   "execution_count": null,
   "metadata": {
    "hideCode": false
   },
   "outputs": [],
   "source": [
    "# show percent allocations\n",
    "percent_allocations = futures_positions.shift(1)[-1:].tail().transpose()\n",
    "percent_allocations"
   ]
  },
  {
   "cell_type": "markdown",
   "metadata": {},
   "source": [
    "### Show risk metrics"
   ]
  },
  {
   "cell_type": "code",
   "execution_count": null,
   "metadata": {},
   "outputs": [],
   "source": [
    "signal = all_data[\"risk_signal\"]"
   ]
  },
  {
   "cell_type": "code",
   "execution_count": null,
   "metadata": {},
   "outputs": [],
   "source": [
    "signal[\"euro\"] = signal.index.strftime(\"%d/%m/%Y\")"
   ]
  },
  {
   "cell_type": "code",
   "execution_count": null,
   "metadata": {
    "hideCode": false
   },
   "outputs": [],
   "source": [
    "# show risk metrics \n",
    "show_risk_metrics(all_data[returns_list], current_weights)"
   ]
  },
  {
   "cell_type": "code",
   "execution_count": null,
   "metadata": {},
   "outputs": [],
   "source": [
    "individual_returns(all_data)"
   ]
  },
  {
   "cell_type": "code",
   "execution_count": null,
   "metadata": {},
   "outputs": [],
   "source": [
    "all_data[[\"spx_model_return\", \"xau_model_return\", \"dax_model_return\", \"ty1_model_return\", \"g_1_model_return\", \"rx1_model_return\"]].cumsum().plot();"
   ]
  },
  {
   "cell_type": "code",
   "execution_count": null,
   "metadata": {},
   "outputs": [],
   "source": [
    "all_data[[\"xau_curncy\"]].plot()"
   ]
  },
  {
   "cell_type": "code",
   "execution_count": null,
   "metadata": {},
   "outputs": [],
   "source": [
    "all_data[[\"spx_model_return\", \"xau_model_return\", \"dax_model_return\", \"ty1_model_return\", \"g_1_model_return\", \"rx1_model_return\"]].describe()"
   ]
  },
  {
   "cell_type": "code",
   "execution_count": null,
   "metadata": {},
   "outputs": [],
   "source": []
  },
  {
   "cell_type": "code",
   "execution_count": null,
   "metadata": {},
   "outputs": [],
   "source": []
  }
 ],
 "metadata": {
  "kernelspec": {
   "display_name": "Python 3",
   "language": "python",
   "name": "python3"
  },
  "language_info": {
   "codemirror_mode": {
    "name": "ipython",
    "version": 3
   },
   "file_extension": ".py",
   "mimetype": "text/x-python",
   "name": "python",
   "nbconvert_exporter": "python",
   "pygments_lexer": "ipython3",
   "version": "3.7.9"
  }
 },
 "nbformat": 4,
 "nbformat_minor": 2
}
