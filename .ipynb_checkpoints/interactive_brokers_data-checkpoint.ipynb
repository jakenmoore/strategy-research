{
 "cells": [
  {
   "cell_type": "code",
   "execution_count": 64,
   "metadata": {},
   "outputs": [],
   "source": [
    "# import libraries\n",
    "import pandas as pd\n",
    "pd.options.display.max_columns = None \n",
    "\n",
    "import numpy as np\n",
    "import math\n",
    "import datetime as dt\n",
    "from datetime import timedelta\n",
    "\n",
    "# charting libraries\n",
    "import matplotlib.pyplot as plt\n",
    "%matplotlib inline\n",
    "plt.style.use(\"seaborn\")\n",
    "\n",
    "import warnings\n",
    "warnings.filterwarnings('ignore')\n",
    "\n",
    "from datetime import datetime\n"
   ]
  },
  {
   "cell_type": "code",
   "execution_count": 65,
   "metadata": {},
   "outputs": [],
   "source": [
    "df = pd.read_csv(\"/Users/jakemoore/Code/29Global/trading-with-python-master/tools/tickLogger/tickLogs/tickLog_20210107_135328.csv\")\n"
   ]
  },
  {
   "cell_type": "code",
   "execution_count": 67,
   "metadata": {},
   "outputs": [
    {
     "data": {
      "text/html": [
       "<div>\n",
       "<style scoped>\n",
       "    .dataframe tbody tr th:only-of-type {\n",
       "        vertical-align: middle;\n",
       "    }\n",
       "\n",
       "    .dataframe tbody tr th {\n",
       "        vertical-align: top;\n",
       "    }\n",
       "\n",
       "    .dataframe thead th {\n",
       "        text-align: right;\n",
       "    }\n",
       "</style>\n",
       "<table border=\"1\" class=\"dataframe\">\n",
       "  <thead>\n",
       "    <tr style=\"text-align: right;\">\n",
       "      <th></th>\n",
       "      <th>instrument</th>\n",
       "      <th>price_size</th>\n",
       "      <th>side</th>\n",
       "      <th>price_qty</th>\n",
       "    </tr>\n",
       "    <tr>\n",
       "      <th>t</th>\n",
       "      <th></th>\n",
       "      <th></th>\n",
       "      <th></th>\n",
       "      <th></th>\n",
       "    </tr>\n",
       "  </thead>\n",
       "  <tbody>\n",
       "    <tr>\n",
       "      <th>2021-01-07 18:53:28.880000114</th>\n",
       "      <td>EUR</td>\n",
       "      <td>size</td>\n",
       "      <td>bid</td>\n",
       "      <td>4.000000e+06</td>\n",
       "    </tr>\n",
       "    <tr>\n",
       "      <th>2021-01-07 18:53:28.880000114</th>\n",
       "      <td>EUR</td>\n",
       "      <td>price</td>\n",
       "      <td>ask</td>\n",
       "      <td>1.227380e+00</td>\n",
       "    </tr>\n",
       "    <tr>\n",
       "      <th>2021-01-07 18:53:28.880000114</th>\n",
       "      <td>EUR</td>\n",
       "      <td>size</td>\n",
       "      <td>ask</td>\n",
       "      <td>4.000000e+06</td>\n",
       "    </tr>\n",
       "    <tr>\n",
       "      <th>2021-01-07 18:53:28.880000114</th>\n",
       "      <td>EUR</td>\n",
       "      <td>size</td>\n",
       "      <td>bid</td>\n",
       "      <td>4.000000e+06</td>\n",
       "    </tr>\n",
       "    <tr>\n",
       "      <th>2021-01-07 18:53:28.880000114</th>\n",
       "      <td>EUR</td>\n",
       "      <td>size</td>\n",
       "      <td>ask</td>\n",
       "      <td>4.000000e+06</td>\n",
       "    </tr>\n",
       "  </tbody>\n",
       "</table>\n",
       "</div>"
      ],
      "text/plain": [
       "                              instrument price_size side     price_qty\n",
       "t                                                                     \n",
       "2021-01-07 18:53:28.880000114        EUR       size  bid  4.000000e+06\n",
       "2021-01-07 18:53:28.880000114        EUR      price  ask  1.227380e+00\n",
       "2021-01-07 18:53:28.880000114        EUR       size  ask  4.000000e+06\n",
       "2021-01-07 18:53:28.880000114        EUR       size  bid  4.000000e+06\n",
       "2021-01-07 18:53:28.880000114        EUR       size  ask  4.000000e+06"
      ]
     },
     "execution_count": 67,
     "metadata": {},
     "output_type": "execute_result"
    }
   ],
   "source": [
    "df.columns = ['t', 'instrument', 'price_size','side', 'price_qty']\n",
    "df['t'] = pd.to_datetime(df['t'], unit='s') \n",
    "df = df.set_index('t')\n",
    "df.head()"
   ]
  },
  {
   "cell_type": "code",
   "execution_count": 73,
   "metadata": {},
   "outputs": [],
   "source": [
    "eur = df.loc[df['instrument'] == 'EUR']"
   ]
  },
  {
   "cell_type": "code",
   "execution_count": 74,
   "metadata": {},
   "outputs": [
    {
     "data": {
      "text/html": [
       "<div>\n",
       "<style scoped>\n",
       "    .dataframe tbody tr th:only-of-type {\n",
       "        vertical-align: middle;\n",
       "    }\n",
       "\n",
       "    .dataframe tbody tr th {\n",
       "        vertical-align: top;\n",
       "    }\n",
       "\n",
       "    .dataframe thead th {\n",
       "        text-align: right;\n",
       "    }\n",
       "</style>\n",
       "<table border=\"1\" class=\"dataframe\">\n",
       "  <thead>\n",
       "    <tr style=\"text-align: right;\">\n",
       "      <th></th>\n",
       "      <th>instrument</th>\n",
       "      <th>price_size</th>\n",
       "      <th>side</th>\n",
       "      <th>price_qty</th>\n",
       "    </tr>\n",
       "    <tr>\n",
       "      <th>t</th>\n",
       "      <th></th>\n",
       "      <th></th>\n",
       "      <th></th>\n",
       "      <th></th>\n",
       "    </tr>\n",
       "  </thead>\n",
       "  <tbody>\n",
       "    <tr>\n",
       "      <th>2021-01-07 18:53:28.880000114</th>\n",
       "      <td>EUR</td>\n",
       "      <td>size</td>\n",
       "      <td>bid</td>\n",
       "      <td>4.000000e+06</td>\n",
       "    </tr>\n",
       "    <tr>\n",
       "      <th>2021-01-07 18:53:28.880000114</th>\n",
       "      <td>EUR</td>\n",
       "      <td>price</td>\n",
       "      <td>ask</td>\n",
       "      <td>1.227380e+00</td>\n",
       "    </tr>\n",
       "    <tr>\n",
       "      <th>2021-01-07 18:53:28.880000114</th>\n",
       "      <td>EUR</td>\n",
       "      <td>size</td>\n",
       "      <td>ask</td>\n",
       "      <td>4.000000e+06</td>\n",
       "    </tr>\n",
       "    <tr>\n",
       "      <th>2021-01-07 18:53:28.880000114</th>\n",
       "      <td>EUR</td>\n",
       "      <td>size</td>\n",
       "      <td>bid</td>\n",
       "      <td>4.000000e+06</td>\n",
       "    </tr>\n",
       "    <tr>\n",
       "      <th>2021-01-07 18:53:28.880000114</th>\n",
       "      <td>EUR</td>\n",
       "      <td>size</td>\n",
       "      <td>ask</td>\n",
       "      <td>4.000000e+06</td>\n",
       "    </tr>\n",
       "  </tbody>\n",
       "</table>\n",
       "</div>"
      ],
      "text/plain": [
       "                              instrument price_size side     price_qty\n",
       "t                                                                     \n",
       "2021-01-07 18:53:28.880000114        EUR       size  bid  4.000000e+06\n",
       "2021-01-07 18:53:28.880000114        EUR      price  ask  1.227380e+00\n",
       "2021-01-07 18:53:28.880000114        EUR       size  ask  4.000000e+06\n",
       "2021-01-07 18:53:28.880000114        EUR       size  bid  4.000000e+06\n",
       "2021-01-07 18:53:28.880000114        EUR       size  ask  4.000000e+06"
      ]
     },
     "execution_count": 74,
     "metadata": {},
     "output_type": "execute_result"
    }
   ],
   "source": [
    "eur.head()"
   ]
  },
  {
   "cell_type": "code",
   "execution_count": 83,
   "metadata": {},
   "outputs": [],
   "source": [
    "eurusd = eur.loc[eur['price_size'] == 'price']"
   ]
  },
  {
   "cell_type": "code",
   "execution_count": 90,
   "metadata": {},
   "outputs": [],
   "source": [
    "eurusd_bid = eurusd.loc[eurusd['side'] == 'bid']\n",
    "eurusd_ask = eurusd.loc[eurusd['side'] == 'ask']"
   ]
  },
  {
   "cell_type": "code",
   "execution_count": 88,
   "metadata": {},
   "outputs": [],
   "source": [
    "df_eur = eurusd_bid"
   ]
  },
  {
   "cell_type": "code",
   "execution_count": 92,
   "metadata": {},
   "outputs": [
    {
     "data": {
      "text/html": [
       "<div>\n",
       "<style scoped>\n",
       "    .dataframe tbody tr th:only-of-type {\n",
       "        vertical-align: middle;\n",
       "    }\n",
       "\n",
       "    .dataframe tbody tr th {\n",
       "        vertical-align: top;\n",
       "    }\n",
       "\n",
       "    .dataframe thead th {\n",
       "        text-align: right;\n",
       "    }\n",
       "</style>\n",
       "<table border=\"1\" class=\"dataframe\">\n",
       "  <thead>\n",
       "    <tr style=\"text-align: right;\">\n",
       "      <th></th>\n",
       "      <th>instrument</th>\n",
       "      <th>price_size</th>\n",
       "      <th>side</th>\n",
       "      <th>price_qty</th>\n",
       "    </tr>\n",
       "    <tr>\n",
       "      <th>t</th>\n",
       "      <th></th>\n",
       "      <th></th>\n",
       "      <th></th>\n",
       "      <th></th>\n",
       "    </tr>\n",
       "  </thead>\n",
       "  <tbody>\n",
       "    <tr>\n",
       "      <th>2021-01-07 18:53:28.880000114</th>\n",
       "      <td>EUR</td>\n",
       "      <td>price</td>\n",
       "      <td>ask</td>\n",
       "      <td>1.22738</td>\n",
       "    </tr>\n",
       "    <tr>\n",
       "      <th>2021-01-07 18:53:30.803999901</th>\n",
       "      <td>EUR</td>\n",
       "      <td>price</td>\n",
       "      <td>ask</td>\n",
       "      <td>1.22740</td>\n",
       "    </tr>\n",
       "    <tr>\n",
       "      <th>2021-01-07 18:53:31.571000099</th>\n",
       "      <td>EUR</td>\n",
       "      <td>price</td>\n",
       "      <td>ask</td>\n",
       "      <td>1.22738</td>\n",
       "    </tr>\n",
       "    <tr>\n",
       "      <th>2021-01-07 18:53:31.657999992</th>\n",
       "      <td>EUR</td>\n",
       "      <td>price</td>\n",
       "      <td>ask</td>\n",
       "      <td>1.22740</td>\n",
       "    </tr>\n",
       "    <tr>\n",
       "      <th>2021-01-07 18:53:33.567000151</th>\n",
       "      <td>EUR</td>\n",
       "      <td>price</td>\n",
       "      <td>ask</td>\n",
       "      <td>1.22738</td>\n",
       "    </tr>\n",
       "  </tbody>\n",
       "</table>\n",
       "</div>"
      ],
      "text/plain": [
       "                              instrument price_size side  price_qty\n",
       "t                                                                  \n",
       "2021-01-07 18:53:28.880000114        EUR      price  ask    1.22738\n",
       "2021-01-07 18:53:30.803999901        EUR      price  ask    1.22740\n",
       "2021-01-07 18:53:31.571000099        EUR      price  ask    1.22738\n",
       "2021-01-07 18:53:31.657999992        EUR      price  ask    1.22740\n",
       "2021-01-07 18:53:33.567000151        EUR      price  ask    1.22738"
      ]
     },
     "execution_count": 92,
     "metadata": {},
     "output_type": "execute_result"
    }
   ],
   "source": [
    "eurusd_ask.head()"
   ]
  },
  {
   "cell_type": "code",
   "execution_count": null,
   "metadata": {},
   "outputs": [],
   "source": []
  }
 ],
 "metadata": {
  "kernelspec": {
   "display_name": "Python 3",
   "language": "python",
   "name": "python3"
  },
  "language_info": {
   "codemirror_mode": {
    "name": "ipython",
    "version": 3
   },
   "file_extension": ".py",
   "mimetype": "text/x-python",
   "name": "python",
   "nbconvert_exporter": "python",
   "pygments_lexer": "ipython3",
   "version": "3.7.9"
  }
 },
 "nbformat": 4,
 "nbformat_minor": 4
}
