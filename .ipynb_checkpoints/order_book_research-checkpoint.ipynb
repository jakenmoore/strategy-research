{
 "cells": [
  {
   "cell_type": "code",
   "execution_count": null,
   "metadata": {},
   "outputs": [],
   "source": [
    "# import libraries\n",
    "import pandas as pd\n",
    "import numpy as np\n",
    "import math\n",
    "import datetime\n",
    "from datetime import timedelta\n",
    "\n",
    "import scipy.stats\n",
    "\n",
    "# charting libraries\n",
    "import plotly.offline as py\n",
    "import plotly.graph_objs as go\n",
    "from plotly.subplots import make_subplots\n",
    "from plotly.offline import download_plotlyjs, init_notebook_mode, plot, iplot\n",
    "import matplotlib.pyplot as plt\n",
    "%matplotlib inline\n",
    "\n",
    "import warnings\n",
    "warnings.filterwarnings('ignore')"
   ]
  },
  {
   "cell_type": "code",
   "execution_count": null,
   "metadata": {},
   "outputs": [],
   "source": [
    "import ndjson"
   ]
  },
  {
   "cell_type": "code",
   "execution_count": null,
   "metadata": {},
   "outputs": [],
   "source": [
    "#################\n",
    "# Definitions\n",
    "#################\n",
    "\n",
    "# Where to read data from\n",
    "s3_bucket    = 'mfx-sagemaker-dev'\n",
    "\n",
    "citadel = 'go-data/AUDUSD_20200212-060000_20200212-180000/2020-02-12T06:00:00.051Z-2020-02-12T18:00:00.560Z-Input_CITADEL_top5-1.csv.gz'\n",
    "jpm = 'go-data/AUDUSD_20200212-060000_20200212-180000/2020-02-12T06:00:00.681Z-2020-02-12T17:59:59.970Z-Input_JPM_top5-1.csv.gz'\n",
    "\n",
    "market_1 = 'go-data/AUDUSD_20200212-060000_20200212-180000/2020-02-12T06:00:00.045Z-2020-02-12T18:00:00.897Z-Input_FASTMATCH-JPM-UBS-CITADEL-JEFFERIES-STATESTREET-XTX-HC_TECH-GOLDMAN_SACHS_top5-1.csv.gz'\n",
    "\n",
    "\n",
    "# Bar size\n",
    "resample_period = '30S'\n",
    "\n",
    "# Chart settings\n",
    "chart_padding_secs = 10\n",
    "\n",
    "# Breakout settings\n",
    "breakout_sigma = 1.5\n",
    "\n",
    "# MR settings\n",
    "mr_sigma = 25\n",
    "\n",
    "# Hedging level\n",
    "hedge_level = 3\n",
    "\n",
    "# Hedger interest to fill time in ms\n",
    "interest_to_fill = 10000\n",
    "\n",
    "# n samples for moving average\n",
    "ma_samples = 3\n",
    "\n",
    "# optimise exits\n",
    "optimise_exit = True"
   ]
  },
  {
   "cell_type": "code",
   "execution_count": null,
   "metadata": {},
   "outputs": [],
   "source": [
    "market_1 = pd.read_csv('go-data/USDJPY_20200511-000001_20200515-220000/2020-05-11T00:00:01.050Z-2020-05-15T21:00:10.021Z-Input_FASTMATCH-JPM-UBS-CITADEL-JEFFERIES-STATESTREET-XTX-HC_TECH-GOLDMAN_SACHS_top5-1.csv.gz', index_col='t', parse_dates=['t'])\n",
    "# market_1 = market_1.resample('100ms').last().ffill()\n",
    "market_1['bid'] = (market_1.loc[:, 'Bid0'])\n",
    "market_1['offer'] = market_1.loc[:, 'Offer0']\n",
    "market_1['spread'] = market_1['offer'] - market_1['bid'] \n",
    "market_1['market_mid'] = (market_1['bid'] + market_1['offer']) / 2\n"
   ]
  },
  {
   "cell_type": "code",
   "execution_count": null,
   "metadata": {},
   "outputs": [],
   "source": []
  },
  {
   "cell_type": "code",
   "execution_count": null,
   "metadata": {},
   "outputs": [],
   "source": [
    "hotspot = market_1.loc[market_1['Offer0Mkt'] == \"HOTSPOT\"]"
   ]
  },
  {
   "cell_type": "code",
   "execution_count": null,
   "metadata": {},
   "outputs": [],
   "source": [
    "market_1.tail()"
   ]
  },
  {
   "cell_type": "code",
   "execution_count": null,
   "metadata": {},
   "outputs": [],
   "source": [
    "hotspot['Offer0Qty'].between_time('06:00', '06:10').plot()"
   ]
  },
  {
   "cell_type": "code",
   "execution_count": null,
   "metadata": {},
   "outputs": [],
   "source": [
    "#################\n",
    "# Citadel data\n",
    "#################\n",
    "\n",
    "citadel = pd.read_csv('s3://{}/{}'.format(s3_bucket, citadel), index_col='t', parse_dates=['t'])\n",
    "citadel = citadel.resample(\"100ms\").last().ffill()\n",
    "citadel['bid'] = (citadel.loc[:, 'Bid0'])\n",
    "citadel['offer'] = citadel.loc[:, 'Offer0']\n",
    "citadel['spread'] = citadel['offer'] - citadel['bid'] \n",
    "citadel['citadel_mid'] = (citadel['bid'] + citadel['offer']) / 2\n"
   ]
  },
  {
   "cell_type": "code",
   "execution_count": null,
   "metadata": {},
   "outputs": [],
   "source": [
    "# market_1 = pd.read_csv('s3://{}/{}'.format(s3_bucket, market_5))\n"
   ]
  },
  {
   "cell_type": "code",
   "execution_count": null,
   "metadata": {},
   "outputs": [],
   "source": [
    "# market_1.to_csv(\"market_5.csv\")"
   ]
  },
  {
   "cell_type": "code",
   "execution_count": null,
   "metadata": {},
   "outputs": [],
   "source": []
  },
  {
   "cell_type": "code",
   "execution_count": null,
   "metadata": {},
   "outputs": [],
   "source": [
    "#################\n",
    "# JPM data\n",
    "#################\n",
    "\n",
    "jpm = pd.read_csv('s3://{}/{}'.format(s3_bucket, jpm), index_col='t', parse_dates=['t'])\n",
    "jpm = jpm.resample(\"100ms\").last().ffill()\n",
    "jpm['bid'] = (jpm.loc[:, 'Bid0'])\n",
    "jpm['offer'] = jpm.loc[:, 'Offer0']\n",
    "jpm['spread'] = jpm['offer'] - jpm['bid'] \n",
    "jpm['jpm_mid'] = (jpm['bid'] + jpm['offer']) / 2"
   ]
  },
  {
   "cell_type": "code",
   "execution_count": null,
   "metadata": {},
   "outputs": [],
   "source": [
    "mids = pd.concat([market_1['market_mid'], citadel['citadel_mid'], jpm['jpm_mid']], axis=1)"
   ]
  },
  {
   "cell_type": "code",
   "execution_count": null,
   "metadata": {},
   "outputs": [],
   "source": [
    "cit_skew = citadel['citadel_mid'] / market_1['market_mid'] -1\n",
    "jpm_skew = jpm['jpm_mid'] / market_1['market_mid'] -1"
   ]
  },
  {
   "cell_type": "code",
   "execution_count": null,
   "metadata": {},
   "outputs": [],
   "source": [
    "##### Descriptive stats for skew\n",
    "np.abs(cit_skew).describe()"
   ]
  },
  {
   "cell_type": "code",
   "execution_count": null,
   "metadata": {},
   "outputs": [],
   "source": [
    "np.abs(jpm_skew).describe()"
   ]
  },
  {
   "cell_type": "code",
   "execution_count": null,
   "metadata": {},
   "outputs": [],
   "source": []
  },
  {
   "cell_type": "code",
   "execution_count": null,
   "metadata": {},
   "outputs": [],
   "source": [
    "citadel['spread'].describe()"
   ]
  },
  {
   "cell_type": "code",
   "execution_count": null,
   "metadata": {},
   "outputs": [],
   "source": [
    "#################\n",
    "# Citadel's skew and its predictive value\n",
    "#################\n",
    "mids['return'] = mids['market_mid'].pct_change()\n",
    "mids['citadel_skew'] = mids['citadel_mid'] / mids['market_mid'] - 1\n",
    "mids['citadel_return'] = np.where(mids['citadel_mid'].shift(1) > mids['market_mid'].shift(1), mids['return'], -mids['return'])\n",
    "mids['citadel_return_sum'] = mids['citadel_return'].cumsum()\n",
    "mids['citadel_return_sum'].plot()"
   ]
  },
  {
   "cell_type": "code",
   "execution_count": null,
   "metadata": {},
   "outputs": [],
   "source": []
  },
  {
   "cell_type": "code",
   "execution_count": null,
   "metadata": {},
   "outputs": [],
   "source": []
  },
  {
   "cell_type": "code",
   "execution_count": null,
   "metadata": {},
   "outputs": [],
   "source": []
  },
  {
   "cell_type": "code",
   "execution_count": null,
   "metadata": {},
   "outputs": [],
   "source": [
    "#################\n",
    "# Examine the order book and effect of VWM\n",
    "#################\n",
    "\n",
    "# Read the order book\n",
    "df_orderbook = market_1"
   ]
  },
  {
   "cell_type": "code",
   "execution_count": null,
   "metadata": {},
   "outputs": [],
   "source": [
    "# Best bidders\n",
    "pd.pivot_table(df_orderbook,index=[\"Bid0Mkt\"],values=[\"Bid0Qty\",],aggfunc='count')"
   ]
  },
  {
   "cell_type": "code",
   "execution_count": null,
   "metadata": {},
   "outputs": [],
   "source": [
    "# Best offers\n",
    "pd.pivot_table(df_orderbook,index=[\"Offer0Mkt\"],values=[\"Offer0Qty\",],aggfunc='count')"
   ]
  },
  {
   "cell_type": "code",
   "execution_count": null,
   "metadata": {},
   "outputs": [],
   "source": [
    "# How oftern there is a choice market or better\n",
    "np.sum(df_orderbook[\"Offer0\"] <= df_orderbook[\"Bid0\"])/len(df_orderbook[\"Offer0\"])"
   ]
  },
  {
   "cell_type": "code",
   "execution_count": null,
   "metadata": {},
   "outputs": [],
   "source": [
    "#############################\n",
    "# Volume weighted mids \n",
    "#############################\n",
    "\n",
    "\n",
    "# TODO\n",
    "# vwm where amount on bid or offer > x\n",
    "# vwm where spread < y\n",
    "# vwm using top 5\n",
    "# thickening of the orderbook - exponential weighting of the levels \n",
    "# threshold to get in, threshold to change \n",
    "\n",
    "df_orderbook['MID'] = 0.5 * df_orderbook[\"Offer0\"] + 0.5 * df_orderbook[\"Bid0\"]\n",
    "df_orderbook['vwm'] = (df_orderbook[\"Bid0Qty\"] * df_orderbook[\"Offer0\"] + df_orderbook[\"Bid0\"] * df_orderbook[\"Offer0Qty\"])  / (df_orderbook[\"Bid0Qty\"] + df_orderbook[\"Offer0Qty\"])\n",
    "df_orderbook['vwm_diff'] = (df_orderbook['vwm'] / df_orderbook['MID'] -1)"
   ]
  },
  {
   "cell_type": "code",
   "execution_count": null,
   "metadata": {},
   "outputs": [],
   "source": [
    "# Positive order book imbalance\n",
    "df_orderbook[\"Positive\"] =  df_orderbook['vwm'] > df_orderbook['MID']\n",
    "df_orderbook[\"Uptick\"] = df_orderbook['MID'] <= df_orderbook['MID'].shift(-1)\n",
    "np.sum(df_orderbook[\"Positive\"] * df_orderbook[\"Uptick\"]) / np.sum(df_orderbook[\"Positive\"])"
   ]
  },
  {
   "cell_type": "code",
   "execution_count": null,
   "metadata": {},
   "outputs": [],
   "source": [
    "# Negative order book imbalance\n",
    "df_orderbook[\"DownTick\"] = df_orderbook['MID'] >= df_orderbook['MID'].shift(-1)\n",
    "print(np.sum(df_orderbook[\"DownTick\"] *~df_orderbook[\"Positive\"]) / np.sum(~df_orderbook[\"Positive\"]))"
   ]
  },
  {
   "cell_type": "code",
   "execution_count": null,
   "metadata": {},
   "outputs": [],
   "source": [
    "#How often does bid improve if the signal is positive \n",
    "df_orderbook[\"Bid_improved\"] = df_orderbook['Bid0'] <= df_orderbook['Bid0'].shift(-1)\n",
    "np.sum(df_orderbook[\"Positive\"] * df_orderbook[\"Bid_improved\"]) / np.sum(df_orderbook[\"Positive\"])"
   ]
  },
  {
   "cell_type": "code",
   "execution_count": null,
   "metadata": {},
   "outputs": [],
   "source": [
    "df_orderbook[\"Offer_improved\"] = df_orderbook['Offer0'] >= df_orderbook['Offer0'].shift(-1)\n",
    "np.sum(~df_orderbook[\"Positive\"] * df_orderbook[\"Offer_improved\"]) / np.sum(~df_orderbook[\"Positive\"])"
   ]
  },
  {
   "cell_type": "code",
   "execution_count": null,
   "metadata": {},
   "outputs": [],
   "source": [
    "df_orderbook['obs'] = (df_orderbook[\"Bid0Qty\"] - df_orderbook[\"Offer0Qty\"])  / (df_orderbook[\"Bid0Qty\"] + df_orderbook[\"Offer0Qty\"])\n",
    "\n",
    "threshold = 0.1\n",
    "bid_qquantile  = df_orderbook['obs'].quantile(1 - threshold) # the market is really bid\n",
    "low_qquantile  = df_orderbook['obs'].quantile(threshold) # the market is really offered"
   ]
  },
  {
   "cell_type": "code",
   "execution_count": null,
   "metadata": {},
   "outputs": [],
   "source": []
  },
  {
   "cell_type": "code",
   "execution_count": null,
   "metadata": {},
   "outputs": [],
   "source": [
    "####################\n",
    "# Trading models \n",
    "# Trend and VWM\n",
    "####################\n",
    "\n",
    "# calculate returns\n",
    "df_orderbook['return'] = df_orderbook['MID'].pct_change()\n",
    "\n",
    "\n",
    "# simple trend following model for mid generation\n",
    "df_orderbook['trend_sig'] = np.where(df_orderbook['MID'] > df_orderbook['MID'].rolling(50).mean(), 1, -1)\n",
    "df_orderbook['trend_sig'] = df_orderbook['trend_sig'].shift(1)\n",
    "df_orderbook['trend_return'] = df_orderbook['trend_sig'] * df_orderbook['return']\n",
    "\n",
    "# ma crossover\n",
    "df_orderbook['crossover_sig'] = np.where(df_orderbook['MID'].rolling(10).mean() > df_orderbook['MID'].rolling(200).mean(), 1, -1)\n",
    "df_orderbook['crossover_sig'] = df_orderbook['crossover_sig'].shift(1)\n",
    "df_orderbook['crossover_return'] = df_orderbook['crossover_sig'] * df_orderbook['return']\n",
    "\n",
    "\n",
    "# # ma crossover filtered\n",
    "# df_orderbook['crossover_filtered'] = np.where((df_orderbook['crossover_sig'] == 1) & (df_orderbook['obs'].shift(1)> low_qquantile), df_orderbook['return'], 0)\n",
    "# df_orderbook['crossover_filtered'] = np.where((df_orderbook['crossover_sig'] == -1) & (df_orderbook['obs'].shift(1)< bid_qquantile), -df_orderbook['return'], df_orderbook['crossover_filtered'])\n",
    "\n",
    "\n",
    "# # simple VWM mids model\n",
    "# df_orderbook['vwm_return'] = np.where(df_orderbook['vwm'].shift(1) > df_orderbook['MID'].shift(1), df_orderbook['return'], -df_orderbook['return'])\n",
    "# df_orderbook['vwm_return_sum'] = df_orderbook['vwm_return'].cumsum()\n",
    "\n",
    "\n",
    "# # trading model that adds trend\n",
    "# df_orderbook['vwm_trend_long_signal'] = np.where((df_orderbook['vwm'].shift(1) > df_orderbook['MID'].shift(1)) & (df_orderbook['trend_sig'] == 1), 1, 0)\n",
    "# df_orderbook['vwm_trend_short_signal'] = np.where((df_orderbook['vwm'].shift(1) < df_orderbook['MID'].shift(1)) & (df_orderbook['trend_sig'] == -1), -1, 0)\n",
    "\n",
    "# df_orderbook['vwm_trend_long_return'] = df_orderbook['vwm_trend_long_signal'] * df_orderbook['return']\n",
    "# df_orderbook['vwm_trend_short_return'] = df_orderbook['vwm_trend_short_signal'] * df_orderbook['return']\n",
    "\n",
    "# # this version uses 2* the trend element and 1* the vwm - seems close to Citadel\n",
    "# df_orderbook['vwm_trend_return'] = (df_orderbook['trend_return']*2 + df_orderbook['vwm_return']) / 3\n",
    "\n",
    "# # vwm signal - where vwm > mean(diff)\n",
    "# df_orderbook['vwm_long_signal'] = np.where(df_orderbook['vwm_diff'].shift(1) >= 0.000001, 1, 0)\n",
    "# df_orderbook['vwm_short_signal'] = np.where(df_orderbook['vwm_diff'].shift(1) <= 0.000001, -1, 0)\n",
    "\n",
    "# # filter bigger diffs\n",
    "# df_orderbook['vwm_diff_long_return'] = df_orderbook['vwm_long_signal'] * df_orderbook['return']\n",
    "# df_orderbook['vwm_diff_short_return'] = df_orderbook['vwm_short_signal'] * df_orderbook['return']\n",
    "# df_orderbook['vwm_diff_total_return'] = df_orderbook['vwm_diff_long_return'] + df_orderbook['vwm_diff_short_return']\n",
    "# df_orderbook['vwm_diff_total_return_sum'] = df_orderbook['vwm_diff_total_return'].cumsum()\n"
   ]
  },
  {
   "cell_type": "code",
   "execution_count": null,
   "metadata": {},
   "outputs": [],
   "source": [
    "df_orderbook['crossover_return'].between_time('07:00', '18:00').cumsum().resample(\"1T\").last().plot()\n"
   ]
  },
  {
   "cell_type": "code",
   "execution_count": null,
   "metadata": {},
   "outputs": [],
   "source": [
    "df_orderbook.tail()"
   ]
  },
  {
   "cell_type": "code",
   "execution_count": null,
   "metadata": {},
   "outputs": [],
   "source": [
    "import scipy.stats\n",
    "scipy.stats.norm(100, 12).pdf(98)"
   ]
  },
  {
   "cell_type": "code",
   "execution_count": null,
   "metadata": {},
   "outputs": [],
   "source": [
    "scipy.stats.norm"
   ]
  },
  {
   "cell_type": "code",
   "execution_count": null,
   "metadata": {},
   "outputs": [],
   "source": [
    "#################\n",
    "# Choice market, go the way of greater volume or greater trend\n",
    "# Trend seems to work best \n",
    "#################"
   ]
  },
  {
   "cell_type": "code",
   "execution_count": null,
   "metadata": {},
   "outputs": [],
   "source": [
    "df_orderbook['choice_signal'] = np.where((df_orderbook[\"Offer0\"].shift(1) <= df_orderbook[\"Bid0\"].shift(1)), 1, 0)\n"
   ]
  },
  {
   "cell_type": "code",
   "execution_count": null,
   "metadata": {},
   "outputs": [],
   "source": [
    "df_orderbook['volume_signal'] = np.where(df_orderbook[\"Bid0Qty\"] > df_orderbook[\"Offer0Qty\"], 1, -1)"
   ]
  },
  {
   "cell_type": "code",
   "execution_count": null,
   "metadata": {},
   "outputs": [],
   "source": [
    "df_orderbook['choice_volume_strategy'] = (df_orderbook['choice_signal'] * df_orderbook['trend_sig']) * df_orderbook['return'].shift(1)"
   ]
  },
  {
   "cell_type": "code",
   "execution_count": null,
   "metadata": {},
   "outputs": [],
   "source": [
    "# df_orderbook['choice_volume_strategy'].cumsum().plot()"
   ]
  },
  {
   "cell_type": "code",
   "execution_count": null,
   "metadata": {},
   "outputs": [],
   "source": [
    "print(f\"pnl per trade {df_orderbook['choice_volume_strategy'].replace(0, np.NaN).mean()}\")"
   ]
  },
  {
   "cell_type": "code",
   "execution_count": null,
   "metadata": {},
   "outputs": [],
   "source": [
    "pnl = pd.DataFrame(df_orderbook['trend_return'])\n"
   ]
  },
  {
   "cell_type": "code",
   "execution_count": null,
   "metadata": {},
   "outputs": [],
   "source": [
    "#############################\n",
    "# order flow imbalance  \n",
    "#############################\n",
    "\n",
    "# create a df called quotes \n",
    "quotes = pd.DataFrame()\n",
    "quotes['bid_price'] = df_orderbook[\"Bid0\"]\n",
    "quotes['ask_price'] = df_orderbook[\"Offer0\"]\n",
    "quotes['bid_size'] = df_orderbook['Bid0Qty']\n",
    "quotes['ask_size'] = df_orderbook['Offer0Qty']"
   ]
  },
  {
   "cell_type": "code",
   "execution_count": null,
   "metadata": {},
   "outputs": [],
   "source": [
    "def ofi(quotes):\n",
    "    qdf = quotes.copy()\n",
    "\n",
    "    qdf['mid_change'] = ((qdf['bid_price'] + qdf['ask_price']) / 2.0).pct_change()\n",
    "    qdf['prev_bidprice'] = qdf['bid_price'].shift()\n",
    "    qdf['prev_bidsize'] = qdf['bid_size'].shift()\n",
    "    qdf['prev_askprice'] = qdf['ask_price'].shift()\n",
    "    qdf['prev_asksize'] = qdf['ask_size'].shift()\n",
    "\n",
    "    # Fix any missing/invalid data\n",
    "    qdf.replace([np.inf, np.NINF], np.nan, inplace=True)\n",
    "    qdf.fillna(method=\"ffill\", inplace=True)\n",
    "    qdf.fillna(method=\"bfill\", inplace=True)\n",
    "    \n",
    "    bid_geq = qdf['bid_price'] >= qdf['prev_bidprice']\n",
    "    bid_leq = qdf['bid_price'] <= qdf['prev_bidprice']\n",
    "    ask_geq = qdf['ask_price'] >= qdf['prev_askprice']\n",
    "    ask_leq = qdf['ask_price'] <= qdf['prev_askprice']\n",
    "    \n",
    "    qdf['ofi'] = np.zeros(len(qdf))\n",
    "    qdf['ofi'].loc[bid_geq] += qdf['bid_size'].loc[bid_geq]\n",
    "    qdf['ofi'].loc[bid_leq] -= qdf['prev_bidsize'].loc[bid_leq]\n",
    "    qdf['ofi'].loc[ask_geq] += qdf['prev_asksize'].loc[ask_geq]\n",
    "    qdf['ofi'].loc[ask_leq] -= qdf['ask_size'].loc[ask_leq]    \n",
    "    \n",
    "    return qdf"
   ]
  },
  {
   "cell_type": "code",
   "execution_count": null,
   "metadata": {},
   "outputs": [],
   "source": []
  },
  {
   "cell_type": "code",
   "execution_count": null,
   "metadata": {},
   "outputs": [],
   "source": []
  },
  {
   "cell_type": "code",
   "execution_count": null,
   "metadata": {},
   "outputs": [],
   "source": [
    "# run the order flow imbalance function \n",
    "order_flow = ofi(quotes)\n",
    "# simple model that uses ofi to go long or short for the next tick \n",
    "order_flow['signal'] = np.where(order_flow['ofi'].rolling(50).mean() > 0, 1, -1)\n",
    "order_flow['signal'] = order_flow['signal'].shift(1)\n",
    "\n",
    "order_flow['pnl'] = order_flow['signal'] * order_flow['mid_change']\n",
    "\n",
    "# \n",
    "order_flow['obs'] = (order_flow[\"bid_size\"] - order_flow[\"ask_size\"])  / (order_flow[\"bid_size\"] + order_flow[\"ask_size\"])\n",
    "threshold = 0.1\n",
    "bid_qquantile  = order_flow['obs'].quantile(1 - threshold) # the market is really bid\n",
    "low_qquantile  = order_flow['obs'].quantile(threshold) # the market is really offered\n",
    "\n",
    "\n",
    "# ofi filtered\n",
    "order_flow['pnl_filtered'] = np.where((order_flow['signal'] == 1) & (order_flow['obs'].shift(1)> low_qquantile), order_flow['mid_change'], 0)\n",
    "order_flow['pnl_filtered'] = np.where((order_flow['signal'] == -1) & (order_flow['obs'].shift(1)< bid_qquantile), -order_flow['mid_change'], order_flow['pnl_filtered'])\n",
    "\n",
    "order_flow['pnl'].cumsum().resample(\"1T\").last().plot()"
   ]
  },
  {
   "cell_type": "code",
   "execution_count": null,
   "metadata": {},
   "outputs": [],
   "source": [
    "df_orderbook['trend_return'].replace(0, np.NaN).std()\n"
   ]
  },
  {
   "cell_type": "code",
   "execution_count": null,
   "metadata": {},
   "outputs": [],
   "source": []
  },
  {
   "cell_type": "code",
   "execution_count": null,
   "metadata": {},
   "outputs": [],
   "source": [
    "###############\n",
    "# plots the pnl of various order book models \n",
    "# vwm is volume weighted mid\n",
    "# ofi is order flow imbalance\n",
    "###############\n",
    "# pnl = pd.DataFrame(mids['citadel_return_sum'])\n",
    "# pnl['ofi'] = order_flow['pnl'].cumsum()\n",
    "\n",
    "pnl['crossover'] = df_orderbook['crossover_return'].cumsum()\n",
    "\n",
    "pnl_resample = pnl.resample(\"1T\").last()\n"
   ]
  },
  {
   "cell_type": "code",
   "execution_count": null,
   "metadata": {},
   "outputs": [],
   "source": [
    "pnl.corr(method='pearson')"
   ]
  },
  {
   "cell_type": "code",
   "execution_count": null,
   "metadata": {},
   "outputs": [],
   "source": []
  },
  {
   "cell_type": "code",
   "execution_count": null,
   "metadata": {},
   "outputs": [],
   "source": []
  },
  {
   "cell_type": "code",
   "execution_count": null,
   "metadata": {},
   "outputs": [],
   "source": [
    "########################\n",
    "# OFI using top x levels \n",
    "########################\n",
    "\n",
    "df_all = pd.read_csv('/Volumes/GoogleDrive/Shared drives/Data/fx_tick/data.csv')\n",
    "df_all['t'] = pd.to_datetime(df_all['t'],errors='coerce')\n",
    "\n",
    "df_all.set_index(\"t\",inplace=True)\n",
    "\n",
    "df_all = df_all.resample(\"100ms\").last()\n",
    "\n",
    "df_all[\"Offer0Qty\"] = df_all[\"Offer0Qty\"].astype('float')\n",
    "df_all[\"Offer0\"] = df_all[\"Offer0\"].astype('float')\n",
    "df_all[\"Bid0\"] = df_all[\"Bid0\"].astype('float')\n",
    "df_all[\"Bid0Qty\"] = df_all[\"Bid0Qty\"].astype('float')\n",
    "\n",
    "df_all[\"Offer1Qty\"] = df_all[\"Offer1Qty\"].astype('float')\n",
    "df_all[\"Offer1\"] = df_all[\"Offer1\"].astype('float')\n",
    "df_all[\"Bid1\"] = df_all[\"Bid1\"].astype('float')\n",
    "df_all[\"Bid1Qty\"] = df_all[\"Bid1Qty\"].astype('float')\n",
    "\n",
    "df_all[\"Offer2Qty\"] = df_all[\"Offer2Qty\"].astype('float')\n",
    "df_all[\"Offer2\"] = df_all[\"Offer2\"].astype('float')\n",
    "df_all[\"Bid2\"] = df_all[\"Bid2\"].astype('float')\n",
    "df_all[\"Bid2Qty\"] = df_all[\"Bid2Qty\"].astype('float')\n",
    "\n",
    "df_all[\"Offer3Qty\"] = df_all[\"Offer3Qty\"].astype('float')\n",
    "df_all[\"Offer3\"] = df_all[\"Offer3\"].astype('float')\n",
    "df_all[\"Bid3\"] = df_all[\"Bid3\"].astype('float')\n",
    "df_all[\"Bid3Qty\"] = df_all[\"Bid3Qty\"].astype('float')\n",
    "\n",
    "df_all[\"Offer4Qty\"] = df_all[\"Offer4Qty\"].astype('float')\n",
    "df_all[\"Offer4\"] = df_all[\"Offer4\"].astype('float')\n",
    "df_all[\"Bid4\"] = df_all[\"Bid4\"].astype('float')\n",
    "df_all[\"Bid4Qty\"] = df_all[\"Bid4Qty\"].astype('float')"
   ]
  },
  {
   "cell_type": "code",
   "execution_count": null,
   "metadata": {},
   "outputs": [],
   "source": [
    "\n",
    "def ofi(quotes,level):\n",
    "    qdf = quotes.copy()\n",
    "    bid_price_label = 'Bid' + str(level)\n",
    "    offer_price_label = 'Offer' + str(level)\n",
    "    bid_qty_label = 'Bid' +str(level) + 'Qty'\n",
    "    offer_qty_label = 'Offer' + str(level)+'Qty'\n",
    "\n",
    "    qdf['prev_bidprice'] = qdf[bid_price_label].shift()\n",
    "    qdf['prev_bidsize'] = qdf[bid_qty_label].shift()\n",
    "    qdf['prev_askprice'] = qdf[offer_price_label].shift()\n",
    "    qdf['prev_asksize'] = qdf[offer_qty_label].shift()\n",
    "\n",
    "    # Fix any missing/invalid data\n",
    "    qdf.replace([np.inf, np.NINF], np.nan, inplace=True)\n",
    "    qdf.fillna(method=\"ffill\", inplace=True)\n",
    "    qdf.fillna(method=\"bfill\", inplace=True)\n",
    "    \n",
    "    bid_geq = qdf[bid_price_label] >= qdf['prev_bidprice']\n",
    "    bid_leq = qdf[bid_price_label] <= qdf['prev_bidprice']\n",
    "    ask_geq = qdf[offer_price_label] >= qdf['prev_askprice']\n",
    "    ask_leq = qdf[offer_price_label] <= qdf['prev_askprice']\n",
    "    \n",
    "    qdf['ofi'] = np.zeros(len(qdf))\n",
    "    qdf['ofi'].loc[bid_geq] += qdf[bid_qty_label].loc[bid_geq]\n",
    "    qdf['ofi'].loc[bid_leq] -= qdf['prev_bidsize'].loc[bid_leq]\n",
    "    qdf['ofi'].loc[ask_geq] += qdf['prev_asksize'].loc[ask_geq]\n",
    "    qdf['ofi'].loc[ask_leq] -= qdf[offer_qty_label].loc[ask_leq]    \n",
    "    return qdf['ofi']\n",
    "\n",
    "\n"
   ]
  },
  {
   "cell_type": "code",
   "execution_count": null,
   "metadata": {},
   "outputs": [],
   "source": [
    "# OFI with levels 1, 2 and 3 (works better than 0,1,2)\n",
    "# 100 period MA works well\n",
    "\n",
    "df_all['ofi'] = ofi(df_all,1) +ofi(df_all,2) +ofi(df_all,3) \n",
    "df_all['ofi_signal'] = np.where(df_all['ofi'].rolling(100).mean() > 0, 1, -1)\n",
    "df_all['mid'] = ((df_all['Bid0'] + df_all['Offer0']) / 2.0)\n",
    "df_all['mid_change'] = ((df_all['Bid0'] + df_all['Offer0']) / 2.0).pct_change()\n",
    "df_all['ofi_signal'] = df_all['ofi_signal'].shift(1)\n",
    "df_all['pnl'] = df_all['ofi_signal'] * df_all['mid_change']\n",
    "\n",
    "print(\"Cumulative PnL \" + str(df_all['pnl'].cumsum().iloc[-1]))"
   ]
  },
  {
   "cell_type": "code",
   "execution_count": null,
   "metadata": {},
   "outputs": [],
   "source": [
    "(df_all['ofi']).between_time('07:00', '07:01').plot()"
   ]
  },
  {
   "cell_type": "code",
   "execution_count": null,
   "metadata": {},
   "outputs": [],
   "source": []
  },
  {
   "cell_type": "code",
   "execution_count": null,
   "metadata": {},
   "outputs": [],
   "source": [
    "df_all['pnl'].cumsum().resample(\"1T\").last().plot()"
   ]
  },
  {
   "cell_type": "code",
   "execution_count": null,
   "metadata": {},
   "outputs": [],
   "source": [
    "per_trade_avg = df_all['pnl'].replace(0, np.NaN).mean()\n",
    "per_trade_avg = per_trade_avg * 34\n",
    "print(per_trade_avg)"
   ]
  },
  {
   "cell_type": "code",
   "execution_count": null,
   "metadata": {},
   "outputs": [],
   "source": [
    "df_all['pnl'].cumsum().resample(\"1T\").last().plot()"
   ]
  },
  {
   "cell_type": "code",
   "execution_count": null,
   "metadata": {},
   "outputs": [],
   "source": [
    "df_all['vwm'] = (df_all[\"Bid1Qty\"] * df_all[\"Offer1\"] + df_all[\"Bid1\"] * df_all[\"Offer1Qty\"])  / (df_all[\"Bid1Qty\"] + df_all[\"Offer1Qty\"])"
   ]
  },
  {
   "cell_type": "code",
   "execution_count": null,
   "metadata": {},
   "outputs": [],
   "source": [
    "df_all['vwm_signal'] = np.where(df_all['vwm'] > df_all['mid'], 1, -1)\n",
    "df_all['vwm_signal'] = df_all['vwm_signal'].shift(1)\n",
    "df_all['vwm_pnl'] = df_all['vwm_signal'] * df_all['mid_change']"
   ]
  },
  {
   "cell_type": "code",
   "execution_count": null,
   "metadata": {},
   "outputs": [],
   "source": [
    "df_all['combined_signal'] = np.sign(df_all['vwm_signal'] + df_orderbook['crossover_sig'] + df_all['ofi_signal'])\n",
    "df_all['combined_pnl'] = df_all['combined_signal'] * df_all['mid_change']"
   ]
  },
  {
   "cell_type": "code",
   "execution_count": null,
   "metadata": {
    "scrolled": true
   },
   "outputs": [],
   "source": [
    "df_all['combined_pnl'].between_time(\"07:00\", \"17:00\").cumsum().resample(\"1T\").last().plot()"
   ]
  },
  {
   "cell_type": "code",
   "execution_count": null,
   "metadata": {},
   "outputs": [],
   "source": [
    "df_all.tail()"
   ]
  },
  {
   "cell_type": "code",
   "execution_count": null,
   "metadata": {},
   "outputs": [],
   "source": [
    "spike = 0.000001\n",
    "df_all['rolling_change'] = df_all['mid_change'].rolling(10).sum()\n",
    "df_all['vwm_adj'] = np.where(np.abs(df_all['rolling_change'].shift(1)) >= spike, 0, df_all['vwm_signal'])\n",
    "df_all['vwm_adj'] = np.where(df_all['vwm_adj'] == 0, df_all['vwm_signal'].shift(1), df_all['vwm_adj'])"
   ]
  },
  {
   "cell_type": "code",
   "execution_count": null,
   "metadata": {},
   "outputs": [],
   "source": [
    "df_all['vwm_pnl'] = df_all['vwm_adj'] * df_all['mid_change']\n",
    "df_all['vwm_pnl'].between_time(\"07:00\", \"17:00\").cumsum().resample(\"1T\").last().plot()"
   ]
  },
  {
   "cell_type": "code",
   "execution_count": null,
   "metadata": {},
   "outputs": [],
   "source": [
    "pnl2 = pd.DataFrame(df_all['vwm_pnl'])\n",
    "pnl2['ofi_pnl'] = df_all['pnl']"
   ]
  },
  {
   "cell_type": "code",
   "execution_count": null,
   "metadata": {},
   "outputs": [],
   "source": [
    "pnl2.corr(method='pearson')"
   ]
  },
  {
   "cell_type": "code",
   "execution_count": null,
   "metadata": {},
   "outputs": [],
   "source": [
    "pnl2['combined'] = (df_all['vwm_pnl'] + df_all['pnl'])/2"
   ]
  },
  {
   "cell_type": "code",
   "execution_count": null,
   "metadata": {},
   "outputs": [],
   "source": [
    "pnl3 = pd.DataFrame(df_orderbook['crossover_return'].between_time('06:00', '18:00'))"
   ]
  },
  {
   "cell_type": "code",
   "execution_count": null,
   "metadata": {},
   "outputs": [],
   "source": [
    "pnl3['ofi'] = df_all['pnl'].between_time('06:00', '18:00')"
   ]
  },
  {
   "cell_type": "code",
   "execution_count": null,
   "metadata": {},
   "outputs": [],
   "source": [
    "pnl3.cumsum().resample(\"1T\").last().plot()"
   ]
  },
  {
   "cell_type": "code",
   "execution_count": null,
   "metadata": {},
   "outputs": [],
   "source": [
    "pnl3.corr(method='pearson')"
   ]
  },
  {
   "cell_type": "code",
   "execution_count": null,
   "metadata": {},
   "outputs": [],
   "source": []
  },
  {
   "cell_type": "code",
   "execution_count": null,
   "metadata": {},
   "outputs": [],
   "source": [
    "h = pnl2['combined'].resample(\"B\").sum() "
   ]
  },
  {
   "cell_type": "code",
   "execution_count": null,
   "metadata": {},
   "outputs": [],
   "source": [
    "dr = h * 24 *252"
   ]
  },
  {
   "cell_type": "code",
   "execution_count": null,
   "metadata": {},
   "outputs": [],
   "source": [
    "m = h.mean() * 252\n"
   ]
  },
  {
   "cell_type": "code",
   "execution_count": null,
   "metadata": {},
   "outputs": [],
   "source": [
    "std = h.std() * np.sqrt(252)"
   ]
  },
  {
   "cell_type": "code",
   "execution_count": null,
   "metadata": {},
   "outputs": [],
   "source": [
    "m/std"
   ]
  },
  {
   "cell_type": "code",
   "execution_count": null,
   "metadata": {},
   "outputs": [],
   "source": [
    "df_all['pnl_filtered'].replace(0, np.NaN).mean()"
   ]
  },
  {
   "cell_type": "code",
   "execution_count": null,
   "metadata": {},
   "outputs": [],
   "source": [
    "np.abs(df_all['mid_change']).describe()"
   ]
  },
  {
   "cell_type": "code",
   "execution_count": null,
   "metadata": {},
   "outputs": [],
   "source": []
  },
  {
   "cell_type": "code",
   "execution_count": null,
   "metadata": {},
   "outputs": [],
   "source": [
    "#############################\n",
    "# build a regression to explain Citadel's mid\n",
    "#############################\n",
    "cit_regression = pd.concat([df_orderbook['vwm'], citadel['citadel_mid'], df_orderbook['MID']], axis=1)\n",
    "\n",
    "cit_regression['citadel_mid_next'] = cit_regression['citadel_mid'].shift(-1)\n",
    "cit_regression['citadel_mid_prev'] = cit_regression['citadel_mid'].shift(1)\n",
    "cit_regression['citadel_mid_next_change'] = cit_regression['citadel_mid'].shift(-1).pct_change()\n",
    "\n",
    "cit_regression['trend'] = cit_regression['MID'].rolling(50).mean()\n",
    "cit_regression['trend_change'] = cit_regression['trend'].pct_change()\n",
    "cit_regression['vwm_change'] = cit_regression['vwm'].pct_change()\n",
    "\n",
    "## Logistic \n",
    "cit_regression['vwm_sign'] = np.sign(cit_regression['vwm'] - cit_regression['MID']).shift(1)\n",
    "cit_regression['citadel_skew'] = (cit_regression['citadel_mid'] / cit_regression['MID'] -1)\n",
    "cit_regression['citadel_skew_sign'] = np.sign(cit_regression['citadel_mid'] / cit_regression['MID'] -1)\n",
    "cit_regression['trend_sign'] = np.sign(cit_regression['MID'] - cit_regression['trend']).shift(1)\n",
    "\n",
    "# Clean the data to remove infs and nans\n",
    "cit_regression = cit_regression.replace([np.inf, np.NaN], 0)\n",
    "\n",
    "\n",
    "import statsmodels.api as sm\n",
    "cit_regression = cit_regression.replace(np.NaN, 0)\n",
    "X = cit_regression[['trend_sign', 'vwm_sign']]\n",
    "y = cit_regression['citadel_skew_sign']\n",
    "## fit a OLS model with intercept on TV and Radio\n",
    "# X = sm.add_constant(X)\n",
    "est = sm.OLS(y, X).fit()\n",
    "print(est.summary())"
   ]
  },
  {
   "cell_type": "code",
   "execution_count": null,
   "metadata": {},
   "outputs": [],
   "source": [
    "# trend following predicting the next mid\n",
    "df_orderbook['trend_return'].cumsum().plot()"
   ]
  },
  {
   "cell_type": "code",
   "execution_count": null,
   "metadata": {},
   "outputs": [],
   "source": [
    "# trend and VWM predicting the next mid\n",
    "df_orderbook['vwm_return_sum'].plot()"
   ]
  },
  {
   "cell_type": "code",
   "execution_count": null,
   "metadata": {},
   "outputs": [],
   "source": [
    "# average \"return\" trend model\n",
    "df_orderbook['trend_return'].replace(0, np.NaN).mean()"
   ]
  },
  {
   "cell_type": "code",
   "execution_count": null,
   "metadata": {},
   "outputs": [],
   "source": [
    "df_orderbook.tail()"
   ]
  },
  {
   "cell_type": "code",
   "execution_count": null,
   "metadata": {},
   "outputs": [],
   "source": []
  },
  {
   "cell_type": "code",
   "execution_count": null,
   "metadata": {},
   "outputs": [],
   "source": [
    "df_all['vwm0'] = (df_all[\"Bid0Qty\"] * df_all[\"Offer0\"] + df_all[\"Bid0\"] * df_all[\"Offer0Qty\"])  / (df_all[\"Bid0Qty\"] + df_all[\"Offer0Qty\"])\n",
    "df_all['vwm1'] = (df_all[\"Bid1Qty\"] * df_all[\"Offer1\"] + df_all[\"Bid1\"] * df_all[\"Offer1Qty\"])  / (df_all[\"Bid1Qty\"] + df_all[\"Offer1Qty\"])\n",
    "df_all['vwm_diff'] = df_all['vwm1'] - df_all['vwm0']\n",
    "\n",
    "# two levels\n",
    "df_all['weighted_bid_2'] = (df_all[\"Bid0Qty\"] * df_all[\"Bid0\"] + df_all[\"Bid1Qty\"] * df_all[\"Bid1\"]) / (df_all[\"Bid0Qty\"] + df_all[\"Bid1Qty\"])\n",
    "df_all['weighted_offer_2'] = (df_all[\"Offer0Qty\"] * df_all[\"Offer0\"] + df_all[\"Offer1Qty\"] * df_all[\"Offer1\"]) / (df_all[\"Offer0Qty\"] + df_all[\"Offer1Qty\"])\n",
    "df_all['conventionally_weighted_mid_2'] = (df_all['weighted_bid_2'] + df_all['weighted_offer_2']) / 2\n",
    "\n",
    "df_all['weighted_bid_notional_2'] = df_all[\"Bid0Qty\"] + df_all[\"Bid1Qty\"] \n",
    "df_all['weighted_offer_notional_2'] = df_all[\"Offer0Qty\"] + df_all[\"Offer1Qty\"] \n",
    "\n",
    "# three levels\n",
    "df_all['weighted_bid_3'] = (df_all[\"Bid0Qty\"] * df_all[\"Bid0\"] + df_all[\"Bid1Qty\"] * df_all[\"Bid1\"] + df_all[\"Bid2Qty\"] * df_all[\"Bid2\"]) / (df_all[\"Bid0Qty\"] + df_all[\"Bid1Qty\"] + df_all[\"Bid2Qty\"])\n",
    "df_all['weighted_offer_3'] = (df_all[\"Offer0Qty\"] * df_all[\"Offer0\"] + df_all[\"Offer1Qty\"] * df_all[\"Offer1\"] + df_all[\"Offer2Qty\"] * df_all[\"Offer2\"]) / (df_all[\"Offer0Qty\"] + df_all[\"Offer1Qty\"] + df_all[\"Offer2Qty\"])\n",
    "df_all['conventionally_weighted_mid_3'] = (df_all['weighted_bid_3'] + df_all['weighted_offer_3']) / 2\n",
    "\n",
    "df_all['weighted_bid_notional_3'] = df_all[\"Bid0Qty\"] + df_all[\"Bid1Qty\"] + df_all[\"Bid2Qty\"]\n",
    "df_all['weighted_offer_notional_3'] = df_all[\"Offer0Qty\"] + df_all[\"Offer1Qty\"] + df_all[\"Offer2Qty\"]\n",
    "\n",
    "# four levels\n",
    "df_all['weighted_bid_4'] = (df_all[\"Bid0Qty\"] * df_all[\"Bid0\"] + df_all[\"Bid1Qty\"] * df_all[\"Bid1\"] + df_all[\"Bid2Qty\"] * df_all[\"Bid2\"] + df_all[\"Bid3Qty\"] * df_all[\"Bid3\"]) / (df_all[\"Bid0Qty\"] + df_all[\"Bid1Qty\"] + df_all[\"Bid2Qty\"] + df_all[\"Bid3Qty\"])\n",
    "df_all['weighted_offer_4'] = (df_all[\"Offer0Qty\"] * df_all[\"Offer0\"] + df_all[\"Offer1Qty\"] * df_all[\"Offer1\"] + df_all[\"Offer2Qty\"] * df_all[\"Offer2\"] + df_all[\"Offer3Qty\"] * df_all[\"Offer3\"]) / (df_all[\"Offer0Qty\"] + df_all[\"Offer1Qty\"] + df_all[\"Offer2Qty\"] + df_all[\"Offer3Qty\"])\n",
    "df_all['conventionally_weighted_mid_4'] = (df_all['weighted_bid_4'] + df_all['weighted_offer_4']) / 2\n",
    "\n",
    "df_all['weighted_bid_notional_4'] = df_all[\"Bid0Qty\"] + df_all[\"Bid1Qty\"] + df_all[\"Bid2Qty\"] + df_all[\"Bid3Qty\"]\n",
    "df_all['weighted_offer_notional_4'] = df_all[\"Offer0Qty\"] + df_all[\"Offer1Qty\"] + df_all[\"Offer2Qty\"] + df_all[\"Offer3Qty\"]\n",
    "\n",
    "# five levels\n",
    "# four levels\n",
    "df_all['weighted_bid_5'] = (df_all[\"Bid0Qty\"] * df_all[\"Bid0\"] + df_all[\"Bid1Qty\"] * df_all[\"Bid1\"] + df_all[\"Bid2Qty\"] * df_all[\"Bid2\"] + df_all[\"Bid3Qty\"] * df_all[\"Bid3\"] + df_all[\"Bid4Qty\"] * df_all[\"Bid4\"]) / (df_all[\"Bid0Qty\"] + df_all[\"Bid1Qty\"] + df_all[\"Bid2Qty\"] + df_all[\"Bid3Qty\"] + df_all[\"Bid4Qty\"])\n",
    "df_all['weighted_offer_5'] = (df_all[\"Offer0Qty\"] * df_all[\"Offer0\"] + df_all[\"Offer1Qty\"] * df_all[\"Offer1\"] + df_all[\"Offer2Qty\"] * df_all[\"Offer2\"] + df_all[\"Offer3Qty\"] * df_all[\"Offer3\"] + df_all[\"Offer4Qty\"] * df_all[\"Offer4\"]) / (df_all[\"Offer0Qty\"] + df_all[\"Offer1Qty\"] + df_all[\"Offer2Qty\"] + df_all[\"Offer3Qty\"] + df_all[\"Offer4Qty\"])\n",
    "df_all['conventionally_weighted_mid_5'] = (df_all['weighted_bid_5'] + df_all['weighted_offer_5']) / 2\n",
    "\n",
    "df_all['weighted_bid_notional_5'] = df_all[\"Bid0Qty\"] + df_all[\"Bid1Qty\"] + df_all[\"Bid2Qty\"] + df_all[\"Bid3Qty\"] + df_all[\"Bid4Qty\"]\n",
    "df_all['weighted_offer_notional_5'] = df_all[\"Offer0Qty\"] + df_all[\"Offer1Qty\"] + df_all[\"Offer2Qty\"] + df_all[\"Offer3Qty\"] + df_all[\"Offer4Qty\"]\n",
    "\n",
    "df_all['vwm'] = df_all['vwm1']\n",
    "# df_all['vwm'] = df_all['vwm1']\n",
    "\n",
    "\n",
    "\n",
    "df_all['vwm_signal'] = np.where(df_all['vwm'] > df_all['mid'], 1, -1)\n",
    "df_all['vwm_signal'] = df_all['vwm_signal'].shift(1)\n",
    "df_all['vwm_pnl'] = df_all['vwm_signal'] * df_all['mid_change']\n",
    "\n",
    "# df_all.to_csv('stack.csv')"
   ]
  },
  {
   "cell_type": "code",
   "execution_count": null,
   "metadata": {},
   "outputs": [],
   "source": [
    "df_all['vwm_pnl'].cumsum().resample(\"1T\").last().plot()"
   ]
  },
  {
   "cell_type": "code",
   "execution_count": null,
   "metadata": {},
   "outputs": [],
   "source": [
    "# Dave skip 0\n",
    "df_all['weighted_bid_notional_5'] =  df_all[\"Bid1Qty\"] + df_all[\"Bid2Qty\"] + df_all[\"Bid3Qty\"] + df_all[\"Bid4Qty\"]\n",
    "df_all['weighted_offer_notional_5'] =  df_all[\"Offer1Qty\"] + df_all[\"Offer2Qty\"] + df_all[\"Offer3Qty\"] + df_all[\"Offer4Qty\"]\n",
    "df_all['weighted_bid_5'] = (df_all[\"Bid1Qty\"] * df_all[\"Bid1\"] + df_all[\"Bid2Qty\"] * df_all[\"Bid2\"] + df_all[\"Bid3Qty\"] * df_all[\"Bid3\"] + df_all[\"Bid4Qty\"] * df_all[\"Bid4\"]) / df_all['weighted_bid_notional_5'] \n",
    "df_all['weighted_offer_5'] = ( df_all[\"Offer1Qty\"] * df_all[\"Offer1\"] + df_all[\"Offer2Qty\"] * df_all[\"Offer2\"] + df_all[\"Offer3Qty\"] * df_all[\"Offer3\"] + df_all[\"Offer4Qty\"] * df_all[\"Offer4\"]) / df_all['weighted_offer_notional_5'] \n",
    "df_all['conventionally_weighted_mid_5'] = (df_all['weighted_bid_5'] + df_all['weighted_offer_5']) / 2\n",
    "df_all['vwm'] = df_all['conventionally_weighted_mid_5']\n",
    "df_all['signal'] = np.where(df_all['vwm'] >= df_all['mid'], 1, -1)\n"
   ]
  },
  {
   "cell_type": "code",
   "execution_count": null,
   "metadata": {},
   "outputs": [],
   "source": [
    "#VWM - level 0 inverse\n",
    "df_all['vwm'] = (df_all[\"Bid0Qty\"] * df_all[\"Offer0\"] + df_all[\"Bid0\"] * df_all[\"Offer0Qty\"])  / (df_all[\"Bid0Qty\"] + df_all[\"Offer0Qty\"])\n",
    "df_all['signal'] = np.where(df_all['vwm'] >= df_all['mid'], -1, 1)\n"
   ]
  },
  {
   "cell_type": "code",
   "execution_count": null,
   "metadata": {},
   "outputs": [],
   "source": [
    "#VWM - level 1 \n",
    "df_all['vwm'] = (df_all[\"Bid1Qty\"] * df_all[\"Offer1\"] + df_all[\"Bid1\"] * df_all[\"Offer1Qty\"])  / (df_all[\"Bid1Qty\"] + df_all[\"Offer1Qty\"])\n",
    "df_all['signal'] = np.where(df_all['vwm'] >= df_all['mid'], 1, -1)"
   ]
  },
  {
   "cell_type": "code",
   "execution_count": null,
   "metadata": {},
   "outputs": [],
   "source": []
  },
  {
   "cell_type": "code",
   "execution_count": null,
   "metadata": {},
   "outputs": [],
   "source": [
    "df_all['vwm_signal'] = np.where(df_all['vwm'] > df_all['mid'], 1, -1)\n",
    "df_all['vwm_signal'] = df_all['vwm_signal'].shift(1)\n",
    "df_all['vwm_pnl'] = df_all['vwm_signal'] * df_all['mid_change']\n",
    "df_all['vwm_pnl'].cumsum().resample(\"1T\").last().plot()"
   ]
  },
  {
   "cell_type": "code",
   "execution_count": null,
   "metadata": {},
   "outputs": [],
   "source": []
  },
  {
   "cell_type": "code",
   "execution_count": null,
   "metadata": {},
   "outputs": [],
   "source": [
    "###############\n",
    "# Counts the number of ticks between changes in the signal\n",
    "# Calculates pnl per trade \n",
    "###############\n",
    "\n",
    "# these are the df and column for the signals \n",
    "signal_df = df_all\n",
    "signal_column = 'vwm_adj'\n",
    "\n",
    "# the df and column for the pnl\n",
    "pnl_column = df_all['vwm_pnl']\n",
    "\n",
    "\n",
    "def SignalPersisenceFast(df,column_name): \n",
    "    array= df[column_name].values\n",
    "    previous_signal  = False \n",
    "    Counter = 0\n",
    "    Times = []\n",
    "    for x in range(len(array)):\n",
    "        if((array[x] == previous_signal or Counter == 0) and array[x] != 0):\n",
    "            Counter = Counter + 1\n",
    "        else:\n",
    "            Times.append(Counter)\n",
    "            if array[x] != 0 : \n",
    "                Counter =  1\n",
    "        previous_signal = array[x]\n",
    "    return Times\n",
    "\n",
    "Times = SignalPersisenceFast(df_all,signal_column)\n",
    "print(\"Mean time in trade \" + str(np.mean(Times)))\n",
    "print(\"Number of trades \" + str(len(Times)))\n",
    "print(\"Cumulative PnL \" + str(pnl_column.cumsum().iloc[-1]))\n",
    "print(\"Average Trade PnL \" + str(pnl_column.cumsum().iloc[-1] / len(Times)))"
   ]
  },
  {
   "cell_type": "code",
   "execution_count": null,
   "metadata": {},
   "outputs": [],
   "source": [
    "Mean time in trade 3.7650935337087468\n",
    "Number of trades 57359\n",
    "Cumulative PnL 0.10923349792949288\n",
    "Average Trade PnL 1.9043828855017152e-06"
   ]
  },
  {
   "cell_type": "code",
   "execution_count": null,
   "metadata": {},
   "outputs": [],
   "source": [
    "# VWM\n",
    "Mean time in trade 4.6480225730355516\n",
    "Number of trades 743542\n",
    "Cumulative PnL 0.4734955060643815\n",
    "Average Trade PnL 6.368107061395072e-07"
   ]
  },
  {
   "cell_type": "code",
   "execution_count": null,
   "metadata": {},
   "outputs": [],
   "source": [
    "# Dave\n",
    "Mean time in trade 4.722161267006164\n",
    "Number of trades 731867\n",
    "Cumulative PnL 0.622094526730822\n",
    "Average Trade PnL 8.50010352606173e-07"
   ]
  },
  {
   "cell_type": "code",
   "execution_count": null,
   "metadata": {},
   "outputs": [],
   "source": []
  },
  {
   "cell_type": "code",
   "execution_count": null,
   "metadata": {},
   "outputs": [],
   "source": []
  },
  {
   "cell_type": "code",
   "execution_count": null,
   "metadata": {},
   "outputs": [],
   "source": [
    "# have a look at the average length of each tick\n",
    "df_all['time'] = df_all.index"
   ]
  },
  {
   "cell_type": "code",
   "execution_count": null,
   "metadata": {},
   "outputs": [],
   "source": [
    "# data needs cleaning \n",
    "(df_orderbook['time'] - df_orderbook['time'].shift(1)).describe()"
   ]
  },
  {
   "cell_type": "code",
   "execution_count": null,
   "metadata": {},
   "outputs": [],
   "source": [
    "\n"
   ]
  },
  {
   "cell_type": "code",
   "execution_count": null,
   "metadata": {},
   "outputs": [],
   "source": []
  },
  {
   "cell_type": "code",
   "execution_count": null,
   "metadata": {},
   "outputs": [],
   "source": []
  },
  {
   "cell_type": "code",
   "execution_count": null,
   "metadata": {},
   "outputs": [],
   "source": []
  },
  {
   "cell_type": "code",
   "execution_count": null,
   "metadata": {},
   "outputs": [],
   "source": []
  },
  {
   "cell_type": "code",
   "execution_count": null,
   "metadata": {},
   "outputs": [],
   "source": []
  },
  {
   "cell_type": "code",
   "execution_count": null,
   "metadata": {},
   "outputs": [],
   "source": []
  },
  {
   "cell_type": "code",
   "execution_count": null,
   "metadata": {},
   "outputs": [],
   "source": []
  },
  {
   "cell_type": "code",
   "execution_count": null,
   "metadata": {},
   "outputs": [],
   "source": [
    "#############################\n",
    "# Citadel update price time \n",
    "#############################"
   ]
  },
  {
   "cell_type": "code",
   "execution_count": null,
   "metadata": {},
   "outputs": [],
   "source": [
    "df_orderbook = citadel.reset_index()\n",
    "\n",
    "df_orderbook['t'] = pd.to_datetime(df_orderbook['t'])\n",
    "\n",
    "#check for new levels\n",
    "df_orderbook['newlevel'] = ((df_orderbook[\"Offer0\"] != df_orderbook[\"Offer0\"].shift(1)) |  (df_orderbook[\"Bid0\"] != df_orderbook[\"Bid0\"].shift(1)))\n",
    "df_orderbook_nupdates = df_orderbook.loc[df_orderbook['newlevel']]\n",
    "((df_orderbook_nupdates['t'] -  df_orderbook_nupdates['t'].shift(1)) / np.timedelta64(1, 'ms')).describe()"
   ]
  },
  {
   "cell_type": "code",
   "execution_count": null,
   "metadata": {},
   "outputs": [],
   "source": []
  },
  {
   "cell_type": "code",
   "execution_count": null,
   "metadata": {},
   "outputs": [],
   "source": []
  },
  {
   "cell_type": "code",
   "execution_count": null,
   "metadata": {},
   "outputs": [],
   "source": []
  },
  {
   "cell_type": "code",
   "execution_count": null,
   "metadata": {},
   "outputs": [],
   "source": []
  },
  {
   "cell_type": "code",
   "execution_count": null,
   "metadata": {},
   "outputs": [],
   "source": [
    "######################\n",
    "# Rollng regressions\n",
    "######################"
   ]
  },
  {
   "cell_type": "code",
   "execution_count": null,
   "metadata": {},
   "outputs": [],
   "source": [
    "import statsmodels.api as sm\n",
    "from statsmodels.regression.rolling import RollingOLS"
   ]
  },
  {
   "cell_type": "code",
   "execution_count": null,
   "metadata": {},
   "outputs": [],
   "source": [
    "endog = pd.DataFrame(df['return'])\n",
    "\n",
    "exog = pd.DataFrame(df['signal'])\n",
    "exog['lagged'] = df['return'].shift(1)\n",
    "exog['diff'] = df['c_ma_diff'] "
   ]
  },
  {
   "cell_type": "code",
   "execution_count": null,
   "metadata": {},
   "outputs": [],
   "source": [
    "rols = RollingOLS(endog, exog, window=240)"
   ]
  },
  {
   "cell_type": "code",
   "execution_count": null,
   "metadata": {},
   "outputs": [],
   "source": [
    "rres = rols.fit()\n",
    "params = rres.params\n",
    "print(params.tail())\n"
   ]
  },
  {
   "cell_type": "code",
   "execution_count": null,
   "metadata": {},
   "outputs": [],
   "source": [
    "new_mod = pd.DataFrame(np.where(params.signal>0, df['return'], -df['return']))"
   ]
  },
  {
   "cell_type": "code",
   "execution_count": null,
   "metadata": {},
   "outputs": [],
   "source": [
    "fig = rres.plot_recursive_coefficient()"
   ]
  },
  {
   "cell_type": "code",
   "execution_count": null,
   "metadata": {},
   "outputs": [],
   "source": []
  },
  {
   "cell_type": "code",
   "execution_count": null,
   "metadata": {},
   "outputs": [],
   "source": []
  },
  {
   "cell_type": "code",
   "execution_count": null,
   "metadata": {},
   "outputs": [],
   "source": []
  },
  {
   "cell_type": "code",
   "execution_count": null,
   "metadata": {},
   "outputs": [],
   "source": []
  },
  {
   "cell_type": "code",
   "execution_count": null,
   "metadata": {},
   "outputs": [],
   "source": []
  },
  {
   "cell_type": "code",
   "execution_count": null,
   "metadata": {},
   "outputs": [],
   "source": [
    "#############################\n",
    "# resample the vwm - try to reduce the noise \n",
    "#############################"
   ]
  },
  {
   "cell_type": "code",
   "execution_count": null,
   "metadata": {},
   "outputs": [],
   "source": [
    "df_vwm_resampled = pd.DataFrame(df_orderbook['vwm'].resample(\"5s\").mean()).ffill()\n",
    "df_vwm_resampled['mid'] = df_orderbook['MID'].resample(\"5s\").last().ffill()\n",
    "df_vwm_resampled['return'] = df_vwm_resampled['mid'].pct_change()\n",
    "df_vwm_resampled['diff'] = (df_vwm_resampled['vwm'] / df_vwm_resampled['mid'] -1)\n",
    "df_vwm_resampled['vwm_return'] = np.where(df_vwm_resampled['vwm'].shift(1) > df_vwm_resampled['mid'].shift(1), df_vwm_resampled['return'], -df_vwm_resampled['return'])\n",
    "df_vwm_resampled['vwm_return_sum'] = df_vwm_resampled['vwm_return'].cumsum()"
   ]
  },
  {
   "cell_type": "code",
   "execution_count": null,
   "metadata": {},
   "outputs": [],
   "source": [
    "df_vwm_resampled['vwm__long_signal'] = np.where(df_vwm_resampled['diff'].shift(1) >= 0.000007, 1, 0)"
   ]
  },
  {
   "cell_type": "code",
   "execution_count": null,
   "metadata": {},
   "outputs": [],
   "source": [
    "# filter bigger diffs\n",
    "df_vwm_resampled['vwm_diff_long_return'] = df_vwm_resampled['vwm__long_signal'] * df_vwm_resampled['return']\n",
    "df_vwm_resampled['vwm_diff_long_return_sum'] = df_vwm_resampled['vwm_return'].cumsum()"
   ]
  },
  {
   "cell_type": "code",
   "execution_count": null,
   "metadata": {},
   "outputs": [],
   "source": [
    "df_vwm_resampled['vwm_diff_long_return_sum'].plot()"
   ]
  },
  {
   "cell_type": "code",
   "execution_count": null,
   "metadata": {},
   "outputs": [],
   "source": []
  },
  {
   "cell_type": "code",
   "execution_count": null,
   "metadata": {},
   "outputs": [],
   "source": []
  },
  {
   "cell_type": "code",
   "execution_count": null,
   "metadata": {},
   "outputs": [],
   "source": []
  },
  {
   "cell_type": "code",
   "execution_count": null,
   "metadata": {},
   "outputs": [],
   "source": []
  },
  {
   "cell_type": "code",
   "execution_count": null,
   "metadata": {},
   "outputs": [],
   "source": [
    "#################\n",
    "# Aggregate tick data\n",
    "#################\n",
    "mid_price_series = (tick_data.loc[:, 'Bid0'] + tick_data.loc[:, 'Offer0']) / 2\n",
    "bar_sampler = mid_price_series.resample(resample_period)\n",
    "hloc = pd.DataFrame()\n",
    "hloc['high'] = bar_sampler.max()\n",
    "hloc['low'] = bar_sampler.min()\n",
    "hloc['open'] = bar_sampler.first() # **FIXME** First tick in bar not last tick in previous bar?\n",
    "hloc['close'] = bar_sampler.last()"
   ]
  },
  {
   "cell_type": "code",
   "execution_count": null,
   "metadata": {},
   "outputs": [],
   "source": [
    "#################\n",
    "# Derived columns\n",
    "#################\n",
    "hloc['o_to_h'] = (hloc['high'] / hloc['open'] - 1)\n",
    "hloc['o_to_l'] = (hloc['low'] / hloc['open'] - 1)\n",
    "hloc['c_to_c'] = hloc['close'].pct_change()\n",
    "hloc['o_to_h_vol'] = hloc['o_to_h'].rolling(12).std()\n",
    "hloc['o_to_l_vol'] = hloc['o_to_l'].rolling(12).std()\n",
    "hloc['c_to_c_vol'] = hloc['c_to_c'].rolling(12).std()"
   ]
  },
  {
   "cell_type": "code",
   "execution_count": null,
   "metadata": {},
   "outputs": [],
   "source": []
  },
  {
   "cell_type": "code",
   "execution_count": null,
   "metadata": {},
   "outputs": [],
   "source": []
  }
 ],
 "metadata": {
  "kernelspec": {
   "display_name": "Python 3",
   "language": "python",
   "name": "python3"
  },
  "language_info": {
   "codemirror_mode": {
    "name": "ipython",
    "version": 3
   },
   "file_extension": ".py",
   "mimetype": "text/x-python",
   "name": "python",
   "nbconvert_exporter": "python",
   "pygments_lexer": "ipython3",
   "version": "3.7.3"
  }
 },
 "nbformat": 4,
 "nbformat_minor": 2
}
