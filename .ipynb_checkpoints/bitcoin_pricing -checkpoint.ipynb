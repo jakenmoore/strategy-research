{
 "cells": [
  {
   "cell_type": "code",
   "execution_count": null,
   "metadata": {},
   "outputs": [],
   "source": [
    "# import all necessary research utilities\n",
    "from research_utilities import *\n",
    "%matplotlib inline\n",
    "\n",
    "# import libraries\n",
    "from datetime import date\n",
    "import pandas as pd\n",
    "pd.options.display.max_columns = None \n",
    "import numpy as np\n",
    "\n",
    "# charting libraries & set style\n",
    "import matplotlib.pyplot as plt\n",
    "%matplotlib inline\n",
    "plt.style.use(\"seaborn\")\n",
    "\n",
    "# ignore warnings\n",
    "import warnings\n",
    "warnings.filterwarnings('ignore')"
   ]
  },
  {
   "cell_type": "code",
   "execution_count": null,
   "metadata": {},
   "outputs": [],
   "source": [
    "# data file of non echo data \n",
    "file = \"/Volumes/GoogleDrive/Shared drives/crypto-mm/data/BITCOIN_lob_2021-02-08.parquet\"\n",
    "file = \"/Volumes/GoogleDrive/Shared drives/crypto-mm/data/BITCOIN_lob_2021-02-08_update.parquet\""
   ]
  },
  {
   "cell_type": "code",
   "execution_count": null,
   "metadata": {},
   "outputs": [],
   "source": [
    "# lmax data\n",
    "s3_bucket    = 'mfx-sagemaker-dev'\n",
    "dv_chain_file = \"demo/XBTUSD_20210208-000000_20210208-235959/2021-02-08T00:00:00.653Z-2021-02-08T23:59:59.968Z-Input_DVCHAIN_top1-1.csv.gz\"\n",
    "lmax_file = \"demo/XBTUSD_20210208-000000_20210208-235959/2021-02-08T00:00:04.010Z-2021-02-08T23:59:59.961Z-Input_LMAX_DIGITAL_top1-1.csv.gz\""
   ]
  },
  {
   "cell_type": "code",
   "execution_count": null,
   "metadata": {},
   "outputs": [],
   "source": [
    "# dvchain data\n",
    "df_dv_chain = pd.read_csv('s3://{}/{}'.format(s3_bucket, dv_chain_file), index_col='t', parse_dates=['t'])\n",
    "df_dv_chain = df_dv_chain.resample(\"10ms\").ffill()"
   ]
  },
  {
   "cell_type": "code",
   "execution_count": null,
   "metadata": {},
   "outputs": [],
   "source": [
    "# load lmax\n",
    "df_lmax = pd.read_csv('s3://{}/{}'.format(s3_bucket, lmax_file), index_col='t', parse_dates=['t'])\n",
    "df_lmax = df_lmax.resample(\"10ms\").ffill()"
   ]
  },
  {
   "cell_type": "code",
   "execution_count": null,
   "metadata": {},
   "outputs": [],
   "source": []
  },
  {
   "cell_type": "code",
   "execution_count": null,
   "metadata": {},
   "outputs": [],
   "source": []
  },
  {
   "cell_type": "code",
   "execution_count": null,
   "metadata": {},
   "outputs": [],
   "source": [
    "# load all non echo\n",
    "df_btc = pd.read_parquet(file)"
   ]
  },
  {
   "cell_type": "code",
   "execution_count": null,
   "metadata": {},
   "outputs": [],
   "source": [
    "# look at the data \n",
    "df_btc.groupby('exchange')[\"exchange\"].nunique()"
   ]
  },
  {
   "cell_type": "code",
   "execution_count": null,
   "metadata": {},
   "outputs": [],
   "source": [
    "# create one dataframe will all the bids and offers\n",
    "df_all = df_btc.loc[df_btc[\"exchange\"] == \"BITMEX\"]\n",
    "df_all = df_all.resample(\"10ms\").ffill()"
   ]
  },
  {
   "cell_type": "code",
   "execution_count": null,
   "metadata": {},
   "outputs": [],
   "source": [
    "df_all = df_all.rename(columns={\"bid_price\": \"bitmex_bid\", \"ask_price\": \"bitmex_offer\"})\n",
    "df_all = df_all.drop(columns=['exchange', 'symbol', \"bid_size\", \"ask_size\"])"
   ]
  },
  {
   "cell_type": "code",
   "execution_count": null,
   "metadata": {},
   "outputs": [],
   "source": [
    "df_binance = df_btc.loc[df_btc[\"exchange\"] == \"BINANCE\"]\n",
    "df_binance = df_binance.resample(\"10ms\").ffill()"
   ]
  },
  {
   "cell_type": "code",
   "execution_count": null,
   "metadata": {},
   "outputs": [],
   "source": [
    "df_gemini = df_btc.loc[df_btc[\"exchange\"] == \"GEMINI\"]\n",
    "df_gemini = df_gemini.resample(\"10ms\").ffill()"
   ]
  },
  {
   "cell_type": "code",
   "execution_count": null,
   "metadata": {},
   "outputs": [],
   "source": [
    "df_bitstamp = df_btc.loc[df_btc[\"exchange\"] == \"BITSTAMP\"]\n",
    "df_bitstamp = df_bitstamp.resample(\"10ms\").ffill()"
   ]
  },
  {
   "cell_type": "code",
   "execution_count": null,
   "metadata": {},
   "outputs": [],
   "source": [
    "df_kraken = df_btc.loc[df_btc[\"exchange\"] == \"KRAKEN\"]\n",
    "df_kraken = df_kraken.resample(\"10ms\").ffill()"
   ]
  },
  {
   "cell_type": "code",
   "execution_count": null,
   "metadata": {},
   "outputs": [],
   "source": [
    "df_coinbase = df_btc.loc[df_btc[\"exchange\"] == \"COINBASE\"]\n",
    "df_coinbase = df_coinbase.resample(\"10ms\").ffill()"
   ]
  },
  {
   "cell_type": "code",
   "execution_count": null,
   "metadata": {},
   "outputs": [],
   "source": [
    "df_all[\"binance_bid\"] = df_binance[\"bid_price\"]\n",
    "df_all[\"binance_offer\"] = df_binance[\"ask_price\"]"
   ]
  },
  {
   "cell_type": "code",
   "execution_count": null,
   "metadata": {},
   "outputs": [],
   "source": [
    "df_all[\"coinbase_bid\"] = df_coinbase[\"bid_price\"]\n",
    "df_all[\"coinbase_offer\"] = df_coinbase[\"ask_price\"]"
   ]
  },
  {
   "cell_type": "code",
   "execution_count": null,
   "metadata": {},
   "outputs": [],
   "source": [
    "df_all[\"gemini_bid\"] = df_gemini[\"bid_price\"]\n",
    "df_all[\"gemini_offer\"] = df_gemini[\"ask_price\"]"
   ]
  },
  {
   "cell_type": "code",
   "execution_count": null,
   "metadata": {},
   "outputs": [],
   "source": [
    "df_all[\"kraken_bid\"] = df_kraken[\"bid_price\"]\n",
    "df_all[\"kraken_offer\"] = df_kraken[\"ask_price\"]"
   ]
  },
  {
   "cell_type": "code",
   "execution_count": null,
   "metadata": {},
   "outputs": [],
   "source": [
    "df_all[\"bitstamp_bid\"] = df_bitstamp[\"bid_price\"]\n",
    "df_all[\"bitstamp_offer\"] = df_bitstamp[\"ask_price\"]"
   ]
  },
  {
   "cell_type": "code",
   "execution_count": null,
   "metadata": {},
   "outputs": [],
   "source": [
    "# df_all[\"dvchain_bid\"] = df_dv_chain[\"Bid0\"]\n",
    "# df_all[\"dvchain_offer\"] = df_dv_chain[\"Offer0\"]"
   ]
  },
  {
   "cell_type": "code",
   "execution_count": null,
   "metadata": {},
   "outputs": [],
   "source": [
    "# df_all[\"lmax_bid\"] = df_lmax[\"Bid0\"]\n",
    "# df_all[\"lmax_offer\"] = df_lmax[\"Offer0\"]"
   ]
  },
  {
   "cell_type": "code",
   "execution_count": null,
   "metadata": {},
   "outputs": [],
   "source": [
    "# create best bid and offer\n",
    "# not included binance as this is USDT\n",
    "df_all[\"Bid0\"] = df_all[[\"bitmex_bid\", \n",
    "                         \"coinbase_bid\", \n",
    "                         \"gemini_bid\", \n",
    "                         \"kraken_bid\", \n",
    "                         \"bitstamp_bid\",\n",
    "                        ]].max(axis=1)"
   ]
  },
  {
   "cell_type": "code",
   "execution_count": null,
   "metadata": {},
   "outputs": [],
   "source": [
    "# not included binance as this is USDT\n",
    "df_all[\"Offer0\"] = df_all[[\"bitmex_offer\", \n",
    "                         \"coinbase_offer\", \n",
    "                         \"gemini_offer\", \n",
    "                         \"kraken_offer\", \n",
    "                         \"bitstamp_offer\",\n",
    "                        ]].min(axis=1)"
   ]
  },
  {
   "cell_type": "code",
   "execution_count": null,
   "metadata": {},
   "outputs": [],
   "source": [
    "# spread \n",
    "df_all[\"spread\"] = df_all[\"Offer0\"] - df_all[\"Bid0\"]"
   ]
  },
  {
   "cell_type": "code",
   "execution_count": null,
   "metadata": {},
   "outputs": [],
   "source": [
    "# look at some individual spread inversions (-30 used as there is commission in some cases)\n",
    "df_all[\"bitmex_gemini_arb\"] = np.where((df_all[\"bitmex_bid\"] - df_all[\"gemini_offer\"]) < -30, df_all[\"bitmex_bid\"] - df_all[\"gemini_offer\"], np.nan)\n",
    "df_all[\"gemini_coinbase_arb\"] = np.where((df_all[\"gemini_bid\"] - df_all[\"coinbase_offer\"]) < -30, df_all[\"gemini_bid\"] - df_all[\"coinbase_offer\"], np.nan)\n"
   ]
  },
  {
   "cell_type": "code",
   "execution_count": null,
   "metadata": {},
   "outputs": [],
   "source": [
    "df_all[[\"bitmex_bid\",\"gemini_offer\"]].between_time(\"21:30\", \"22:00\").plot();"
   ]
  },
  {
   "cell_type": "code",
   "execution_count": null,
   "metadata": {},
   "outputs": [],
   "source": []
  },
  {
   "cell_type": "code",
   "execution_count": null,
   "metadata": {},
   "outputs": [],
   "source": [
    "# look at one example where volatility caused persistent inversion\n",
    "df_all[[\"spread\", \"Bid0\"]].between_time(\"12:00\", \"13:01\").plot(subplots=True);"
   ]
  },
  {
   "cell_type": "code",
   "execution_count": null,
   "metadata": {},
   "outputs": [],
   "source": [
    "df_all.columns"
   ]
  },
  {
   "cell_type": "code",
   "execution_count": null,
   "metadata": {},
   "outputs": [],
   "source": [
    "plotly_line_chart(df_all.between_time(\"21:30\", \"22:00\"), \"coinbase_bid\", \"gemini_offer\")"
   ]
  },
  {
   "cell_type": "code",
   "execution_count": null,
   "metadata": {},
   "outputs": [],
   "source": [
    "df_gemini[\"ask_size\"].between_time(\"21:35\", \"21:37\").plot();"
   ]
  },
  {
   "cell_type": "code",
   "execution_count": null,
   "metadata": {},
   "outputs": [],
   "source": [
    "df_coinbase[\"bid_size\"].between_time(\"21:35\", \"21:37\").plot();"
   ]
  },
  {
   "cell_type": "code",
   "execution_count": null,
   "metadata": {},
   "outputs": [],
   "source": []
  },
  {
   "cell_type": "code",
   "execution_count": null,
   "metadata": {},
   "outputs": [],
   "source": [
    "coinbase = pd.DataFrame(np.where((df_all[\"coinbase_bid\"] - df_all[\"Offer0\"]) < 0, (df_all[\"coinbase_bid\"] - df_all[\"Offer0\"]), np.nan))"
   ]
  },
  {
   "cell_type": "code",
   "execution_count": null,
   "metadata": {},
   "outputs": [],
   "source": [
    "bitmex = pd.DataFrame(np.where((df_all[\"bitmex_bid\"] - df_all[\"Offer0\"]) < 0, (df_all[\"bitmex_bid\"] - df_all[\"Offer0\"]), np.nan))"
   ]
  },
  {
   "cell_type": "code",
   "execution_count": null,
   "metadata": {},
   "outputs": [],
   "source": [
    "coinbase.describe()"
   ]
  },
  {
   "cell_type": "code",
   "execution_count": null,
   "metadata": {},
   "outputs": [],
   "source": [
    "bitmex.describe()"
   ]
  },
  {
   "cell_type": "code",
   "execution_count": null,
   "metadata": {},
   "outputs": [],
   "source": [
    "df_all[\"spread\"].mean()"
   ]
  },
  {
   "cell_type": "code",
   "execution_count": null,
   "metadata": {},
   "outputs": [],
   "source": []
  }
 ],
 "metadata": {
  "kernelspec": {
   "display_name": "Python 3",
   "language": "python",
   "name": "python3"
  },
  "language_info": {
   "codemirror_mode": {
    "name": "ipython",
    "version": 3
   },
   "file_extension": ".py",
   "mimetype": "text/x-python",
   "name": "python",
   "nbconvert_exporter": "python",
   "pygments_lexer": "ipython3",
   "version": "3.7.9"
  }
 },
 "nbformat": 4,
 "nbformat_minor": 4
}
