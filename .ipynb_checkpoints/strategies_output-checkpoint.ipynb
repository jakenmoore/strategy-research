{
 "cells": [
  {
   "cell_type": "code",
   "execution_count": 1,
   "metadata": {},
   "outputs": [],
   "source": [
    "# import libraries\n",
    "import pandas as pd\n",
    "pd.options.display.max_columns = None \n",
    "\n",
    "import numpy as np\n",
    "import math\n",
    "import datetime as dt\n",
    "from datetime import timedelta\n",
    "\n",
    "# charting libraries\n",
    "import matplotlib.pyplot as plt\n",
    "%matplotlib inline\n",
    "plt.style.use(\"seaborn\")\n",
    "\n",
    "import warnings\n",
    "warnings.filterwarnings('ignore')\n",
    "\n",
    "from strategy_models import *\n",
    "\n"
   ]
  },
  {
   "cell_type": "markdown",
   "metadata": {},
   "source": [
    "## Make sure the breakout is running the correct file. \n"
   ]
  },
  {
   "cell_type": "code",
   "execution_count": 2,
   "metadata": {},
   "outputs": [],
   "source": [
    "#################\n",
    "# Definitions\n",
    "#################\n",
    "# Where to read data from\n",
    "s3_bucket    = 'mfx-sagemaker-dev'\n",
    "\n",
    "s3_signal_data_key = \"go-data/GBPUSD_20201206-210000_20201211-220000/2020-12-06T22:00:01.125Z-2020-12-11T21:59:56.007Z-Input_CFH-JPM-UBS-CITADEL-MORGAN_STANLEY-JUMP-STATESTREET-HC_TECH-FASTMATCH-INVAST-CLIENT_INST_PRICE_LDN-HOTSPOT-LMAX-XTX-GOLDMAN_SACHS_top5-1.csv.gz\"\n",
    "\n",
    "our_prices_key = \"go-data/GBPUSD_20201206-210000_20201211-220000/2020-12-06T21:00:02.339Z-2020-12-11T21:59:56.007Z-Output_CLIENT_INST_PRICE_LDN_top1-1.csv.gz\"\n",
    "\n",
    "xtx_key = \"go-data/GBPUSD_20201206-210000_20201211-220000/2020-12-06T22:00:20.596Z-2020-12-11T21:59:45.384Z-Input_XTX_top5-1.csv.gz\"\n",
    "\n",
    "# %% data from Drive\n",
    "google_drive_filename = \"/Volumes/GoogleDrive/Shared drives/data/echo/go_gbpusd_20200804_quotes.csv\"\n",
    "\n"
   ]
  },
  {
   "cell_type": "code",
   "execution_count": 3,
   "metadata": {},
   "outputs": [],
   "source": [
    "# Bar size\n",
    "resample_period = '5s'\n",
    "\n",
    "# Chart settings\n",
    "chart_padding_secs = 10\n",
    "\n",
    "# Breakout settings\n",
    "breakout_sigma = 1.5\n",
    "\n",
    "# MR settings\n",
    "mr_sigma = 10\n",
    "\n",
    "# Hedging level\n",
    "hedge_level = 3\n",
    "\n",
    "# Hedger interest to fill time in ms\n",
    "interest_to_fill = 10000\n",
    "\n",
    "# n samples for moving average\n",
    "ma_samples = 3\n",
    "\n",
    "# optimise exits\n",
    "optimise_exit = True"
   ]
  },
  {
   "cell_type": "code",
   "execution_count": 4,
   "metadata": {
    "scrolled": true
   },
   "outputs": [],
   "source": [
    "#################\n",
    "# Load data\n",
    "#################\n",
    "\n",
    "# using S3\n",
    "# signal_tick_data = pd.read_csv('s3://{}/{}'.format(s3_bucket, s3_signal_data_key), index_col='t', parse_dates=['t'])\n",
    "# our_price = pd.read_csv('s3://{}/{}'.format(s3_bucket, our_prices_key), index_col='t', parse_dates=['t'])\n",
    "# xtx_prices = pd.read_csv('s3://{}/{}'.format(s3_bucket, xtx_key), index_col='t', parse_dates=['t'])\n",
    "\n",
    "# from Drive\n",
    "signal_tick_data = pd.read_csv(google_drive_filename, index_col='t', parse_dates=['t'])\n",
    "\n",
    "trigger_tick_data = signal_tick_data\n",
    "reval_tick_data = signal_tick_data\n",
    "chart_tick_data = signal_tick_data"
   ]
  },
  {
   "cell_type": "code",
   "execution_count": 6,
   "metadata": {},
   "outputs": [],
   "source": [
    "signal_tick_data, signal_mid_price_series, trigger_mid_price_series, reval_mid_price_series, hloc = data_processing(signal_tick_data, trigger_tick_data, reval_tick_data, resample_period, ma_samples)"
   ]
  },
  {
   "cell_type": "code",
   "execution_count": null,
   "metadata": {},
   "outputs": [],
   "source": []
  },
  {
   "cell_type": "code",
   "execution_count": null,
   "metadata": {},
   "outputs": [],
   "source": []
  },
  {
   "cell_type": "code",
   "execution_count": null,
   "metadata": {},
   "outputs": [],
   "source": [
    "#################\n",
    "# Breakout signals\n",
    "#################\n",
    "\n",
    "hloc['breakout_high_trigger'] = hloc['open'] * (1 + (breakout_sigma * (hloc['o_to_h_vol'].shift(1))))\n",
    "hloc['breakout_low_trigger'] = hloc['open'] * (1 - (breakout_sigma * (hloc['o_to_l_vol'].shift(1))))\n",
    "\n",
    "hloc['breakout_triggered'] = hloc.apply(lambda row: trigger_check(row, 'breakout_high_trigger', 'breakout_low_trigger', 1), axis=1)\n",
    "hloc['breakout_triggered'].isna().sum()"
   ]
  },
  {
   "cell_type": "code",
   "execution_count": null,
   "metadata": {},
   "outputs": [],
   "source": [
    "#################\n",
    "# Mean reversion signals\n",
    "#################\n",
    "\n",
    "hloc['6_hr_ma'] = hloc['close'].rolling(ma_samples).mean()\n",
    "# hloc['6_hr_ma_sig'] = np.where(hloc['close'].shift(1) > hloc['6_hr_ma'].shift(1), 1, -1)\n",
    "\n",
    "hloc['mr_high_trigger'] = hloc['6_hr_ma'] * (1 + (mr_sigma * (hloc['c_to_c_vol'].shift(1))))\n",
    "hloc['mr_low_trigger'] = hloc['6_hr_ma'] * (1 - (mr_sigma * (hloc['c_to_c_vol'].shift(1))))\n",
    "\n",
    "hloc['mr_triggered'] = hloc.apply(lambda row: trigger_check(row, 'mr_high_trigger', 'mr_low_trigger', -1), axis=1)\n"
   ]
  },
  {
   "cell_type": "code",
   "execution_count": null,
   "metadata": {
    "scrolled": true
   },
   "outputs": [],
   "source": [
    "# position\n",
    "hloc_filtered = hloc\n",
    "hloc_filtered['breakout_trade'] = hloc_filtered['breakout_triggered'].map(lambda x: 0 if x is None else x[2])\n",
    "hloc_filtered['breakout_trade_price'] = hloc_filtered['breakout_triggered'].map(lambda x: 0 if x is None else x[1])\n",
    "hloc_filtered['breakout_contra_trade_amount'] = -1 * hloc_filtered['breakout_trade'] * hloc_filtered['breakout_trade_price']\n",
    "\n",
    "hloc_filtered['mr_trade'] = hloc_filtered['mr_triggered'].map(lambda x: 0 if x is None else x[2])\n",
    "hloc_filtered['mr_trade_price'] = hloc_filtered['mr_triggered'].map(lambda x: 0 if x is None else x[1])\n",
    "hloc_filtered['mr_contra_trade_amount'] = -1 * hloc_filtered['mr_trade'] * hloc_filtered['mr_trade_price']\n",
    "hloc_filtered['position'] = hloc_filtered['breakout_trade'].cumsum() + hloc_filtered['mr_trade'].cumsum()\n",
    "\n",
    "stdev = np.std(hloc_filtered['close'].diff())"
   ]
  },
  {
   "cell_type": "code",
   "execution_count": null,
   "metadata": {},
   "outputs": [],
   "source": [
    "# hedge trades\n",
    "hloc_filtered['hedge_trade'] = 0.0\n",
    "hloc_filtered['hedge_price'] = 0.0\n",
    "hedge_trade_sum = 0.0\n",
    "hloc_filtered['hedge_contra_amount'] = 0.0\n",
    "current_position = 0.0\n",
    "keep_position = True\n",
    "i_prev = None\n",
    "n = len(hloc_filtered)\n",
    " \n",
    "for i in hloc_filtered.index:\n",
    "    stay_long, stay_short = False, False\n",
    "    current_position = hloc_filtered.loc[i]['position'] + hedge_trade_sum\n",
    "    \n",
    "    if(optimise_exit) :\n",
    "        if current_position > 0 and (hloc_filtered.loc[i]['close'] > (hloc_filtered.loc[i_prev]['close'] + 2.5 * stdev)):\n",
    "            stay_long = False\n",
    "        if current_position < 0 and (hloc_filtered.loc[i]['close'] < (hloc_filtered.loc[i_prev]['close'] - 2.5 * stdev)):\n",
    "            stay_short = False\n",
    "        keep_position = stay_long or stay_short\n",
    "    \n",
    "    if i_prev and not keep_position and (np.absolute(current_position) >= hedge_level):\n",
    "        hloc_filtered.loc[i,'hedge_trade'] = -1 * current_position\n",
    "        hedge_trade_sum += -1 * current_position\n",
    "        # TODO: Review\n",
    "        hedge_price = hloc_filtered.asof(i + pd.Timedelta(milliseconds=interest_to_fill),\n",
    "                                         subset=['close'])['close']\n",
    "        hloc_filtered.loc[i,'hedge_price'] = hedge_price\n",
    "        hloc_filtered.loc[i,'hedge_contra_amount'] = -1 * hloc_filtered.loc[i,'hedge_trade'] * \\\n",
    "                                                     hloc_filtered.loc[i,'hedge_price']\n",
    "    i_prev = i"
   ]
  },
  {
   "cell_type": "code",
   "execution_count": null,
   "metadata": {},
   "outputs": [],
   "source": [
    "hloc_filtered['hedge_balance'] = hloc_filtered['hedge_trade'].cumsum()\n",
    "hloc_filtered['overall_position'] = hloc_filtered['breakout_trade'].cumsum() + hloc_filtered['mr_trade'].cumsum() + hloc_filtered['hedge_trade'].cumsum()\n",
    "hloc_filtered['overall_contra_position'] = hloc_filtered['breakout_contra_trade_amount'].cumsum() + hloc_filtered['mr_contra_trade_amount'].cumsum() + hloc_filtered['hedge_contra_amount'].cumsum()"
   ]
  },
  {
   "cell_type": "code",
   "execution_count": null,
   "metadata": {},
   "outputs": [],
   "source": [
    "# #pnl\n",
    "hloc_filtered['pnl'] = np.where(hloc_filtered['overall_position'] == 0, hloc_filtered['overall_contra_position'], hloc_filtered['overall_position'] * hloc_filtered['close'] + hloc_filtered['overall_contra_position'])"
   ]
  },
  {
   "cell_type": "code",
   "execution_count": null,
   "metadata": {},
   "outputs": [],
   "source": [
    "# plot mr strategy returns\n",
    "hloc_filtered['pnl'].resample(\"10s\").last().plot()\n",
    "plt.legend();"
   ]
  },
  {
   "cell_type": "code",
   "execution_count": null,
   "metadata": {},
   "outputs": [],
   "source": [
    "hloc_filtered['c_to_c_vol'].resample(\"1T\").last().plot()\n",
    "plt.legend();"
   ]
  },
  {
   "cell_type": "code",
   "execution_count": null,
   "metadata": {},
   "outputs": [],
   "source": [
    "hloc_filtered['overall_position'].resample(\"5s\").last().plot()\n",
    "plt.legend();"
   ]
  },
  {
   "cell_type": "code",
   "execution_count": null,
   "metadata": {},
   "outputs": [],
   "source": [
    "#volumes, pnl and yield\n",
    "y = 0\n",
    "breakout_volume = np.abs(hloc_filtered['breakout_trade']).sum()\n",
    "mr_volume = np.abs(hloc_filtered['mr_trade']).sum()\n",
    "hedge_volume = np.abs(hloc_filtered['hedge_trade']).sum()\n",
    "total_volume = breakout_volume + mr_volume + hedge_volume\n",
    "total_pnl = hloc_filtered['pnl'].tail(1)\n",
    "y = total_pnl / total_volume \n",
    "display(breakout_volume, mr_volume, hedge_volume, total_volume, total_pnl, y)"
   ]
  },
  {
   "cell_type": "code",
   "execution_count": null,
   "metadata": {},
   "outputs": [],
   "source": [
    "hloc_filtered.index"
   ]
  },
  {
   "cell_type": "code",
   "execution_count": null,
   "metadata": {},
   "outputs": [],
   "source": [
    "nhbo_position = 0\n",
    "maxPosition = 5\n",
    "\n",
    "for i in hloc_filtered.index:\n",
    "    trade = hloc_filtered.loc[i]['breakout_trade']\n",
    "    if(trade != 0) :\n",
    "        if abs(nhbo_position) < maxPosition:\n",
    "#             display(abs(nhbo_position))\n",
    "            hloc_filtered.loc[i, 'nhbo_trade'] = hloc_filtered['breakout_trade'].loc[i]\n",
    "            hloc_filtered.loc[i, 'nhbo_trade_price'] = hloc_filtered['breakout_trade_price'].loc[i]\n",
    "            hloc_filtered.loc[i, 'nhbo_contra_amount'] = hloc_filtered['breakout_contra_trade_amount'].loc[i]\n",
    "            nhbo_position = nhbo_position + hloc_filtered['breakout_trade'].loc[i]\n",
    "            \n",
    "        else :\n",
    "            hloc_filtered.loc[i, 'nhbo_trade'] = 0\n",
    "        \n"
   ]
  },
  {
   "cell_type": "code",
   "execution_count": null,
   "metadata": {},
   "outputs": [],
   "source": [
    "hloc_filtered['nhbo_position'] = hloc_filtered['nhbo_trade'].cumsum()\n",
    "hloc_filtered['nhbo_contra_position'] = hloc_filtered['nhbo_contra_amount'].cumsum()\n",
    "\n",
    "hloc_filtered['nhbo_pnl'] = np.where(hloc_filtered['nhbo_position'] == 0, \n",
    "        hloc_filtered['nhbo_contra_position'], \n",
    "        hloc_filtered['nhbo_position'] * hloc_filtered['close'] + hloc_filtered['nhbo_contra_position'])\n",
    "\n",
    "\n"
   ]
  },
  {
   "cell_type": "code",
   "execution_count": null,
   "metadata": {},
   "outputs": [],
   "source": []
  },
  {
   "cell_type": "code",
   "execution_count": null,
   "metadata": {},
   "outputs": [],
   "source": []
  },
  {
   "cell_type": "markdown",
   "metadata": {},
   "source": [
    "### Order Flow Imbalance"
   ]
  },
  {
   "cell_type": "code",
   "execution_count": null,
   "metadata": {},
   "outputs": [],
   "source": [
    "\n",
    "# OFI lookback \n",
    "ofi_lookback = 200\n",
    "ofi_resample = \"10ms\"\n",
    "\n",
    "def ofi(quotes,level):\n",
    "    \"\"\"Returns Order Flow Imbalance for given levels of the orderbook\"\"\"\n",
    "    qdf = quotes.copy()\n",
    "    bid_price_label = 'Bid' + str(level)\n",
    "    offer_price_label = 'Offer' + str(level)\n",
    "    bid_qty_label = 'Bid' +str(level) + 'Qty'\n",
    "    offer_qty_label = 'Offer' + str(level)+'Qty'\n",
    "\n",
    "    qdf['prev_bidprice'] = qdf[bid_price_label].shift()\n",
    "    qdf['prev_bidsize'] = qdf[bid_qty_label].shift()\n",
    "    qdf['prev_askprice'] = qdf[offer_price_label].shift()\n",
    "    qdf['prev_asksize'] = qdf[offer_qty_label].shift()\n",
    "\n",
    "    # Fix any missing/invalid data\n",
    "    qdf.replace([np.inf, np.NINF], np.nan, inplace=True)\n",
    "    qdf.fillna(method=\"ffill\", inplace=True)\n",
    "    qdf.fillna(method=\"bfill\", inplace=True)\n",
    "    \n",
    "    bid_geq = qdf[bid_price_label] >= qdf['prev_bidprice']\n",
    "    bid_leq = qdf[bid_price_label] <= qdf['prev_bidprice']\n",
    "    ask_geq = qdf[offer_price_label] >= qdf['prev_askprice']\n",
    "    ask_leq = qdf[offer_price_label] <= qdf['prev_askprice']\n",
    "    \n",
    "    qdf['ofi'] = np.zeros(len(qdf))\n",
    "    qdf['ofi'].loc[bid_geq] += qdf[bid_qty_label].loc[bid_geq]\n",
    "    qdf['ofi'].loc[bid_leq] -= qdf['prev_bidsize'].loc[bid_leq]\n",
    "    qdf['ofi'].loc[ask_geq] += qdf['prev_asksize'].loc[ask_geq]\n",
    "    qdf['ofi'].loc[ask_leq] -= qdf[offer_qty_label].loc[ask_leq]    \n",
    "    return qdf['ofi']\n",
    "\n",
    "\n"
   ]
  },
  {
   "cell_type": "code",
   "execution_count": null,
   "metadata": {},
   "outputs": [],
   "source": [
    "df_all = signal_tick_data.resample(ofi_resample).last().ffill()\n"
   ]
  },
  {
   "cell_type": "code",
   "execution_count": null,
   "metadata": {},
   "outputs": [],
   "source": [
    "########################\n",
    "# OFI using top x levels \n",
    "########################\n",
    "df_all = signal_tick_data.resample(ofi_resample).last().ffill()\n",
    "df_all = df_all\n",
    "\n",
    "df_all[\"Offer0Qty\"] = df_all[\"Offer0Qty\"].astype('float')\n",
    "df_all[\"Offer0\"] = df_all[\"Offer0\"].astype('float')\n",
    "df_all[\"Bid0\"] = df_all[\"Bid0\"].astype('float')\n",
    "df_all[\"Bid0Qty\"] = df_all[\"Bid0Qty\"].astype('float')\n",
    "\n",
    "df_all[\"Offer1Qty\"] = df_all[\"Offer1Qty\"].astype('float')\n",
    "df_all[\"Offer1\"] = df_all[\"Offer1\"].astype('float')\n",
    "df_all[\"Bid1\"] = df_all[\"Bid1\"].astype('float')\n",
    "df_all[\"Bid1Qty\"] = df_all[\"Bid1Qty\"].astype('float')\n",
    "\n",
    "df_all[\"Offer2Qty\"] = df_all[\"Offer2Qty\"].astype('float')\n",
    "df_all[\"Offer2\"] = df_all[\"Offer2\"].astype('float')\n",
    "df_all[\"Bid2\"] = df_all[\"Bid2\"].astype('float')\n",
    "df_all[\"Bid2Qty\"] = df_all[\"Bid2Qty\"].astype('float')\n",
    "\n",
    "df_all[\"Offer3Qty\"] = df_all[\"Offer3Qty\"].astype('float')\n",
    "df_all[\"Offer3\"] = df_all[\"Offer3\"].astype('float')\n",
    "df_all[\"Bid3\"] = df_all[\"Bid3\"].astype('float')\n",
    "df_all[\"Bid3Qty\"] = df_all[\"Bid3Qty\"].astype('float')\n",
    "\n",
    "df_all[\"Offer4Qty\"] = df_all[\"Offer4Qty\"].astype('float')\n",
    "df_all[\"Offer4\"] = df_all[\"Offer4\"].astype('float')\n",
    "df_all[\"Bid4\"] = df_all[\"Bid4\"].astype('float')\n",
    "df_all[\"Bid4Qty\"] = df_all[\"Bid4Qty\"].astype('float')"
   ]
  },
  {
   "cell_type": "code",
   "execution_count": null,
   "metadata": {},
   "outputs": [],
   "source": [
    "# OFI with levels 1, 2 and 3 (works better than 0,1,2)\n",
    "# 100 period MA works well\n",
    "\n",
    "df_all = df_all #.resample(ofi_resample).last().ffill()\n",
    "df_all['ofi'] = ofi(df_all,1) + ofi(df_all,2) + ofi(df_all,3) \n",
    "\n",
    "df_all[\"ofi_rolling\"] = df_all['ofi'].rolling(ofi_lookback).mean()\n",
    "df_all['ofi_signal'] = np.where(df_all['ofi_rolling'] > 0, 1, -1)\n",
    "df_all['mid'] = ((df_all['Bid0'] + df_all['Offer0']) / 2.0)\n",
    "df_all['mid_change'] = ((df_all['Bid0'] + df_all['Offer0']) / 2.0).pct_change()\n",
    "\n",
    "\n",
    "# shift the signal\n",
    "df_all['ofi_signal'] = df_all['ofi_signal'].shift(1)\n",
    "df_all['ofi_pnl'] = (df_all['ofi_signal'] * df_all['mid_change'])\n",
    "\n",
    "print(\"Cumulative PnL \" + str(df_all['ofi_pnl'].cumsum().iloc[-1]))\n",
    "\n"
   ]
  },
  {
   "cell_type": "code",
   "execution_count": null,
   "metadata": {},
   "outputs": [],
   "source": [
    "df_all[\"ofi_threshold_signal_long\"] = np.where(df_all['ofi_rolling'] >= 5000, 1, 0)\n",
    "df_all[\"ofi_threshold_signal_short\"] = np.where(df_all['ofi_rolling'] <= -5000, -1, 0)\n",
    "df_all[\"ofi_threshold_signal\"] = df_all[\"ofi_threshold_signal_long\"] + df_all[\"ofi_threshold_signal_short\"]\n",
    "\n",
    "# shift the signal\n",
    "df_all['ofi_threshold_signal'] = df_all['ofi_threshold_signal'].shift(1)\n",
    "df_all['ofi_threshold_pnl'] = (df_all['ofi_threshold_signal'] * df_all['mid_change'])\n",
    "\n",
    "print(\"Cumulative PnL \" + str(df_all['ofi_threshold_pnl'].cumsum().iloc[-1]))"
   ]
  },
  {
   "cell_type": "code",
   "execution_count": null,
   "metadata": {},
   "outputs": [],
   "source": [
    "df_all['ofi_pnl'].cumsum().resample(\"1T\").last().plot()\n",
    "plt.legend();"
   ]
  },
  {
   "cell_type": "code",
   "execution_count": null,
   "metadata": {},
   "outputs": [],
   "source": [
    "df_all['ofi'].describe()"
   ]
  },
  {
   "cell_type": "code",
   "execution_count": null,
   "metadata": {},
   "outputs": [],
   "source": []
  },
  {
   "cell_type": "code",
   "execution_count": null,
   "metadata": {},
   "outputs": [],
   "source": []
  },
  {
   "cell_type": "code",
   "execution_count": null,
   "metadata": {},
   "outputs": [],
   "source": []
  },
  {
   "cell_type": "markdown",
   "metadata": {},
   "source": [
    "### Skewness and kurtosis"
   ]
  },
  {
   "cell_type": "code",
   "execution_count": null,
   "metadata": {},
   "outputs": [],
   "source": [
    "# have a look at kurtosis\n",
    "df_all[\"kurtosis\"] = df_all[\"mid_change\"].rolling(100).kurt()\n",
    "df_all[\"skewness\"] = df_all[\"mid_change\"].rolling(200).skew()"
   ]
  },
  {
   "cell_type": "code",
   "execution_count": null,
   "metadata": {},
   "outputs": [],
   "source": [
    "df_all[\"kurtosis\"].plot()\n",
    "plt.legend();"
   ]
  },
  {
   "cell_type": "code",
   "execution_count": null,
   "metadata": {},
   "outputs": [],
   "source": [
    "df_all[\"kurtosis_signal\"] = np.where(df_all[\"kurtosis\"] > 50, 1, 0)\n",
    "\n"
   ]
  },
  {
   "cell_type": "code",
   "execution_count": null,
   "metadata": {},
   "outputs": [],
   "source": [
    "df_all[\"skewness_signal\"] = np.where(df_all[\"skewness\"] > 0, 1, -1)\n",
    "df_all[\"skewness_signal\"] = df_all[\"skewness_signal\"] * df_all[\"kurtosis_signal\"]\n",
    "df_all[\"skewness_signal\"] = df_all[\"skewness_signal\"].shift(1)\n",
    "df_all[\"skewness_pnl\"] = df_all[\"skewness_signal\"] * df_all[\"mid_change\"]\n",
    "df_all[\"skewness_pnl\"].cumsum().resample(\"1t\").last().plot()\n",
    "plt.legend();"
   ]
  },
  {
   "cell_type": "markdown",
   "metadata": {},
   "source": [
    "### Volume Weighted Mids"
   ]
  },
  {
   "cell_type": "code",
   "execution_count": null,
   "metadata": {},
   "outputs": [],
   "source": [
    "#######################\n",
    "# Volume Weighted Mids\n",
    "#######################"
   ]
  },
  {
   "cell_type": "code",
   "execution_count": null,
   "metadata": {},
   "outputs": [],
   "source": [
    "# CWM\n",
    "cwm_lookback = 50\n",
    "\n",
    "df_all['weighted_bid_notional_5'] =  df_all[\"Bid1Qty\"] + df_all[\"Bid2Qty\"] + df_all[\"Bid3Qty\"] + df_all[\"Bid4Qty\"]\n",
    "df_all['weighted_offer_notional_5'] =  df_all[\"Offer1Qty\"] + df_all[\"Offer2Qty\"] + df_all[\"Offer3Qty\"] + df_all[\"Offer4Qty\"]\n",
    "df_all['weighted_bid_5'] = (df_all[\"Bid1Qty\"] * df_all[\"Bid1\"] + df_all[\"Bid2Qty\"] * df_all[\"Bid2\"] + df_all[\"Bid3Qty\"] * df_all[\"Bid3\"] + df_all[\"Bid4Qty\"] * df_all[\"Bid4\"]) / df_all['weighted_bid_notional_5'] \n",
    "df_all['weighted_offer_5'] = ( df_all[\"Offer1Qty\"] * df_all[\"Offer1\"] + df_all[\"Offer2Qty\"] * df_all[\"Offer2\"] + df_all[\"Offer3Qty\"] * df_all[\"Offer3\"] + df_all[\"Offer4Qty\"] * df_all[\"Offer4\"]) / df_all['weighted_offer_notional_5'] \n",
    "df_all['conventionally_weighted_mid_5'] = (df_all['weighted_bid_5'] + df_all['weighted_offer_5']) / 2\n",
    "df_all['cwm'] = df_all['conventionally_weighted_mid_5']\n",
    "df_all['cwm_signal'] = np.where(df_all['cwm'] >= df_all['mid'], 1, -1)\n",
    "\n",
    "\n",
    "# slow down to XTX pace \n",
    "df_all['cwm_signal_slow'] = df_all['cwm_signal'].rolling(cwm_lookback).mean()\n",
    "\n",
    "\n",
    "# shift signal and calculate returns\n",
    "df_all['cwm_signal'] = df_all['cwm_signal_slow'].shift(1)\n",
    "df_all['cwm_pnl'] = df_all['cwm_signal'] * df_all['mid_change']\n",
    "df_all['cwm_pnl'].cumsum().resample(\"1T\").last().plot()\n",
    "plt.legend();"
   ]
  },
  {
   "cell_type": "code",
   "execution_count": null,
   "metadata": {},
   "outputs": [],
   "source": [
    "#VWM - level 1 \n",
    "df_all['vwm'] = (df_all[\"Bid1Qty\"] * df_all[\"Offer1\"] + df_all[\"Bid1\"] * df_all[\"Offer1Qty\"])  / (df_all[\"Bid1Qty\"] + df_all[\"Offer1Qty\"])\n",
    "df_all['vwm_signal'] = np.where(df_all['vwm'] >= df_all['mid'], 1, -1)\n",
    "\n",
    "df_all['vwm_signal'] = np.where(df_all['vwm'] > df_all['mid'], 1, -1)\n",
    "\n",
    "# shift the signal\n",
    "df_all['vwm_signal'] = df_all['vwm_signal'].shift(1)\n",
    "\n",
    "# calculate returns\n",
    "df_all['vwm_pnl'] = df_all['vwm_signal'] * df_all['mid_change']\n",
    "df_all['vwm_pnl'].cumsum().resample(\"1T\").last().plot()\n",
    "plt.legend();"
   ]
  },
  {
   "cell_type": "code",
   "execution_count": null,
   "metadata": {},
   "outputs": [],
   "source": []
  },
  {
   "cell_type": "code",
   "execution_count": null,
   "metadata": {},
   "outputs": [],
   "source": []
  },
  {
   "cell_type": "markdown",
   "metadata": {},
   "source": [
    "\n",
    "### Trend Following"
   ]
  },
  {
   "cell_type": "code",
   "execution_count": null,
   "metadata": {},
   "outputs": [],
   "source": [
    "####################\n",
    "# Trend and Crossover\n",
    "####################\n",
    "\n",
    "trend_lookback = 2000\n",
    "\n",
    "crossover_1_lookback = 100\n",
    "crossover_2_lookback = 500\n",
    "\n",
    "# simple trend following model for mid generation\n",
    "df_all['trend_signal'] = np.where(df_all['mid'] > df_all['mid'].rolling(trend_lookback).mean(), 1, -1)\n",
    "df_all['trend_signal'] = df_all['trend_signal'].shift(1)\n",
    "df_all['trend_pnl'] = df_all['trend_signal'] * df_all['mid_change']\n",
    "\n",
    "# ma crossover\n",
    "df_all['crossover_signal'] = np.where(df_all['mid'].rolling(crossover_1_lookback).mean() > df_all['mid'].rolling(crossover_2_lookback).mean(), 1, -1)\n",
    "df_all['crossover_signal'] = df_all['crossover_signal'].shift(1)\n",
    "df_all['crossover_pnl'] = df_all['crossover_signal'] * df_all['mid_change']\n"
   ]
  },
  {
   "cell_type": "code",
   "execution_count": null,
   "metadata": {},
   "outputs": [],
   "source": [
    "df_all[['crossover_pnl', 'trend_pnl']].between_time('00:00', '22:00').cumsum().resample(\"1T\").last().plot()\n",
    "plt.legend();"
   ]
  },
  {
   "cell_type": "code",
   "execution_count": null,
   "metadata": {},
   "outputs": [],
   "source": []
  },
  {
   "cell_type": "code",
   "execution_count": null,
   "metadata": {},
   "outputs": [],
   "source": []
  },
  {
   "cell_type": "markdown",
   "metadata": {},
   "source": [
    "### Create 10ms breakout signal and combine with OFI"
   ]
  },
  {
   "cell_type": "code",
   "execution_count": null,
   "metadata": {},
   "outputs": [],
   "source": [
    "breakout_signal = hloc_filtered['overall_position'].resample(ofi_resample).last().ffill()\n",
    "breakout_signal = np.sign(breakout_signal)"
   ]
  },
  {
   "cell_type": "code",
   "execution_count": null,
   "metadata": {},
   "outputs": [],
   "source": [
    "df_all[\"breakout_signal\"] = breakout_signal"
   ]
  },
  {
   "cell_type": "code",
   "execution_count": null,
   "metadata": {},
   "outputs": [],
   "source": [
    "df_all[\"breakout_pnl\"] = df_all[\"breakout_signal\"] * df_all['mid_change']\n",
    "\n",
    "df_all[\"breakout_pnl\"].cumsum().resample(\"1T\").last().plot()\n",
    "plt.legend();"
   ]
  },
  {
   "cell_type": "code",
   "execution_count": null,
   "metadata": {},
   "outputs": [],
   "source": [
    "df_all['combined_signal'] = np.sign(df_all['ofi_signal'] + df_all['trend_signal'] + df_all['cwm_signal'] + df_all[\"skewness_signal\"] + df_all[\"breakout_signal\"])\n",
    "df_all['combined_pnl'] = df_all['mid_change'] * df_all['combined_signal']\n",
    "df_all['combined_pnl'].between_time('07:00', '19:00').cumsum().resample(\"1T\").last().plot()\n",
    "plt.legend();"
   ]
  },
  {
   "cell_type": "code",
   "execution_count": null,
   "metadata": {},
   "outputs": [],
   "source": [
    "breakout_resample = df_all[[\"breakout_signal\", \"breakout_pnl\"]].between_time('07:00', '19:00')"
   ]
  },
  {
   "cell_type": "code",
   "execution_count": null,
   "metadata": {},
   "outputs": [],
   "source": [
    "breakout_resample.head()"
   ]
  },
  {
   "cell_type": "markdown",
   "metadata": {},
   "source": [
    "### Adapt signal - Regime Switching "
   ]
  },
  {
   "cell_type": "code",
   "execution_count": null,
   "metadata": {},
   "outputs": [],
   "source": [
    "# set adaptive lookback period\n",
    "adapt_rolling = 10000\n",
    "\n",
    "df_all['ofi_pnl_ma'] = df_all['ofi_pnl'].rolling(adapt_rolling).mean()\n",
    "df_all['trend_pnl_ma'] = df_all['trend_pnl'].rolling(adapt_rolling).mean()\n",
    "df_all['cwm_pnl_ma'] = df_all['cwm_pnl'].rolling(adapt_rolling).mean()\n",
    "df_all['breakout_pnl_ma'] = df_all['breakout_pnl'].rolling(adapt_rolling).mean()\n"
   ]
  },
  {
   "cell_type": "code",
   "execution_count": null,
   "metadata": {},
   "outputs": [],
   "source": [
    "df_all['combined_pnl_ma'] = (df_all['ofi_pnl_ma'] + df_all['trend_pnl_ma'] + df_all['breakout_pnl_ma']) / 3"
   ]
  },
  {
   "cell_type": "code",
   "execution_count": null,
   "metadata": {},
   "outputs": [],
   "source": [
    "df_all['ofi_weight'] = np.where(df_all['ofi_pnl_ma'] > 0, 1, 0)\n",
    "df_all['ofi_weight'] = df_all['ofi_weight'].shift(1)"
   ]
  },
  {
   "cell_type": "code",
   "execution_count": null,
   "metadata": {},
   "outputs": [],
   "source": [
    "df_all['trend_weight'] = np.where(df_all['trend_pnl_ma'] > 0, 1, 0)\n",
    "df_all['trend_weight'] = df_all['trend_weight'].shift(1)"
   ]
  },
  {
   "cell_type": "code",
   "execution_count": null,
   "metadata": {},
   "outputs": [],
   "source": [
    "df_all['cwm_weight'] = np.where(df_all['cwm_pnl_ma'] > 0, 1, 0)\n",
    "df_all['cwm_weight'] = df_all['cwm_weight'].shift(1)"
   ]
  },
  {
   "cell_type": "code",
   "execution_count": null,
   "metadata": {},
   "outputs": [],
   "source": [
    "df_all['breakout_weight'] = np.where(df_all['breakout_pnl_ma'] > 0, 1, 0)\n",
    "df_all['breakout_weight'] = df_all['breakout_weight'].shift(1)"
   ]
  },
  {
   "cell_type": "code",
   "execution_count": null,
   "metadata": {},
   "outputs": [],
   "source": [
    "# two versions of the adapt\n",
    "\n",
    "# weighted by recent pnl\n",
    "df_all['adapt_signal'] = np.sign(\n",
    "    (df_all['cwm_weight'] * df_all['cwm_signal']) + \n",
    "    (df_all['trend_weight'] * df_all['trend_signal']) +\n",
    "    (df_all['ofi_weight'] * df_all['ofi_signal'])\n",
    ")\n",
    "\n",
    "# unweighted \n",
    "# df_all['adapt_signal'] = np.sign(\n",
    "#     df_all['breakout_signal'] +\n",
    "#     df_all['trend_signal'] +\n",
    "#     df_all['ofi_signal']\n",
    "# )"
   ]
  },
  {
   "cell_type": "code",
   "execution_count": null,
   "metadata": {},
   "outputs": [],
   "source": [
    "df_all['adapt_pnl'] = df_all['mid_change'] * df_all['adapt_signal']"
   ]
  },
  {
   "cell_type": "code",
   "execution_count": null,
   "metadata": {
    "scrolled": true
   },
   "outputs": [],
   "source": [
    "df_all['adapt_pnl'].cumsum().resample(\"1T\").last().plot()\n",
    "plt.legend();"
   ]
  },
  {
   "cell_type": "code",
   "execution_count": null,
   "metadata": {},
   "outputs": [],
   "source": []
  },
  {
   "cell_type": "markdown",
   "metadata": {},
   "source": [
    "## AND OR signals\n",
    "#### need to ammend this so it triggers when the breakout is +1 and the other is +1, but then keep the position for as long as breakout is +1. "
   ]
  },
  {
   "cell_type": "code",
   "execution_count": null,
   "metadata": {},
   "outputs": [],
   "source": [
    "df_all[\"AND_1_signal_long\"] = np.where(df_all[\"breakout_signal\"] + df_all[\"trend_signal\"] + df_all[\"ofi_signal\"] == 3, 1, 0)\n",
    "df_all[\"AND_1_signal_short\"] = np.where(df_all[\"breakout_signal\"] + df_all[\"trend_signal\"] + df_all[\"ofi_signal\"] == -3, -1, 0)"
   ]
  },
  {
   "cell_type": "code",
   "execution_count": null,
   "metadata": {},
   "outputs": [],
   "source": [
    "df_all[\"AND_1_pnl_long\"] = df_all[\"AND_1_signal_long\"] * df_all[\"mid_change\"]\n",
    "df_all[\"AND_1_pnl_short\"] = df_all[\"AND_1_signal_short\"] * df_all[\"mid_change\"]\n",
    "df_all[\"AND_1_pnl_total\"] = df_all[\"AND_1_pnl_long\"] + df_all[\"AND_1_pnl_short\"]"
   ]
  },
  {
   "cell_type": "code",
   "execution_count": null,
   "metadata": {},
   "outputs": [],
   "source": [
    "df_all['AND_1_pnl_total'].cumsum().resample(\"1T\").last().plot()\n",
    "plt.legend();"
   ]
  },
  {
   "cell_type": "code",
   "execution_count": null,
   "metadata": {},
   "outputs": [],
   "source": [
    "# OR \n",
    "df_all[\"OR_1_signal_long\"] = np.where(df_all[\"breakout_signal\"] + df_all[\"trend_signal\"] >= 1, 1, 0)\n",
    "df_all[\"OR_1_signal_short\"] = np.where(df_all[\"breakout_signal\"] + df_all[\"trend_signal\"] <= -1, -1, 0)\n",
    "df_all[\"OR_1_pnl_long\"] = df_all[\"OR_1_signal_long\"] * df_all[\"mid_change\"]\n",
    "df_all[\"OR_1_pnl_short\"] = df_all[\"OR_1_signal_short\"] * df_all[\"mid_change\"]\n",
    "df_all[\"OR_1_pnl_total\"] = df_all[\"OR_1_pnl_long\"] + df_all[\"OR_1_pnl_short\"]\n",
    "\n",
    "df_all['OR_1_pnl_total'].cumsum().resample(\"1T\").last().plot()\n",
    "plt.legend();"
   ]
  },
  {
   "cell_type": "code",
   "execution_count": null,
   "metadata": {},
   "outputs": [],
   "source": []
  },
  {
   "cell_type": "markdown",
   "metadata": {},
   "source": [
    "### Pnl Per Trade and Holding Period"
   ]
  },
  {
   "cell_type": "code",
   "execution_count": null,
   "metadata": {},
   "outputs": [],
   "source": [
    "###############\n",
    "# Counts the number of ticks between changes in the signal\n",
    "# Calculates pnl per trade \n",
    "###############\n",
    "\n",
    "# these are the df and column for the signals \n",
    "signal_df = breakout_resample\n",
    "signal_column = 'breakout_signal'\n",
    "\n",
    "# the df and column for the pnl\n",
    "pnl_column = df_all['breakout_pnl']\n",
    "\n",
    "\n",
    "def SignalPersisenceFast(df,column_name): \n",
    "    array= df[column_name].values\n",
    "    previous_signal  = False \n",
    "    Counter = 0\n",
    "    Times = []\n",
    "    for x in range(len(array)):\n",
    "        if((array[x] == previous_signal or Counter == 0) and array[x] != 0):\n",
    "            Counter = Counter + 1\n",
    "        else:\n",
    "            Times.append(Counter)\n",
    "            if array[x] != 0 : \n",
    "                Counter =  1\n",
    "        previous_signal = array[x]\n",
    "    return Times\n",
    "\n",
    "Times = SignalPersisenceFast(signal_df,signal_column)\n",
    "number_trades = (df_all[\"s\"].count() / np.mean(Times))\n",
    "pnl_per_trade = pnl_column.sum() / number_trades\n",
    "\n",
    "# prints out the results\n",
    "# print(\"name of strategy: \"f'{signal_column}')\n",
    "# print()\n",
    "# print(\"**configs**\")\n",
    "# print(\"adapt rolling: \"f'{adapt_rolling:d}')\n",
    "# print(\"trend lookback: \"f'{trend_lookback:.0f}')\n",
    "# print(\"cwm lookback: \"f'{cwm_lookback:.0f}')\n",
    "# print(\"ofi rolling: \"f'{ofi_lookback:.0f}')\n",
    "# print(\"ofi resample ms: \"f'{ofi_resample}')\n",
    "# print()\n",
    "\n",
    "print(\"**time in signal/trade**\")\n",
    "print(\"Mean units of time in trade \"f'{(np.mean(Times)):.2f}')\n",
    "print(\"25 percentile time in trade \" + str(np.percentile(Times, 25, axis=0)))\n",
    "print(\"Median time in trade \" + str(np.median(Times)))\n",
    "print(\"75 percentile time in trade \" + str(np.percentile(Times, 75, axis=0)))\n",
    "print()\n",
    "\n",
    "print(\"**performance stats**\")\n",
    "print(\"Number of signals/trades: \"f'{number_trades:.0f}')\n",
    "print(\"Cumulative PnL %: \"f'{(pnl_column.sum() * 100):.2f}')\n",
    "print(\"Average Trade PnL $ per million \"f'{(pnl_per_trade*1000000):.2f}')"
   ]
  },
  {
   "cell_type": "code",
   "execution_count": null,
   "metadata": {},
   "outputs": [],
   "source": [
    "name of strategy: xtx_signal\n",
    "\n",
    "**configs**\n",
    "adapt rolling: 10000\n",
    "trend lookback: 2000\n",
    "cwm lookback: 50\n",
    "ofi rolling: 20\n",
    "ofi resample ms: 10ms\n",
    "\n",
    "**time in signal/trade**\n",
    "Mean units of time in trade 115.23\n",
    "25 percentile time in trade 4.0\n",
    "Median time in trade 15.0\n",
    "75 percentile time in trade 103.0\n",
    "\n",
    "**performance stats**\n",
    "Number of signals/trades: 18745\n",
    "Cumulative PnL %: 12.75\n",
    "Average Trade PnL $ per million 6.80"
   ]
  },
  {
   "cell_type": "code",
   "execution_count": null,
   "metadata": {},
   "outputs": [],
   "source": []
  },
  {
   "cell_type": "code",
   "execution_count": null,
   "metadata": {},
   "outputs": [],
   "source": []
  },
  {
   "cell_type": "markdown",
   "metadata": {},
   "source": [
    "### Test our mid"
   ]
  },
  {
   "cell_type": "code",
   "execution_count": null,
   "metadata": {},
   "outputs": [],
   "source": [
    "# test our mid \n",
    "inst_price_london = our_price.resample(ofi_resample).last().ffill()\n",
    "df_all[\"inst_ldn_bid\"] = inst_price_london[\"Bid0\"]\n",
    "df_all[\"inst_ldn_offer\"] = inst_price_london[\"Offer0\"]\n",
    "df_all[\"inst_ldn_mid\"] = (df_all[\"inst_ldn_bid\"] + df_all[\"inst_ldn_offer\"]) / 2\n",
    "df_all[\"inst_ldn_signal\"] = np.where(df_all[\"inst_ldn_mid\"] > df_all[\"mid\"], 1, -1)\n",
    "df_all[\"inst_ldn_signal\"] = df_all[\"inst_ldn_signal\"].shift(1)\n",
    "df_all[\"inst_ldn_pnl\"] = df_all[\"inst_ldn_signal\"] * df_all[\"mid_change\"]\n",
    "df_all[\"inst_ldn_pnl\"].cumsum().resample(\"1T\").last().plot()\n",
    "plt.legend();"
   ]
  },
  {
   "cell_type": "code",
   "execution_count": null,
   "metadata": {},
   "outputs": [],
   "source": [
    "# test XTX mids\n",
    "xtx_prices = xtx_prices.resample(ofi_resample).last().ffill()\n",
    "df_all[\"xtx_bid\"] = xtx_prices[\"Bid0\"]\n",
    "df_all[\"xtx_offer\"] = xtx_prices[\"Offer0\"]\n",
    "df_all[\"xtx_mid\"] = (df_all[\"xtx_bid\"] + df_all[\"xtx_offer\"]) / 2\n",
    "df_all[\"xtx_signal\"] = np.where(df_all[\"xtx_mid\"] > df_all[\"mid\"], 1, -1)\n",
    "df_all[\"xtx_signal\"] = df_all[\"xtx_signal\"].shift(1)\n",
    "df_all[\"xtx_pnl\"] = df_all[\"xtx_signal\"] * df_all[\"mid_change\"]\n",
    "df_all[[\"xtx_pnl\"]].cumsum().resample(\"1T\").last().plot()\n",
    "plt.legend();"
   ]
  },
  {
   "cell_type": "code",
   "execution_count": null,
   "metadata": {},
   "outputs": [],
   "source": [
    "# run correlations between XTX and ourselves\n",
    "df_corr = df_all[[\"xtx_pnl\", \"adapt_pnl\", \"inst_ldn_pnl\", \"trend_pnl\", \"ofi_pnl\", \"cwm_pnl\", \"combined_pnl\", \"skewness_pnl\"]]\n",
    "print(\"XTX correlation with: \"f'{df_corr.corr().iloc[:, 0]}')"
   ]
  },
  {
   "cell_type": "code",
   "execution_count": null,
   "metadata": {},
   "outputs": [],
   "source": [
    "df_corr = df_all[[\"inst_ldn_pnl\", \"xtx_pnl\"]]\n",
    "df_corr.corr()"
   ]
  },
  {
   "cell_type": "code",
   "execution_count": null,
   "metadata": {},
   "outputs": [],
   "source": [
    "# run a regression to investigate XTX prices\n",
    "xtx_regression = df_corr\n",
    "\n",
    "import statsmodels.api as sm\n",
    "xtx_regression = xtx_regression.replace(np.NaN, 0)\n",
    "X = xtx_regression[[\"trend_pnl\", \"ofi_pnl\", \"cwm_pnl\"]]\n",
    "y = xtx_regression['xtx_pnl']\n",
    "\n",
    "est = sm.OLS(y, X).fit()\n",
    "print(est.summary())"
   ]
  },
  {
   "cell_type": "code",
   "execution_count": null,
   "metadata": {},
   "outputs": [],
   "source": []
  },
  {
   "cell_type": "code",
   "execution_count": null,
   "metadata": {},
   "outputs": [],
   "source": []
  },
  {
   "cell_type": "code",
   "execution_count": null,
   "metadata": {},
   "outputs": [],
   "source": [
    "df_all[[\"skewness\", \"mid\"]][\"2020-11-18 12:00:00\" : \"2020-11-18 12:05:00\"].plot(subplots=True)"
   ]
  },
  {
   "cell_type": "code",
   "execution_count": null,
   "metadata": {},
   "outputs": [],
   "source": []
  },
  {
   "cell_type": "code",
   "execution_count": null,
   "metadata": {},
   "outputs": [],
   "source": [
    "df_all[\"ofi_sig_yield_1\"] = df_all[\"breakout_signal\"] * df_all[\"mid_change\"].shift(-100000)\n",
    "df_all[\"ofi_sig_yield_10\"] = df_all[\"adapt_signal\"] * df_all[\"mid_change\"].shift(-100000)"
   ]
  },
  {
   "cell_type": "code",
   "execution_count": null,
   "metadata": {},
   "outputs": [],
   "source": [
    "ofi_sig_1_seconds_yield = df_all[\"ofi_sig_yield_1\"].mean(axis=0)\n",
    "ofi_sig_10_seconds_yield = df_all[\"ofi_sig_yield_10\"].mean(axis=0)\n"
   ]
  },
  {
   "cell_type": "code",
   "execution_count": null,
   "metadata": {},
   "outputs": [],
   "source": [
    "ofi_sig_1_seconds_yield "
   ]
  },
  {
   "cell_type": "code",
   "execution_count": null,
   "metadata": {},
   "outputs": [],
   "source": []
  },
  {
   "cell_type": "code",
   "execution_count": null,
   "metadata": {},
   "outputs": [],
   "source": [
    "# old results\n",
    "\n",
    "# XTX mid as a predictor \n",
    "**time in signal/trade**\n",
    "Mean units of time in trade 115.23\n",
    "25 percentile time in trade 4.0\n",
    "Median time in trade 15.0\n",
    "75 percentile time in trade 103.0\n",
    "\n",
    "**performance stats**\n",
    "Number of signals/trades: 18745\n",
    "Cumulative PnL %: 12.75\n",
    "Average Trade PnL $ per million 6.80\n",
    "\n",
    "# our INST mid as a predictor \n",
    "**time in signal/trade**\n",
    "Mean units of time in trade 69.44\n",
    "25 percentile time in trade 3.0\n",
    "Median time in trade 7.0\n",
    "75 percentile time in trade 45.0\n",
    "\n",
    "**performance stats**\n",
    "Number of signals/trades: 31109\n",
    "Cumulative PnL %: 4.14\n",
    "Average Trade PnL $ per million 1.33\n",
    "\n",
    "# models - slow\n",
    "**time in signal/trade**\n",
    "Mean units of time in trade 255.59\n",
    "25 percentile time in trade 5.0\n",
    "Median time in trade 47.0\n",
    "75 percentile time in trade 360.0\n",
    "\n",
    "**performance stats**\n",
    "Number of signals/trades: 8452\n",
    "Cumulative PnL %: 4.69\n",
    "Average Trade PnL $ per million 5.55\n",
    "\n",
    "\n",
    "# models - faster\n",
    "**configs**\n",
    "adapt rolling: 10000\n",
    "trend lookback: 200\n",
    "cwm lookback: 5\n",
    "ofi rolling: 25\n",
    "ofi resample ms: 10ms\n",
    "\n",
    "**time in signal/trade**\n",
    "Mean units of time in trade 36.76\n",
    "25 percentile time in trade 7.0\n",
    "Median time in trade 25.0\n",
    "75 percentile time in trade 39.0\n",
    "\n",
    "**performance stats**\n",
    "Number of signals/trades: 58766\n",
    "Cumulative PnL %: 9.78\n",
    "Average Trade PnL $ per million 1.66"
   ]
  },
  {
   "cell_type": "code",
   "execution_count": null,
   "metadata": {},
   "outputs": [],
   "source": [
    "df_all[[\"xtx_signal\", \"adapt_signal\"]][\"2020-11-18 12:00:00\" : \"2020-11-18 12:05:00\"].plot(subplots=True)"
   ]
  },
  {
   "cell_type": "code",
   "execution_count": null,
   "metadata": {},
   "outputs": [],
   "source": [
    "df_all[[\"xtx_pnl, inst_ldn_pnl\"]].cumsum().resample(\"1T\").last().plot()\n",
    "plt.legend();"
   ]
  },
  {
   "cell_type": "code",
   "execution_count": null,
   "metadata": {},
   "outputs": [],
   "source": []
  }
 ],
 "metadata": {
  "kernelspec": {
   "display_name": "Python 3",
   "language": "python",
   "name": "python3"
  },
  "language_info": {
   "codemirror_mode": {
    "name": "ipython",
    "version": 3
   },
   "file_extension": ".py",
   "mimetype": "text/x-python",
   "name": "python",
   "nbconvert_exporter": "python",
   "pygments_lexer": "ipython3",
   "version": "3.7.9"
  }
 },
 "nbformat": 4,
 "nbformat_minor": 2
}
