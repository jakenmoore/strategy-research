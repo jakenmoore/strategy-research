{
 "cells": [
  {
   "cell_type": "code",
   "execution_count": 1,
   "metadata": {},
   "outputs": [],
   "source": [
    "from crypto_option_pricing import *\n",
    "# Differaaent variables for use in the requests\n",
    "currency = 'BTC'\n",
    "market = symbol = 'BTC/USD'"
   ]
  },
  {
   "cell_type": "code",
   "execution_count": 2,
   "metadata": {},
   "outputs": [],
   "source": [
    "spot_rate = 40000\n",
    "\n",
    "instrument = \"BTC-26FEB21-40000-C\"\n",
    "\n",
    "def round_to_strike(x, base=2000):\n",
    "    return base * round(x/base)\n",
    "\n",
    "atm_strike = round_to_strike(spot_rate)\n",
    "strikes_list = list(range(atm_strike-10000, atm_strike+10000, 2000))"
   ]
  },
  {
   "cell_type": "code",
   "execution_count": 3,
   "metadata": {},
   "outputs": [
    {
     "data": {
      "text/plain": [
       "'BTC-26FEB21-40000-C'"
      ]
     },
     "execution_count": 3,
     "metadata": {},
     "output_type": "execute_result"
    }
   ],
   "source": [
    "generated_instrument = \"{}-26FEB21-{}-C\".format(currency, atm_strike)\n",
    "generated_instrument"
   ]
  },
  {
   "cell_type": "code",
   "execution_count": 4,
   "metadata": {},
   "outputs": [],
   "source": [
    "instrument = generated_instrument # \"BTC-26FEB21-38000-C\""
   ]
  },
  {
   "cell_type": "code",
   "execution_count": 5,
   "metadata": {},
   "outputs": [],
   "source": [
    "# Get all contract information from Deribit\n",
    "option = get_deribit_option_data(instrument)\n",
    "option = option[\"result\"]\n",
    "deribit_strike_price = get_deribit_strike_price(instrument, currency)\n",
    "deribit_expiry = get_deribit_expiry_date(instrument, currency)\n",
    "deribit_option_type = get_deribit_option_type(instrument, currency)\n",
    "deribit_bid_iv = get_deribit_bid_iv(option)\n",
    "deribit_ask_iv = get_deribit_ask_iv(option)\n",
    "deribit_mid_iv = get_deribit_mid_iv(deribit_bid_iv, deribit_ask_iv)\n",
    "deribit_index_price = get_deribit_index_price(option)\n",
    "deribit_underlying_price = get_deribit_underlying_price(option)\n",
    "deribit_best_bid_price = get_deribit_best_bid_price(option)\n",
    "deribit_best_ask_price = get_deribit_best_ask_price(option)\n",
    "deribit_delta = get_deribit_delta(option)\n",
    "days_to_expiry = get_days_to_expiry(deribit_expiry)"
   ]
  },
  {
   "cell_type": "code",
   "execution_count": 6,
   "metadata": {},
   "outputs": [],
   "source": [
    "# Calculate our prices \n",
    "#TODO we have moved from iv to sigma - make sigma \n",
    "#TODO generate the funding rate curve and forward curve\n",
    "#TODO generate our own index and underlying in real time\n",
    "\n",
    "# parameters for BS\n",
    "r = 0 # we are using the forward from Deribit - we could change to index price and calculate the rate\n",
    "b = 0 # this is a forward \n",
    "\n",
    "# organise bid parameters\n",
    "bid_params = {\n",
    "    \"s\": deribit_underlying_price,\n",
    "    \"r\": r,\n",
    "    \"k\": deribit_strike_price,\n",
    "    \"sigma\": deribit_bid_iv,\n",
    "    \"t\": days_to_expiry / 365,\n",
    "    \"b\": b,\n",
    "    \"option\": deribit_option_type\n",
    "}\n",
    "\n",
    "# organise ask parameters\n",
    "ask_params = {\n",
    "    \"s\": deribit_underlying_price,\n",
    "    \"r\": r,\n",
    "    \"k\": deribit_strike_price,\n",
    "    \"sigma\": deribit_ask_iv,\n",
    "    \"t\": days_to_expiry / 365,\n",
    "    \"b\": b,\n",
    "    \"option\": deribit_option_type\n",
    "}\n",
    "\n",
    "# delta parameters\n",
    "delta_params = {\n",
    "    \"s\": deribit_underlying_price,\n",
    "    \"k\": deribit_strike_price,\n",
    "    \"t\": days_to_expiry / 365,\n",
    "    \"r\": r,\n",
    "    \"sigma\": deribit_mid_iv,\n",
    "    \"option\": deribit_option_type\n",
    "}\n",
    "\n",
    "# use Black Scholes to calculate prices in USD\n",
    "our_bid_price = generalized_black_scholes(**bid_params) \n",
    "our_ask_price = generalized_black_scholes(**ask_params) \n",
    "\n",
    "# calculate percent prices\n",
    "our_bid_price_pct = generalized_black_scholes_pct(our_bid_price, deribit_underlying_price)\n",
    "our_ask_price_pct = generalized_black_scholes_pct(our_ask_price, deribit_underlying_price)\n",
    "\n",
    "# calculate our delta from mid sigma\n",
    "our_delta = delta(**delta_params)"
   ]
  },
  {
   "cell_type": "code",
   "execution_count": 7,
   "metadata": {},
   "outputs": [
    {
     "data": {
      "text/plain": [
       "0.148"
      ]
     },
     "execution_count": 7,
     "metadata": {},
     "output_type": "execute_result"
    }
   ],
   "source": [
    "our_bid_price_pct"
   ]
  },
  {
   "cell_type": "code",
   "execution_count": 8,
   "metadata": {},
   "outputs": [
    {
     "data": {
      "text/plain": [
       "0.18"
      ]
     },
     "execution_count": 8,
     "metadata": {},
     "output_type": "execute_result"
    }
   ],
   "source": [
    "our_ask_price_pct"
   ]
  },
  {
   "cell_type": "code",
   "execution_count": 9,
   "metadata": {},
   "outputs": [
    {
     "data": {
      "text/plain": [
       "0.148"
      ]
     },
     "execution_count": 9,
     "metadata": {},
     "output_type": "execute_result"
    }
   ],
   "source": [
    "deribit_best_bid_price"
   ]
  },
  {
   "cell_type": "code",
   "execution_count": 10,
   "metadata": {},
   "outputs": [
    {
     "data": {
      "text/plain": [
       "0.18"
      ]
     },
     "execution_count": 10,
     "metadata": {},
     "output_type": "execute_result"
    }
   ],
   "source": [
    "deribit_best_ask_price"
   ]
  },
  {
   "cell_type": "code",
   "execution_count": 11,
   "metadata": {},
   "outputs": [
    {
     "data": {
      "text/plain": [
       "6673.41"
      ]
     },
     "execution_count": 11,
     "metadata": {},
     "output_type": "execute_result"
    }
   ],
   "source": [
    "our_bid_price"
   ]
  },
  {
   "cell_type": "code",
   "execution_count": 12,
   "metadata": {},
   "outputs": [
    {
     "data": {
      "text/plain": [
       "8116.25"
      ]
     },
     "execution_count": 12,
     "metadata": {},
     "output_type": "execute_result"
    }
   ],
   "source": [
    "our_ask_price"
   ]
  },
  {
   "cell_type": "code",
   "execution_count": 13,
   "metadata": {},
   "outputs": [
    {
     "data": {
      "text/plain": [
       "0.723"
      ]
     },
     "execution_count": 13,
     "metadata": {},
     "output_type": "execute_result"
    }
   ],
   "source": [
    "our_delta"
   ]
  },
  {
   "cell_type": "code",
   "execution_count": 14,
   "metadata": {},
   "outputs": [
    {
     "data": {
      "text/plain": [
       "0.719"
      ]
     },
     "execution_count": 14,
     "metadata": {},
     "output_type": "execute_result"
    }
   ],
   "source": [
    "deribit_delta"
   ]
  },
  {
   "cell_type": "code",
   "execution_count": 15,
   "metadata": {},
   "outputs": [
    {
     "data": {
      "text/plain": [
       "{'our_bid': [6673.41], 'our_ask': [8116.25]}"
      ]
     },
     "execution_count": 15,
     "metadata": {},
     "output_type": "execute_result"
    }
   ],
   "source": [
    "table_data = {\"our_bid\": [our_bid_price],\n",
    "             \"our_ask\": [our_ask_price]}\n",
    "table_data"
   ]
  },
  {
   "cell_type": "code",
   "execution_count": 16,
   "metadata": {},
   "outputs": [
    {
     "data": {
      "text/plain": [
       "dict"
      ]
     },
     "execution_count": 16,
     "metadata": {},
     "output_type": "execute_result"
    }
   ],
   "source": [
    "type(table_data)"
   ]
  },
  {
   "cell_type": "code",
   "execution_count": 17,
   "metadata": {},
   "outputs": [],
   "source": [
    "import pprint"
   ]
  },
  {
   "cell_type": "code",
   "execution_count": 18,
   "metadata": {},
   "outputs": [
    {
     "name": "stdout",
     "output_type": "stream",
     "text": [
      "{'our_ask': [8116.25], 'our_bid': [6673.41]}\n"
     ]
    }
   ],
   "source": [
    "pp = pprint.PrettyPrinter(indent=4)\n",
    "pp.pprint(table_data)"
   ]
  },
  {
   "cell_type": "code",
   "execution_count": null,
   "metadata": {},
   "outputs": [],
   "source": []
  },
  {
   "cell_type": "code",
   "execution_count": null,
   "metadata": {},
   "outputs": [],
   "source": []
  },
  {
   "cell_type": "code",
   "execution_count": 19,
   "metadata": {},
   "outputs": [],
   "source": [
    "df_output = pd.DataFrame.from_dict(table_data)"
   ]
  },
  {
   "cell_type": "code",
   "execution_count": 20,
   "metadata": {},
   "outputs": [
    {
     "data": {
      "text/html": [
       "<div>\n",
       "<style scoped>\n",
       "    .dataframe tbody tr th:only-of-type {\n",
       "        vertical-align: middle;\n",
       "    }\n",
       "\n",
       "    .dataframe tbody tr th {\n",
       "        vertical-align: top;\n",
       "    }\n",
       "\n",
       "    .dataframe thead th {\n",
       "        text-align: right;\n",
       "    }\n",
       "</style>\n",
       "<table border=\"1\" class=\"dataframe\">\n",
       "  <thead>\n",
       "    <tr style=\"text-align: right;\">\n",
       "      <th></th>\n",
       "      <th>our_bid</th>\n",
       "      <th>our_ask</th>\n",
       "    </tr>\n",
       "  </thead>\n",
       "  <tbody>\n",
       "    <tr>\n",
       "      <th>0</th>\n",
       "      <td>6673.41</td>\n",
       "      <td>8116.25</td>\n",
       "    </tr>\n",
       "  </tbody>\n",
       "</table>\n",
       "</div>"
      ],
      "text/plain": [
       "   our_bid  our_ask\n",
       "0  6673.41  8116.25"
      ]
     },
     "execution_count": 20,
     "metadata": {},
     "output_type": "execute_result"
    }
   ],
   "source": [
    "df_output\n"
   ]
  },
  {
   "cell_type": "code",
   "execution_count": null,
   "metadata": {},
   "outputs": [],
   "source": []
  }
 ],
 "metadata": {
  "kernelspec": {
   "display_name": "Python 3",
   "language": "python",
   "name": "python3"
  },
  "language_info": {
   "codemirror_mode": {
    "name": "ipython",
    "version": 3
   },
   "file_extension": ".py",
   "mimetype": "text/x-python",
   "name": "python",
   "nbconvert_exporter": "python",
   "pygments_lexer": "ipython3",
   "version": "3.7.9"
  }
 },
 "nbformat": 4,
 "nbformat_minor": 4
}
