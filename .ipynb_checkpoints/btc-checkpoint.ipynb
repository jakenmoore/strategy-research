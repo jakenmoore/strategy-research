{
 "cells": [
  {
   "cell_type": "code",
   "execution_count": 1,
   "metadata": {},
   "outputs": [],
   "source": [
    "# import libraries\n",
    "import pandas as pd\n",
    "import numpy as np\n",
    "import math\n",
    "import datetime as dt\n",
    "from datetime import timedelta\n",
    "\n",
    "# charting libraries\n",
    "import matplotlib.pyplot as plt\n",
    "%matplotlib inline\n",
    "\n",
    "pd.options.display.max_columns = None \n",
    "\n",
    "import warnings\n",
    "warnings.filterwarnings('ignore')\n",
    "\n",
    "s3_bucket = 'mfx-sagemaker-dev'"
   ]
  },
  {
   "cell_type": "code",
   "execution_count": null,
   "metadata": {},
   "outputs": [],
   "source": [
    "df_key = \" jefferies/GBPUSD_20200803-220000_20200817-220000/2020-08-03T22:00:00.004Z-2020-08-17T22:00:00.264Z-Input_FASTMATCH-EBSDIRECT-REUTERS-HOTSPOT-GTX-CNX-FXALL_top5-1.csv.gz\"\n",
    "df = pd.read_csv('s3://{}/{}'.format(s3_bucket, df_key), index_col='t', parse_dates=['t'])"
   ]
  },
  {
   "cell_type": "code",
   "execution_count": null,
   "metadata": {},
   "outputs": [],
   "source": []
  },
  {
   "cell_type": "code",
   "execution_count": 10,
   "metadata": {},
   "outputs": [],
   "source": [
    "# Read Bitmex LOB \n",
    "file = \"/Volumes/research/data/lob_bitmex_BTCUSD_1596165105.parq\"\n",
    "btc_bitmex = pd.read_parquet(file)\n"
   ]
  },
  {
   "cell_type": "code",
   "execution_count": 12,
   "metadata": {},
   "outputs": [],
   "source": [
    "btc_bitmex[\"mid\"] = (btc_bitmex[\"bid_price\"] + btc_bitmex[\"ask_price\"]) / 2"
   ]
  },
  {
   "cell_type": "code",
   "execution_count": 13,
   "metadata": {},
   "outputs": [
    {
     "data": {
      "text/html": [
       "<div>\n",
       "<style scoped>\n",
       "    .dataframe tbody tr th:only-of-type {\n",
       "        vertical-align: middle;\n",
       "    }\n",
       "\n",
       "    .dataframe tbody tr th {\n",
       "        vertical-align: top;\n",
       "    }\n",
       "\n",
       "    .dataframe thead th {\n",
       "        text-align: right;\n",
       "    }\n",
       "</style>\n",
       "<table border=\"1\" class=\"dataframe\">\n",
       "  <thead>\n",
       "    <tr style=\"text-align: right;\">\n",
       "      <th></th>\n",
       "      <th>bid_price</th>\n",
       "      <th>bid_amount</th>\n",
       "      <th>ask_price</th>\n",
       "      <th>ask_amount</th>\n",
       "      <th>mid</th>\n",
       "    </tr>\n",
       "    <tr>\n",
       "      <th>time</th>\n",
       "      <th></th>\n",
       "      <th></th>\n",
       "      <th></th>\n",
       "      <th></th>\n",
       "      <th></th>\n",
       "    </tr>\n",
       "  </thead>\n",
       "  <tbody>\n",
       "    <tr>\n",
       "      <th>2020-07-31 03:10:06.715566</th>\n",
       "      <td>11036.0</td>\n",
       "      <td>2126834.0</td>\n",
       "      <td>11036.5</td>\n",
       "      <td>1164877.0</td>\n",
       "      <td>11036.25</td>\n",
       "    </tr>\n",
       "    <tr>\n",
       "      <th>2020-07-31 03:10:06.860158</th>\n",
       "      <td>11036.0</td>\n",
       "      <td>2124834.0</td>\n",
       "      <td>11036.5</td>\n",
       "      <td>1164877.0</td>\n",
       "      <td>11036.25</td>\n",
       "    </tr>\n",
       "    <tr>\n",
       "      <th>2020-07-31 03:10:07.113682</th>\n",
       "      <td>11036.0</td>\n",
       "      <td>2095897.0</td>\n",
       "      <td>11036.5</td>\n",
       "      <td>1164877.0</td>\n",
       "      <td>11036.25</td>\n",
       "    </tr>\n",
       "    <tr>\n",
       "      <th>2020-07-31 03:10:07.322244</th>\n",
       "      <td>11036.0</td>\n",
       "      <td>2095733.0</td>\n",
       "      <td>11036.5</td>\n",
       "      <td>1164877.0</td>\n",
       "      <td>11036.25</td>\n",
       "    </tr>\n",
       "    <tr>\n",
       "      <th>2020-07-31 03:10:08.281137</th>\n",
       "      <td>11036.0</td>\n",
       "      <td>2096872.0</td>\n",
       "      <td>11036.5</td>\n",
       "      <td>1164877.0</td>\n",
       "      <td>11036.25</td>\n",
       "    </tr>\n",
       "  </tbody>\n",
       "</table>\n",
       "</div>"
      ],
      "text/plain": [
       "                            bid_price  bid_amount  ask_price  ask_amount  \\\n",
       "time                                                                       \n",
       "2020-07-31 03:10:06.715566    11036.0   2126834.0    11036.5   1164877.0   \n",
       "2020-07-31 03:10:06.860158    11036.0   2124834.0    11036.5   1164877.0   \n",
       "2020-07-31 03:10:07.113682    11036.0   2095897.0    11036.5   1164877.0   \n",
       "2020-07-31 03:10:07.322244    11036.0   2095733.0    11036.5   1164877.0   \n",
       "2020-07-31 03:10:08.281137    11036.0   2096872.0    11036.5   1164877.0   \n",
       "\n",
       "                                 mid  \n",
       "time                                  \n",
       "2020-07-31 03:10:06.715566  11036.25  \n",
       "2020-07-31 03:10:06.860158  11036.25  \n",
       "2020-07-31 03:10:07.113682  11036.25  \n",
       "2020-07-31 03:10:07.322244  11036.25  \n",
       "2020-07-31 03:10:08.281137  11036.25  "
      ]
     },
     "execution_count": 13,
     "metadata": {},
     "output_type": "execute_result"
    }
   ],
   "source": [
    "btc_bitmex.head()"
   ]
  },
  {
   "cell_type": "code",
   "execution_count": 14,
   "metadata": {},
   "outputs": [
    {
     "data": {
      "text/plain": [
       "<matplotlib.axes._subplots.AxesSubplot at 0x11b0e7ac8>"
      ]
     },
     "execution_count": 14,
     "metadata": {},
     "output_type": "execute_result"
    },
    {
     "data": {
      "image/png": "[encoded data removed]",
      "text/plain": [
       "<Figure size 432x288 with 1 Axes>"
      ]
     },
     "metadata": {
      "needs_background": "light"
     },
     "output_type": "display_data"
    }
   ],
   "source": [
    "btc_bitmex[\"mid\"].resample(\"60t\").last().plot()"
   ]
  },
  {
   "cell_type": "code",
   "execution_count": null,
   "metadata": {},
   "outputs": [],
   "source": []
  },
  {
   "cell_type": "code",
   "execution_count": null,
   "metadata": {},
   "outputs": [],
   "source": []
  },
  {
   "cell_type": "code",
   "execution_count": null,
   "metadata": {},
   "outputs": [],
   "source": []
  },
  {
   "cell_type": "code",
   "execution_count": null,
   "metadata": {},
   "outputs": [],
   "source": []
  },
  {
   "cell_type": "code",
   "execution_count": null,
   "metadata": {},
   "outputs": [],
   "source": []
  },
  {
   "cell_type": "code",
   "execution_count": null,
   "metadata": {},
   "outputs": [],
   "source": []
  },
  {
   "cell_type": "code",
   "execution_count": null,
   "metadata": {},
   "outputs": [],
   "source": []
  },
  {
   "cell_type": "code",
   "execution_count": null,
   "metadata": {},
   "outputs": [],
   "source": []
  },
  {
   "cell_type": "code",
   "execution_count": null,
   "metadata": {},
   "outputs": [],
   "source": []
  },
  {
   "cell_type": "code",
   "execution_count": null,
   "metadata": {},
   "outputs": [],
   "source": []
  },
  {
   "cell_type": "code",
   "execution_count": null,
   "metadata": {},
   "outputs": [],
   "source": []
  },
  {
   "cell_type": "code",
   "execution_count": null,
   "metadata": {},
   "outputs": [],
   "source": []
  },
  {
   "cell_type": "code",
   "execution_count": null,
   "metadata": {},
   "outputs": [],
   "source": []
  }
 ],
 "metadata": {
  "kernelspec": {
   "display_name": "Python 3",
   "language": "python",
   "name": "python3"
  },
  "language_info": {
   "codemirror_mode": {
    "name": "ipython",
    "version": 3
   },
   "file_extension": ".py",
   "mimetype": "text/x-python",
   "name": "python",
   "nbconvert_exporter": "python",
   "pygments_lexer": "ipython3",
   "version": "3.7.9"
  }
 },
 "nbformat": 4,
 "nbformat_minor": 2
}
