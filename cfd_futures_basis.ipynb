{
 "cells": [
  {
   "cell_type": "markdown",
   "metadata": {},
   "source": [
    "CFD example\n",
    "The equation for calculating the overnight adjustment is broken down into two parts; the daily movement along the futures curve (basis), and the IG charge. This is applied to positions open at 10pm UK time.\n",
    "Overnight adjustment = number of contracts x contract size x (basis + IG charge)\n",
    "\n",
    "Formula for the IG charge = price x 2.5% / 365\n",
    "\n",
    "Formula for basis = (P3 – P2) / (T2 – T1) \n",
    "\n",
    "T1 = expiry date of the previous front future \n",
    "T2 = expiry date of the front future \n",
    "P2 = price of front future \n",
    "P3 = price of next future \n",
    "\n",
    "The basis equates to the daily movement of our undated price along the futures and may be a credit or a debit. This will either be a positive or negative number depending on the direction of your trade and the slope of the forward curve. \n",
    "\n",
    "For example imagine you are long one $10 contract on US Oil. If there was a time difference between T1 and T2 of 31 days, and front month future (P2) was 4700 and the next future (P3) was 4770 then the overnight adjustment would be calculated as follows:\n",
    " \n",
    "Overnight adjustment    = 1 x $10 x ((4770 – 4700 / 31) + (4700 x 2.5% / 365))\n",
    "\n",
    "                                     = $22.58 + $3.22\n",
    "\n",
    "In our example the cost to hold the position overnight is $3.22, however you will also see a cash neutral futures curve adjustment as well. The $22.58 basis adjustment will be offset in the running profit or loss on the position.\n",
    "\n",
    "On the other hand, if you were short US Oil in the above example then you would receive $22.58 and pay $3.22, therefore a net credit of $19.36.\n",
    "\n",
    "For any position opened before 10pm Friday that is still open after 10pm Friday, the basis adjustment will be made for three days as opposed to one. This three-day adjustment is applied on the Sunday night or Monday morning."
   ]
  },
  {
   "cell_type": "code",
   "execution_count": 3,
   "metadata": {},
   "outputs": [],
   "source": [
    "import datetime\n",
    "\n",
    "# T1 = expiry date of the previous front future \n",
    "T1 = datetime.datetime(2020, 7, 21)\n",
    "# T2 = expiry date of the next front future \n",
    "T2 = datetime.datetime(2020, 8, 21)\n",
    "\n",
    "# market data\n",
    "future_1_price = 42.49\n",
    "future_2_price = 42.72\n",
    "\n",
    "# time calculation\n",
    "time = T2 - T1\n",
    "time = time.days\n",
    "\n",
    "# funding\n",
    "# make this so Friday has three days of funding\n",
    "rate = 0.025\n",
    "days = 1\n",
    "funding = days * rate * (days/365)\n",
    "\n",
    "# basis \n",
    "basis = 1 * 10 * ((future_2_price - future_1_price) / (time))\n",
    "\n",
    "# total rate \n",
    "overnight = funding + basis "
   ]
  },
  {
   "cell_type": "code",
   "execution_count": null,
   "metadata": {},
   "outputs": [],
   "source": []
  },
  {
   "cell_type": "code",
   "execution_count": null,
   "metadata": {},
   "outputs": [],
   "source": []
  }
 ],
 "metadata": {
  "kernelspec": {
   "display_name": "Python 3",
   "language": "python",
   "name": "python3"
  },
  "language_info": {
   "codemirror_mode": {
    "name": "ipython",
    "version": 3
   },
   "file_extension": ".py",
   "mimetype": "text/x-python",
   "name": "python",
   "nbconvert_exporter": "python",
   "pygments_lexer": "ipython3",
   "version": "3.7.2"
  }
 },
 "nbformat": 4,
 "nbformat_minor": 2
}
