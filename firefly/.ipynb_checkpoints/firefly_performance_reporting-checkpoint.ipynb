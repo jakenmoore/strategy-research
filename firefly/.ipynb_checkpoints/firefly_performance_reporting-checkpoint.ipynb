{
 "cells": [
  {
   "cell_type": "code",
   "execution_count": null,
   "metadata": {},
   "outputs": [],
   "source": [
    "import mysql"
   ]
  },
  {
   "cell_type": "code",
   "execution_count": null,
   "metadata": {
    "scrolled": true
   },
   "outputs": [],
   "source": [
    "import pandas as pd\n",
    "import mysql.connector\n",
    "from mysql.connector import Error\n",
    "import numpy as np\n",
    "import matplotlib.pyplot as plt\n",
    "%matplotlib inline\n",
    "import warnings\n",
    "warnings.filterwarnings('ignore')\n",
    "import sqlalchemy"
   ]
  },
  {
   "cell_type": "code",
   "execution_count": null,
   "metadata": {
    "scrolled": true
   },
   "outputs": [],
   "source": [
    "# create the engine\n",
    "connection = mysql.connector.connect(host='ns3142407.ip-51-77-118.eu',\n",
    "                             database='kaiseki_prices',\n",
    "                             user='remote_user',\n",
    "                             password='Password*8')\n",
    "# check is connected\n",
    "connection.is_connected()"
   ]
  },
  {
   "cell_type": "code",
   "execution_count": null,
   "metadata": {
    "scrolled": true
   },
   "outputs": [],
   "source": [
    "# read SQL from text file\n",
    "with open('db_stmt.txt', 'r') as file:\n",
    "    stmt = file.read().strip()\n",
    "file.close()"
   ]
  },
  {
   "cell_type": "code",
   "execution_count": null,
   "metadata": {},
   "outputs": [],
   "source": []
  },
  {
   "cell_type": "code",
   "execution_count": null,
   "metadata": {
    "scrolled": true
   },
   "outputs": [],
   "source": [
    "# get data function\n",
    "def getLatestPrices():\n",
    "    cursor = connection.cursor()\n",
    "    cursor.execute(stmt)\n",
    "    result = cursor.fetchall()\n",
    "    # Create a DataFrame from the results: df\n",
    "    df = pd.DataFrame(result)\n",
    "    # Set Column names\n",
    "    df.columns = [i[0] for i in cursor.description]\n",
    "    df.set_index('timestamp', inplace=True)\n",
    "    df = df.apply(pd.to_numeric, errors='ignore')\n",
    "    return df"
   ]
  },
  {
   "cell_type": "code",
   "execution_count": null,
   "metadata": {},
   "outputs": [],
   "source": [
    "# create trades table\n",
    "trades = getLatestPrices()"
   ]
  },
  {
   "cell_type": "code",
   "execution_count": null,
   "metadata": {
    "scrolled": true
   },
   "outputs": [],
   "source": [
    "# add columns\n",
    "trades = trades.drop_duplicates(subset='trace_id', keep='first')\n",
    "trades = trades.sort_index(ascending=True)\n",
    "trades['pnl'] = trades['RealisedReturn'] / 2\n",
    "trades['open_spread'] = (trades['OpenPrice'] / trades['openMid'])-1\n",
    "trades['open_spread'] = np.sign(trades['Quantity']) * trades['open_spread'] \n",
    "trades['close_spread'] = (trades['ClosingPrice'] / trades['closeMid'])-1\n",
    "trades['close_spread'] = -np.sign(trades['Quantity']) * trades['close_spread'] \n",
    "\n",
    "trades['time'] = trades.index\n",
    "trades['time'] = trades['time'].dt.floor(\"H\")\n",
    "trades_pivoted = trades.pivot_table(index='time', columns='symbol',values = 'Quantity',aggfunc=np.sum)\n",
    "trades_pivoted = trades_pivoted.fillna(0)\n"
   ]
  },
  {
   "cell_type": "code",
   "execution_count": null,
   "metadata": {},
   "outputs": [],
   "source": [
    "trades"
   ]
  },
  {
   "cell_type": "code",
   "execution_count": null,
   "metadata": {},
   "outputs": [],
   "source": []
  },
  {
   "cell_type": "code",
   "execution_count": null,
   "metadata": {},
   "outputs": [],
   "source": []
  },
  {
   "cell_type": "code",
   "execution_count": null,
   "metadata": {
    "scrolled": true
   },
   "outputs": [],
   "source": [
    "pnl_pivoted = trades.pivot_table(index='time', columns='symbol',values = 'pnl', aggfunc=np.sum)\n",
    "pnl_pivoted = pnl_pivoted.fillna(0)\n",
    "\n",
    "pnl_pivoted['total'] = (pnl_pivoted.sum(axis=1))/2\n",
    "pnl_pivoted = pnl_pivoted[pnl_pivoted.index.dayofweek < 5]"
   ]
  },
  {
   "cell_type": "code",
   "execution_count": null,
   "metadata": {
    "scrolled": true
   },
   "outputs": [],
   "source": [
    "# fetch hourly mids from database\n",
    "cursor = connection.cursor()\n",
    "# cursor.execute(\"SELECT (bid + offer) / 2 as mid, timestamp, symbol FROM kaiseki_prices.shapshots_hourly sh, kaiseki_prices.symbols s \"\\\n",
    "#                \"WHERE sh.symbol_id = s.id\")\n",
    "cursor.execute(\"SELECT *  FROM kaiseki_prices.bars_hourly bh join kaiseki_prices.Symbols s on bh.symbol_id  = s.id\")\n",
    "rows = cursor.fetchall()\n",
    "prices = pd.DataFrame(rows)\n",
    "prices.columns = [i[0] for i in cursor.description]\n",
    "prices.set_index('timestamp', inplace=True)"
   ]
  },
  {
   "cell_type": "code",
   "execution_count": null,
   "metadata": {
    "scrolled": true
   },
   "outputs": [],
   "source": [
    "# create datetime index \n",
    "today = pd.to_datetime('today')\n",
    "dti = pd.date_range(start='2019-11-01', end=today, freq='H')\n",
    "# create prices and returns\n",
    "prices_pivoted = prices.pivot_table(index='timestamp', columns='symbol', values = 'close', aggfunc=np.sum)\n",
    "prices_pivoted.index.names = ['time']\n",
    "prices_df = prices_pivoted.loc[dti,:]\n",
    "returns = prices_pivoted.pct_change()\n",
    "returns = returns.loc[dti,:]"
   ]
  },
  {
   "cell_type": "code",
   "execution_count": null,
   "metadata": {},
   "outputs": [],
   "source": [
    "def Dollarise(df_close):\n",
    "        df_close_dollarised = df_close.copy(deep=True)\n",
    "        for col in df_close.columns:\n",
    "            if col[0:3] != \"USD\":\n",
    "                column_name = col[3:] + col[0:3]\n",
    "                df_close_dollarised = df_close_dollarised.drop(col, axis=1)\n",
    "                df_close_dollarised[column_name] = 1 / df_close[col]\n",
    "        return df_close_dollarised"
   ]
  },
  {
   "cell_type": "code",
   "execution_count": null,
   "metadata": {},
   "outputs": [],
   "source": [
    "prices_df = Dollarise(prices_df)"
   ]
  },
  {
   "cell_type": "code",
   "execution_count": null,
   "metadata": {
    "scrolled": true
   },
   "outputs": [],
   "source": [
    "# create theoretical model returns\n",
    "theo_model_results = (np.sign(trades_pivoted) * returns )/ 2\n",
    "theo_model_results['total'] = (theo_model_results.sum(axis=1))\n",
    "theo_model_results = theo_model_results[theo_model_results.index.dayofweek < 5]"
   ]
  },
  {
   "cell_type": "code",
   "execution_count": null,
   "metadata": {
    "scrolled": true
   },
   "outputs": [],
   "source": [
    "ff_theo = theo_model_results.between_time('08:00', '19:00')"
   ]
  },
  {
   "cell_type": "code",
   "execution_count": null,
   "metadata": {
    "scrolled": true
   },
   "outputs": [],
   "source": [
    "pnl_pivoted.tail(70).to_clipboard()"
   ]
  },
  {
   "cell_type": "code",
   "execution_count": null,
   "metadata": {
    "scrolled": true
   },
   "outputs": [],
   "source": [
    "ff_theo.tail(100).to_clipboard()"
   ]
  },
  {
   "cell_type": "code",
   "execution_count": null,
   "metadata": {},
   "outputs": [],
   "source": [
    "trades.tail()"
   ]
  },
  {
   "cell_type": "code",
   "execution_count": null,
   "metadata": {
    "scrolled": true
   },
   "outputs": [],
   "source": [
    "trades.tail(130).to_clipboard()\n"
   ]
  },
  {
   "cell_type": "code",
   "execution_count": null,
   "metadata": {},
   "outputs": [],
   "source": [
    "np.sign(trades_pivoted).tail(20)"
   ]
  },
  {
   "cell_type": "code",
   "execution_count": null,
   "metadata": {},
   "outputs": [],
   "source": [
    "prices_df.tail()"
   ]
  },
  {
   "cell_type": "code",
   "execution_count": null,
   "metadata": {},
   "outputs": [],
   "source": [
    "ff_theo.tail(100).to_clipboard()"
   ]
  },
  {
   "cell_type": "code",
   "execution_count": null,
   "metadata": {},
   "outputs": [],
   "source": [
    "np.sign(trades_pivoted).tail()"
   ]
  },
  {
   "cell_type": "code",
   "execution_count": null,
   "metadata": {},
   "outputs": [],
   "source": [
    "returns.shift(-1).tail()"
   ]
  },
  {
   "cell_type": "code",
   "execution_count": null,
   "metadata": {},
   "outputs": [],
   "source": []
  },
  {
   "cell_type": "code",
   "execution_count": null,
   "metadata": {},
   "outputs": [],
   "source": []
  },
  {
   "cell_type": "code",
   "execution_count": null,
   "metadata": {},
   "outputs": [],
   "source": [
    "breakout_trades = trades.loc[trades['Strategy'] == 'BreakOutstrategy']\n"
   ]
  },
  {
   "cell_type": "code",
   "execution_count": null,
   "metadata": {},
   "outputs": [],
   "source": []
  },
  {
   "cell_type": "code",
   "execution_count": null,
   "metadata": {},
   "outputs": [],
   "source": []
  },
  {
   "cell_type": "code",
   "execution_count": null,
   "metadata": {},
   "outputs": [],
   "source": []
  },
  {
   "cell_type": "code",
   "execution_count": null,
   "metadata": {},
   "outputs": [],
   "source": []
  },
  {
   "cell_type": "code",
   "execution_count": null,
   "metadata": {},
   "outputs": [],
   "source": []
  }
 ],
 "metadata": {
  "kernelspec": {
   "display_name": "Python 3",
   "language": "python",
   "name": "python3"
  },
  "language_info": {
   "codemirror_mode": {
    "name": "ipython",
    "version": 3
   },
   "file_extension": ".py",
   "mimetype": "text/x-python",
   "name": "python",
   "nbconvert_exporter": "python",
   "pygments_lexer": "ipython3",
   "version": "3.7.2"
  }
 },
 "nbformat": 4,
 "nbformat_minor": 2
}
