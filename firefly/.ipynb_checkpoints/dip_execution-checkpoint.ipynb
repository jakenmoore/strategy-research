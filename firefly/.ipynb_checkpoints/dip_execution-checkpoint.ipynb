{
 "cells": [
  {
   "cell_type": "code",
   "execution_count": 2,
   "metadata": {},
   "outputs": [],
   "source": [
    "import pandas as pd\n",
    "import matplotlib.pyplot as plt\n",
    "import numpy as np\n",
    "%matplotlib inline\n",
    "import warnings\n",
    "warnings.filterwarnings('ignore')"
   ]
  },
  {
   "cell_type": "code",
   "execution_count": 12,
   "metadata": {},
   "outputs": [],
   "source": [
    "df = pd.read_csv('g10_ohlc.csv', parse_dates=['Datetime'], index_col='Datetime')\n",
    "df = df[-3000:]"
   ]
  },
  {
   "cell_type": "code",
   "execution_count": 30,
   "metadata": {},
   "outputs": [],
   "source": [
    "usdjpy = df[['USDJPY_O', 'USDJPY_H', 'USDJPY_L', 'USDJPY_C']]\n",
    "usdeur = df[['USDEUR_O', 'USDEUR_H', 'USDEUR_L', 'USDEUR_C']]\n",
    "usdaud = df[['USDAUD_O', 'USDAUD_H', 'USDAUD_L', 'USDAUD_C']]\n"
   ]
  },
  {
   "cell_type": "code",
   "execution_count": 31,
   "metadata": {},
   "outputs": [],
   "source": [
    "usdjpy.columns = ['open', 'high', 'low', 'close']\n",
    "usdeur.columns = ['open', 'high', 'low', 'close']\n",
    "usdaud.columns = ['open', 'high', 'low', 'close']"
   ]
  },
  {
   "cell_type": "code",
   "execution_count": 15,
   "metadata": {},
   "outputs": [],
   "source": [
    "def close_to_high(high, close):\n",
    "    c_to_h = np.log(high / close.shift(1))\n",
    "    return c_to_h\n",
    "def close_to_low(low, close):\n",
    "    c_to_l = np.log(low / close.shift(1))\n",
    "    return c_to_l"
   ]
  },
  {
   "cell_type": "code",
   "execution_count": 16,
   "metadata": {},
   "outputs": [],
   "source": [
    "usdjpy['o_to_h'] = np.log(usdjpy['high'] / usdjpy['open'])\n",
    "usdjpy['o_to_l'] = np.log(usdjpy['low'] / usdjpy['open'])\n"
   ]
  },
  {
   "cell_type": "code",
   "execution_count": 26,
   "metadata": {},
   "outputs": [],
   "source": [
    "usdeur['o_to_h'] = np.log(usdeur['high'] / usdeur['open'])\n",
    "usdeur['o_to_l'] = np.log(usdeur['low'] / usdeur['open'])"
   ]
  },
  {
   "cell_type": "code",
   "execution_count": 32,
   "metadata": {},
   "outputs": [],
   "source": [
    "usdaud['o_to_h'] = np.log(usdaud['high'] / usdaud['open'])\n",
    "usdaud['o_to_l'] = np.log(usdaud['low'] / usdaud['open'])"
   ]
  },
  {
   "cell_type": "code",
   "execution_count": 17,
   "metadata": {},
   "outputs": [
    {
     "data": {
      "text/html": [
       "<div>\n",
       "<style scoped>\n",
       "    .dataframe tbody tr th:only-of-type {\n",
       "        vertical-align: middle;\n",
       "    }\n",
       "\n",
       "    .dataframe tbody tr th {\n",
       "        vertical-align: top;\n",
       "    }\n",
       "\n",
       "    .dataframe thead th {\n",
       "        text-align: right;\n",
       "    }\n",
       "</style>\n",
       "<table border=\"1\" class=\"dataframe\">\n",
       "  <thead>\n",
       "    <tr style=\"text-align: right;\">\n",
       "      <th></th>\n",
       "      <th>open</th>\n",
       "      <th>high</th>\n",
       "      <th>low</th>\n",
       "      <th>close</th>\n",
       "      <th>o_to_h</th>\n",
       "      <th>o_to_l</th>\n",
       "      <th>c_to_c</th>\n",
       "    </tr>\n",
       "    <tr>\n",
       "      <th>Datetime</th>\n",
       "      <th></th>\n",
       "      <th></th>\n",
       "      <th></th>\n",
       "      <th></th>\n",
       "      <th></th>\n",
       "      <th></th>\n",
       "      <th></th>\n",
       "    </tr>\n",
       "  </thead>\n",
       "  <tbody>\n",
       "    <tr>\n",
       "      <th>2019-08-14 05:00:00</th>\n",
       "      <td>106.3655</td>\n",
       "      <td>106.6230</td>\n",
       "      <td>106.3430</td>\n",
       "      <td>106.5635</td>\n",
       "      <td>0.002418</td>\n",
       "      <td>-0.000212</td>\n",
       "      <td>0.001883</td>\n",
       "    </tr>\n",
       "    <tr>\n",
       "      <th>2019-08-14 06:00:00</th>\n",
       "      <td>106.5635</td>\n",
       "      <td>106.5700</td>\n",
       "      <td>106.4273</td>\n",
       "      <td>106.4455</td>\n",
       "      <td>0.000061</td>\n",
       "      <td>-0.001279</td>\n",
       "      <td>-0.001108</td>\n",
       "    </tr>\n",
       "    <tr>\n",
       "      <th>2019-08-14 07:00:00</th>\n",
       "      <td>106.4453</td>\n",
       "      <td>106.4675</td>\n",
       "      <td>106.3620</td>\n",
       "      <td>106.3935</td>\n",
       "      <td>0.000209</td>\n",
       "      <td>-0.000783</td>\n",
       "      <td>-0.000489</td>\n",
       "    </tr>\n",
       "    <tr>\n",
       "      <th>2019-08-14 08:00:00</th>\n",
       "      <td>106.3935</td>\n",
       "      <td>106.4440</td>\n",
       "      <td>106.3060</td>\n",
       "      <td>106.4440</td>\n",
       "      <td>0.000475</td>\n",
       "      <td>-0.000823</td>\n",
       "      <td>0.000475</td>\n",
       "    </tr>\n",
       "    <tr>\n",
       "      <th>2019-08-14 09:00:00</th>\n",
       "      <td>106.4440</td>\n",
       "      <td>106.4695</td>\n",
       "      <td>106.3830</td>\n",
       "      <td>106.4120</td>\n",
       "      <td>0.000240</td>\n",
       "      <td>-0.000573</td>\n",
       "      <td>-0.000301</td>\n",
       "    </tr>\n",
       "  </tbody>\n",
       "</table>\n",
       "</div>"
      ],
      "text/plain": [
       "                         open      high       low     close    o_to_h  \\\n",
       "Datetime                                                                \n",
       "2019-08-14 05:00:00  106.3655  106.6230  106.3430  106.5635  0.002418   \n",
       "2019-08-14 06:00:00  106.5635  106.5700  106.4273  106.4455  0.000061   \n",
       "2019-08-14 07:00:00  106.4453  106.4675  106.3620  106.3935  0.000209   \n",
       "2019-08-14 08:00:00  106.3935  106.4440  106.3060  106.4440  0.000475   \n",
       "2019-08-14 09:00:00  106.4440  106.4695  106.3830  106.4120  0.000240   \n",
       "\n",
       "                       o_to_l    c_to_c  \n",
       "Datetime                                 \n",
       "2019-08-14 05:00:00 -0.000212  0.001883  \n",
       "2019-08-14 06:00:00 -0.001279 -0.001108  \n",
       "2019-08-14 07:00:00 -0.000783 -0.000489  \n",
       "2019-08-14 08:00:00 -0.000823  0.000475  \n",
       "2019-08-14 09:00:00 -0.000573 -0.000301  "
      ]
     },
     "execution_count": 17,
     "metadata": {},
     "output_type": "execute_result"
    }
   ],
   "source": [
    "usdjpy.tail()"
   ]
  },
  {
   "cell_type": "code",
   "execution_count": 18,
   "metadata": {},
   "outputs": [
    {
     "data": {
      "text/html": [
       "<div>\n",
       "<style scoped>\n",
       "    .dataframe tbody tr th:only-of-type {\n",
       "        vertical-align: middle;\n",
       "    }\n",
       "\n",
       "    .dataframe tbody tr th {\n",
       "        vertical-align: top;\n",
       "    }\n",
       "\n",
       "    .dataframe thead th {\n",
       "        text-align: right;\n",
       "    }\n",
       "</style>\n",
       "<table border=\"1\" class=\"dataframe\">\n",
       "  <thead>\n",
       "    <tr style=\"text-align: right;\">\n",
       "      <th></th>\n",
       "      <th>open</th>\n",
       "      <th>high</th>\n",
       "      <th>low</th>\n",
       "      <th>close</th>\n",
       "      <th>o_to_h</th>\n",
       "      <th>o_to_l</th>\n",
       "      <th>c_to_c</th>\n",
       "    </tr>\n",
       "  </thead>\n",
       "  <tbody>\n",
       "    <tr>\n",
       "      <th>count</th>\n",
       "      <td>3000.000000</td>\n",
       "      <td>3000.000000</td>\n",
       "      <td>3000.000000</td>\n",
       "      <td>3000.000000</td>\n",
       "      <td>3000.000000</td>\n",
       "      <td>3000.000000</td>\n",
       "      <td>2999.000000</td>\n",
       "    </tr>\n",
       "    <tr>\n",
       "      <th>mean</th>\n",
       "      <td>109.597355</td>\n",
       "      <td>109.649222</td>\n",
       "      <td>109.542440</td>\n",
       "      <td>109.596056</td>\n",
       "      <td>0.000474</td>\n",
       "      <td>-0.000503</td>\n",
       "      <td>-0.000013</td>\n",
       "    </tr>\n",
       "    <tr>\n",
       "      <th>std</th>\n",
       "      <td>1.762814</td>\n",
       "      <td>1.754590</td>\n",
       "      <td>1.773475</td>\n",
       "      <td>1.763998</td>\n",
       "      <td>0.000566</td>\n",
       "      <td>0.000564</td>\n",
       "      <td>0.000761</td>\n",
       "    </tr>\n",
       "    <tr>\n",
       "      <th>min</th>\n",
       "      <td>105.128000</td>\n",
       "      <td>105.166500</td>\n",
       "      <td>105.051000</td>\n",
       "      <td>105.128000</td>\n",
       "      <td>0.000000</td>\n",
       "      <td>-0.008168</td>\n",
       "      <td>-0.007953</td>\n",
       "    </tr>\n",
       "    <tr>\n",
       "      <th>25%</th>\n",
       "      <td>108.231000</td>\n",
       "      <td>108.283750</td>\n",
       "      <td>108.171875</td>\n",
       "      <td>108.229375</td>\n",
       "      <td>0.000138</td>\n",
       "      <td>-0.000656</td>\n",
       "      <td>-0.000314</td>\n",
       "    </tr>\n",
       "    <tr>\n",
       "      <th>50%</th>\n",
       "      <td>109.657500</td>\n",
       "      <td>109.712500</td>\n",
       "      <td>109.602500</td>\n",
       "      <td>109.656250</td>\n",
       "      <td>0.000327</td>\n",
       "      <td>-0.000348</td>\n",
       "      <td>0.000003</td>\n",
       "    </tr>\n",
       "    <tr>\n",
       "      <th>75%</th>\n",
       "      <td>111.348700</td>\n",
       "      <td>111.393000</td>\n",
       "      <td>111.303000</td>\n",
       "      <td>111.348750</td>\n",
       "      <td>0.000611</td>\n",
       "      <td>-0.000156</td>\n",
       "      <td>0.000309</td>\n",
       "    </tr>\n",
       "    <tr>\n",
       "      <th>max</th>\n",
       "      <td>112.363500</td>\n",
       "      <td>112.400500</td>\n",
       "      <td>112.184500</td>\n",
       "      <td>112.363500</td>\n",
       "      <td>0.013815</td>\n",
       "      <td>0.000000</td>\n",
       "      <td>0.012689</td>\n",
       "    </tr>\n",
       "  </tbody>\n",
       "</table>\n",
       "</div>"
      ],
      "text/plain": [
       "              open         high          low        close       o_to_h  \\\n",
       "count  3000.000000  3000.000000  3000.000000  3000.000000  3000.000000   \n",
       "mean    109.597355   109.649222   109.542440   109.596056     0.000474   \n",
       "std       1.762814     1.754590     1.773475     1.763998     0.000566   \n",
       "min     105.128000   105.166500   105.051000   105.128000     0.000000   \n",
       "25%     108.231000   108.283750   108.171875   108.229375     0.000138   \n",
       "50%     109.657500   109.712500   109.602500   109.656250     0.000327   \n",
       "75%     111.348700   111.393000   111.303000   111.348750     0.000611   \n",
       "max     112.363500   112.400500   112.184500   112.363500     0.013815   \n",
       "\n",
       "            o_to_l       c_to_c  \n",
       "count  3000.000000  2999.000000  \n",
       "mean     -0.000503    -0.000013  \n",
       "std       0.000564     0.000761  \n",
       "min      -0.008168    -0.007953  \n",
       "25%      -0.000656    -0.000314  \n",
       "50%      -0.000348     0.000003  \n",
       "75%      -0.000156     0.000309  \n",
       "max       0.000000     0.012689  "
      ]
     },
     "execution_count": 18,
     "metadata": {},
     "output_type": "execute_result"
    }
   ],
   "source": [
    "usdjpy.describe()"
   ]
  },
  {
   "cell_type": "code",
   "execution_count": 33,
   "metadata": {},
   "outputs": [],
   "source": [
    "usdaud.to_clipboard()"
   ]
  },
  {
   "cell_type": "code",
   "execution_count": 3,
   "metadata": {},
   "outputs": [],
   "source": [
    "df = pd.read_csv('ffv2pnl.csv', parse_dates=['Date'], index_col='Date')\n"
   ]
  },
  {
   "cell_type": "code",
   "execution_count": 5,
   "metadata": {},
   "outputs": [],
   "source": [
    "dfdaily = df.resample('B').sum()"
   ]
  },
  {
   "cell_type": "code",
   "execution_count": 7,
   "metadata": {},
   "outputs": [
    {
     "data": {
      "text/plain": [
       "Pnl    0.416493\n",
       "dtype: float64"
      ]
     },
     "execution_count": 7,
     "metadata": {},
     "output_type": "execute_result"
    }
   ],
   "source": [
    "dfdaily.mean()*252"
   ]
  },
  {
   "cell_type": "code",
   "execution_count": 9,
   "metadata": {},
   "outputs": [
    {
     "data": {
      "text/plain": [
       "Pnl    0.071582\n",
       "dtype: float64"
      ]
     },
     "execution_count": 9,
     "metadata": {},
     "output_type": "execute_result"
    }
   ],
   "source": [
    "dfdaily.std()*np.sqrt(252)"
   ]
  },
  {
   "cell_type": "code",
   "execution_count": 10,
   "metadata": {},
   "outputs": [
    {
     "data": {
      "text/plain": [
       "5.859154929577465"
      ]
     },
     "execution_count": 10,
     "metadata": {},
     "output_type": "execute_result"
    }
   ],
   "source": [
    ".416/.071\n"
   ]
  },
  {
   "cell_type": "code",
   "execution_count": 11,
   "metadata": {},
   "outputs": [
    {
     "data": {
      "text/plain": [
       "Pnl    0.001653\n",
       "dtype: float64"
      ]
     },
     "execution_count": 11,
     "metadata": {},
     "output_type": "execute_result"
    }
   ],
   "source": [
    "dfdaily.mean()"
   ]
  },
  {
   "cell_type": "code",
   "execution_count": 16,
   "metadata": {},
   "outputs": [],
   "source": [
    "dfdaily2 = dfdaily-0.0007"
   ]
  },
  {
   "cell_type": "code",
   "execution_count": 17,
   "metadata": {},
   "outputs": [
    {
     "data": {
      "text/plain": [
       "Pnl    0.240093\n",
       "dtype: float64"
      ]
     },
     "execution_count": 17,
     "metadata": {},
     "output_type": "execute_result"
    }
   ],
   "source": [
    "dfdaily2.mean()*252"
   ]
  },
  {
   "cell_type": "code",
   "execution_count": 18,
   "metadata": {},
   "outputs": [
    {
     "data": {
      "text/plain": [
       "Pnl    0.071582\n",
       "dtype: float64"
      ]
     },
     "execution_count": 18,
     "metadata": {},
     "output_type": "execute_result"
    }
   ],
   "source": [
    "dfdaily2.std()*np.sqrt(252)"
   ]
  },
  {
   "cell_type": "code",
   "execution_count": 21,
   "metadata": {},
   "outputs": [],
   "source": [
    "dfdailysum = dfdaily2.cumsum()"
   ]
  },
  {
   "cell_type": "code",
   "execution_count": 22,
   "metadata": {},
   "outputs": [
    {
     "data": {
      "text/plain": [
       "<matplotlib.axes._subplots.AxesSubplot at 0x122b8f470>"
      ]
     },
     "execution_count": 22,
     "metadata": {},
     "output_type": "execute_result"
    },
    {
     "data": {
      "image/png": "[encoded data removed]",
      "text/plain": [
       "<Figure size 432x288 with 1 Axes>"
      ]
     },
     "metadata": {
      "needs_background": "light"
     },
     "output_type": "display_data"
    }
   ],
   "source": [
    "dfdailysum.plot()"
   ]
  },
  {
   "cell_type": "code",
   "execution_count": 23,
   "metadata": {},
   "outputs": [
    {
     "data": {
      "text/plain": [
       "0.001"
      ]
     },
     "execution_count": 23,
     "metadata": {},
     "output_type": "execute_result"
    }
   ],
   "source": [
    "5*0.0002"
   ]
  },
  {
   "cell_type": "code",
   "execution_count": 24,
   "metadata": {},
   "outputs": [],
   "source": [
    "dfdailysum.to_clipboard()"
   ]
  },
  {
   "cell_type": "code",
   "execution_count": 25,
   "metadata": {},
   "outputs": [],
   "source": [
    "dfdaily2.to_clipboard()"
   ]
  },
  {
   "cell_type": "code",
   "execution_count": null,
   "metadata": {},
   "outputs": [],
   "source": []
  }
 ],
 "metadata": {
  "kernelspec": {
   "display_name": "Python 3",
   "language": "python",
   "name": "python3"
  },
  "language_info": {
   "codemirror_mode": {
    "name": "ipython",
    "version": 3
   },
   "file_extension": ".py",
   "mimetype": "text/x-python",
   "name": "python",
   "nbconvert_exporter": "python",
   "pygments_lexer": "ipython3",
   "version": "3.7.3"
  }
 },
 "nbformat": 4,
 "nbformat_minor": 2
}
