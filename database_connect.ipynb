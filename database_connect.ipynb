{
 "cells": [
  {
   "cell_type": "code",
   "execution_count": 9,
   "metadata": {},
   "outputs": [],
   "source": [
    "import pandas as pd"
   ]
  },
  {
   "cell_type": "code",
   "execution_count": 10,
   "metadata": {},
   "outputs": [],
   "source": [
    "import mysql.connector"
   ]
  },
  {
   "cell_type": "code",
   "execution_count": 15,
   "metadata": {},
   "outputs": [],
   "source": [
    "import pandas as pd\n",
    "import MySQLdb\n",
    "import pandas.io.sql as psql\n",
    "\n",
    "\n",
    "# setup the database connection.  There's no need to setup cursors with pandas psql.\n",
    "db=MySQLdb.connect(host='51.104.203.80', user='tommy', passwd='Password*8', db='bbg_data')\n",
    "\n",
    "# create the query\n",
    "query = \"select * from bbg_data_daily\"\n",
    "\n",
    "# execute the query and assign it to a pandas dataframe\n",
    "df = psql.read_sql(query, con=db)\n",
    "# close the database connection\n",
    "db.close()"
   ]
  },
  {
   "cell_type": "code",
   "execution_count": 16,
   "metadata": {},
   "outputs": [
    {
     "data": {
      "text/html": [
       "<div>\n",
       "<style scoped>\n",
       "    .dataframe tbody tr th:only-of-type {\n",
       "        vertical-align: middle;\n",
       "    }\n",
       "\n",
       "    .dataframe tbody tr th {\n",
       "        vertical-align: top;\n",
       "    }\n",
       "\n",
       "    .dataframe thead th {\n",
       "        text-align: right;\n",
       "    }\n",
       "</style>\n",
       "<table border=\"1\" class=\"dataframe\">\n",
       "  <thead>\n",
       "    <tr style=\"text-align: right;\">\n",
       "      <th></th>\n",
       "      <th>timestamp</th>\n",
       "      <th>ticker</th>\n",
       "      <th>field</th>\n",
       "      <th>value</th>\n",
       "    </tr>\n",
       "  </thead>\n",
       "  <tbody>\n",
       "    <tr>\n",
       "      <th>0</th>\n",
       "      <td>1980-01-31</td>\n",
       "      <td>GACGB10 INDEX</td>\n",
       "      <td>PX_LAST</td>\n",
       "      <td>10.45</td>\n",
       "    </tr>\n",
       "    <tr>\n",
       "      <th>1</th>\n",
       "      <td>1980-02-28</td>\n",
       "      <td>GACGB10 INDEX</td>\n",
       "      <td>PX_LAST</td>\n",
       "      <td>10.55</td>\n",
       "    </tr>\n",
       "    <tr>\n",
       "      <th>2</th>\n",
       "      <td>1980-03-31</td>\n",
       "      <td>GACGB10 INDEX</td>\n",
       "      <td>PX_LAST</td>\n",
       "      <td>11.20</td>\n",
       "    </tr>\n",
       "    <tr>\n",
       "      <th>3</th>\n",
       "      <td>1980-04-30</td>\n",
       "      <td>GACGB10 INDEX</td>\n",
       "      <td>PX_LAST</td>\n",
       "      <td>11.73</td>\n",
       "    </tr>\n",
       "    <tr>\n",
       "      <th>4</th>\n",
       "      <td>1980-05-12</td>\n",
       "      <td>NKY INDEX</td>\n",
       "      <td>PX_LAST</td>\n",
       "      <td>6754.94</td>\n",
       "    </tr>\n",
       "  </tbody>\n",
       "</table>\n",
       "</div>"
      ],
      "text/plain": [
       "   timestamp         ticker    field    value\n",
       "0 1980-01-31  GACGB10 INDEX  PX_LAST    10.45\n",
       "1 1980-02-28  GACGB10 INDEX  PX_LAST    10.55\n",
       "2 1980-03-31  GACGB10 INDEX  PX_LAST    11.20\n",
       "3 1980-04-30  GACGB10 INDEX  PX_LAST    11.73\n",
       "4 1980-05-12      NKY INDEX  PX_LAST  6754.94"
      ]
     },
     "execution_count": 16,
     "metadata": {},
     "output_type": "execute_result"
    }
   ],
   "source": [
    "df.head()"
   ]
  },
  {
   "cell_type": "code",
   "execution_count": null,
   "metadata": {},
   "outputs": [],
   "source": []
  }
 ],
 "metadata": {
  "kernelspec": {
   "display_name": "Python 3",
   "language": "python",
   "name": "python3"
  },
  "language_info": {
   "codemirror_mode": {
    "name": "ipython",
    "version": 3
   },
   "file_extension": ".py",
   "mimetype": "text/x-python",
   "name": "python",
   "nbconvert_exporter": "python",
   "pygments_lexer": "ipython3",
   "version": "3.7.9"
  }
 },
 "nbformat": 4,
 "nbformat_minor": 4
}
