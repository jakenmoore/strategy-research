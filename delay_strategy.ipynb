{
 "cells": [
  {
   "cell_type": "code",
   "execution_count": null,
   "metadata": {},
   "outputs": [],
   "source": [
    "#%% Import \n",
    "import pandas as pd\n",
    "import numpy as np\n",
    "import numpy as np\n",
    "import matplotlib.pyplot as plt\n",
    "import pyarrow as pa\n",
    "import pyarrow.parquet as pq\n",
    "import math\n",
    "import datetime\n",
    "from datetime import timedelta\n",
    "import scipy.stats\n",
    "import warnings\n",
    "warnings.filterwarnings('ignore')\n",
    "%matplotlib inline\n"
   ]
  },
  {
   "cell_type": "code",
   "execution_count": null,
   "metadata": {},
   "outputs": [],
   "source": [
    "#%% Set the file names\n",
    "# TODO - we want to optimise the holding period - since there arent many trades, want to up the yield per trade\n",
    "# set the date for date loc\n",
    "date_loc = '2020-07-23'\n",
    "lookback = 500 # this is 100 lots of resample_period\n",
    "resample_period = \"10ms\"\n",
    "\n",
    "filename_futures_quotes = \"/Volumes/GoogleDrive/Shared drives/data/jeff_usdcad_20200723_quotes.csv\"\n",
    "filename_futures_trades = \"/Volumes/GoogleDrive/Shared drives/data/jeff_usdcad_20200721_20200724_trades_clients\"\n"
   ]
  },
  {
   "cell_type": "code",
   "execution_count": null,
   "metadata": {},
   "outputs": [],
   "source": [
    "#%% Define the ofi\n",
    "def ofi(quotes,level):\n",
    "    \"\"\"Returns Order Flow Imbalance for given levels of the orderbook\"\"\"\n",
    "    qdf = quotes.copy()\n",
    "    bid_price_label = 'Bid' + str(level)\n",
    "    offer_price_label = 'Offer' + str(level)\n",
    "    bid_qty_label = 'Bid' +str(level) + 'Qty'\n",
    "    offer_qty_label = 'Offer' + str(level)+'Qty'\n",
    "\n",
    "    qdf['prev_bidprice'] = qdf[bid_price_label].shift()\n",
    "    qdf['prev_bidsize'] = qdf[bid_qty_label].shift()\n",
    "    qdf['prev_askprice'] = qdf[offer_price_label].shift()\n",
    "    qdf['prev_asksize'] = qdf[offer_qty_label].shift()\n",
    "\n",
    "    # Fix any missing/invalid data\n",
    "    qdf.replace([np.inf, np.NINF], np.nan, inplace=True)\n",
    "    qdf.fillna(method=\"ffill\", inplace=True)\n",
    "    qdf.fillna(method=\"bfill\", inplace=True)\n",
    "    \n",
    "    bid_geq = qdf[bid_price_label] >= qdf['prev_bidprice']\n",
    "    bid_leq = qdf[bid_price_label] <= qdf['prev_bidprice']\n",
    "    ask_geq = qdf[offer_price_label] >= qdf['prev_askprice']\n",
    "    ask_leq = qdf[offer_price_label] <= qdf['prev_askprice']\n",
    "    \n",
    "    qdf['ofi'] = np.zeros(len(qdf))\n",
    "    qdf['ofi'].loc[bid_geq] += qdf[bid_qty_label].loc[bid_geq]\n",
    "    qdf['ofi'].loc[bid_leq] -= qdf['prev_bidsize'].loc[bid_leq]\n",
    "    qdf['ofi'].loc[ask_geq] += qdf['prev_asksize'].loc[ask_geq]\n",
    "    qdf['ofi'].loc[ask_leq] -= qdf[offer_qty_label].loc[ask_leq]    \n",
    "    return qdf['ofi']"
   ]
  },
  {
   "cell_type": "code",
   "execution_count": null,
   "metadata": {},
   "outputs": [],
   "source": [
    "# %% Read the order book data for futures\n",
    "df_quotes = pd.read_csv(filename_futures_quotes)\n",
    "df_quotes['t'] = pd.to_datetime(df_quotes['t'],errors='coerce')\n",
    "df_quotes.set_index(\"t\",inplace=True)\n",
    "\n",
    "#df_all  = df_all.resample(\"100ms\").last()\n",
    "df_quotes[\"Offer0Qty\"] = df_quotes[\"Offer0Qty\"].astype('float')\n",
    "df_quotes[\"Offer0\"] = df_quotes[\"Offer0\"].astype('float')\n",
    "df_quotes[\"Bid0\"] = df_quotes[\"Bid0\"].astype('float')\n",
    "df_quotes[\"Bid0Qty\"] = df_quotes[\"Bid0Qty\"].astype('float')\n",
    "\n",
    "df_quotes[\"Offer1Qty\"] = df_quotes[\"Offer1Qty\"].astype('float')\n",
    "df_quotes[\"Offer1\"] = df_quotes[\"Offer1\"].astype('float')\n",
    "df_quotes[\"Bid1\"] = df_quotes[\"Bid1\"].astype('float')\n",
    "df_quotes[\"Bid1Qty\"] = df_quotes[\"Bid1Qty\"].astype('float')\n",
    "\n",
    "df_quotes[\"Offer2Qty\"] = df_quotes[\"Offer2Qty\"].astype('float')\n",
    "df_quotes[\"Offer2\"] = df_quotes[\"Offer2\"].astype('float')\n",
    "df_quotes[\"Bid2\"] = df_quotes[\"Bid2\"].astype('float')\n",
    "df_quotes[\"Bid2Qty\"] = df_quotes[\"Bid2Qty\"].astype('float')\n",
    "\n",
    "df_quotes[\"Offer3Qty\"] = df_quotes[\"Offer3Qty\"].astype('float')\n",
    "df_quotes[\"Offer3\"] = df_quotes[\"Offer3\"].astype('float')\n",
    "df_quotes[\"Bid3\"] = df_quotes[\"Bid3\"].astype('float')\n",
    "df_quotes[\"Bid3Qty\"] = df_quotes[\"Bid3Qty\"].astype('float')\n",
    "\n",
    "df_quotes[\"Offer4Qty\"] = df_quotes[\"Offer4Qty\"].astype('float')\n",
    "df_quotes[\"Offer4\"] = df_quotes[\"Offer4\"].astype('float')\n",
    "df_quotes[\"Bid4\"] = df_quotes[\"Bid4\"].astype('float')\n",
    "df_quotes[\"Bid4Qty\"] = df_quotes[\"Bid4Qty\"].astype('float')\n",
    "\n",
    "\n",
    "df_quotes['market_mid'] = (df_quotes['Bid0'] + df_quotes['Offer0']) / 2\n",
    "\n",
    "df_quotes = df_quotes.loc[date_loc]\n",
    "\n",
    "\n",
    "#remove the duplicates\n",
    "df_quotes = df_quotes.loc[~df_quotes.index.duplicated(keep='last')]"
   ]
  },
  {
   "cell_type": "code",
   "execution_count": null,
   "metadata": {},
   "outputs": [],
   "source": [
    "\n",
    "########################\n",
    "# OFI using top x levels \n",
    "########################\n",
    "\n",
    "df_quotes = df_quotes.resample(resample_period).last().ffill()\n",
    "df_quotes = df_quotes\n",
    "\n",
    "df_quotes[\"Offer0Qty\"] = df_quotes[\"Offer0Qty\"].astype('float')\n",
    "df_quotes[\"Offer0\"] = df_quotes[\"Offer0\"].astype('float')\n",
    "df_quotes[\"Bid0\"] = df_quotes[\"Bid0\"].astype('float')\n",
    "df_quotes[\"Bid0Qty\"] = df_quotes[\"Bid0Qty\"].astype('float')\n",
    "\n",
    "df_quotes[\"Offer1Qty\"] = df_quotes[\"Offer1Qty\"].astype('float')\n",
    "df_quotes[\"Offer1\"] = df_quotes[\"Offer1\"].astype('float')\n",
    "df_quotes[\"Bid1\"] = df_quotes[\"Bid1\"].astype('float')\n",
    "df_quotes[\"Bid1Qty\"] = df_quotes[\"Bid1Qty\"].astype('float')\n",
    "\n",
    "df_quotes[\"Offer2Qty\"] = df_quotes[\"Offer2Qty\"].astype('float')\n",
    "df_quotes[\"Offer2\"] = df_quotes[\"Offer2\"].astype('float')\n",
    "df_quotes[\"Bid2\"] = df_quotes[\"Bid2\"].astype('float')\n",
    "df_quotes[\"Bid2Qty\"] = df_quotes[\"Bid2Qty\"].astype('float')\n",
    "\n",
    "df_quotes[\"Offer3Qty\"] = df_quotes[\"Offer3Qty\"].astype('float')\n",
    "df_quotes[\"Offer3\"] = df_quotes[\"Offer3\"].astype('float')\n",
    "df_quotes[\"Bid3\"] = df_quotes[\"Bid3\"].astype('float')\n",
    "df_quotes[\"Bid3Qty\"] = df_quotes[\"Bid3Qty\"].astype('float')\n",
    "\n",
    "df_quotes[\"Offer4Qty\"] = df_quotes[\"Offer4Qty\"].astype('float')\n",
    "df_quotes[\"Offer4\"] = df_quotes[\"Offer4\"].astype('float')\n",
    "df_quotes[\"Bid4\"] = df_quotes[\"Bid4\"].astype('float')\n",
    "df_quotes[\"Bid4Qty\"] = df_quotes[\"Bid4Qty\"].astype('float')\n",
    "\n"
   ]
  },
  {
   "cell_type": "code",
   "execution_count": null,
   "metadata": {},
   "outputs": [],
   "source": [
    "# OFI levels 1, 2 and 3\n",
    "# moving average sets position change speed\n",
    "\n",
    "df_quotes['ofi'] = ofi(df_quotes,1) + ofi(df_quotes,2) + ofi(df_quotes,3) \n",
    "df_quotes['ofi_signal'] = np.where(df_quotes['ofi'].rolling(lookback).mean() > 0, 1, -1)\n",
    "df_quotes['mid'] = ((df_quotes['Bid0'] + df_quotes['Offer0']) / 2.0)\n",
    "df_quotes['mid_change'] = ((df_quotes['Bid0'] + df_quotes['Offer0']) / 2.0).pct_change()\n",
    "\n",
    "# shift the signal\n",
    "df_quotes['ofi_signal'] = df_quotes['ofi_signal'].shift(1)\n",
    "df_quotes['ofi_pnl'] = (df_quotes['ofi_signal'] * df_quotes['mid_change'])\n",
    "\n",
    "print(\"Cumulative PnL \" + str(df_quotes['ofi_pnl'].cumsum().iloc[-1]))\n",
    "\n",
    "#plot\n",
    "df_quotes['ofi_pnl'].cumsum().resample(\"1T\").last().plot()"
   ]
  },
  {
   "cell_type": "code",
   "execution_count": null,
   "metadata": {},
   "outputs": [],
   "source": []
  },
  {
   "cell_type": "code",
   "execution_count": null,
   "metadata": {},
   "outputs": [],
   "source": [
    "\n",
    "#add a suffix\n",
    "df_quotes = df_quotes.add_suffix('_quotes')\n",
    "\n",
    "\n",
    "#%% Read the data\n",
    "# Load trades\n",
    "df_trades = pd.read_csv(filename_futures_trades+ \".csv\")\n",
    "\n",
    "# Set the index\n",
    "df_trades[\"timestamp\"] = df_trades[\"transactTime\"] \n",
    "df_trades[\"timestamp\"] = pd.to_datetime(df_trades[\"timestamp\"])\n",
    "df_trades.set_index(\"timestamp\", inplace=True)\n",
    "df_trades.sort_index(inplace=True)\n",
    "\n",
    "#drop unused columns\n",
    "#df_trades.to_parquet(filename_trades + \".parq\", compression=\"snappy\")\n",
    "\n",
    "df_trades = df_trades[['fillPrice','filledQuantity','side']]\n",
    "df_trades = df_trades.loc[date_loc]\n"
   ]
  },
  {
   "cell_type": "code",
   "execution_count": null,
   "metadata": {},
   "outputs": [],
   "source": [
    "#%% Calcuate the weighted averages for the trades\n",
    "import numpy as np\n",
    "def weighted_average(group):\n",
    "   weights = group['filledQuantity']\n",
    "   height = group['fillPrice']   \n",
    "   return np.average(height,weights=weights)\n",
    "\n",
    "\n",
    "grouped  = df_trades.groupby(['timestamp','side']).apply(weighted_average).unstack()\n",
    "grouped = grouped.add_suffix('_price')\n",
    "grouped2  = df_trades.groupby(['timestamp','side'])['filledQuantity'].apply(sum).unstack()\n",
    "grouped2 = grouped2.add_suffix('_qty')\n",
    "grouped = pd.concat([grouped, grouped2], axis=1, sort=True)\n",
    "grouped = grouped[['buy_price','sell_price','buy_qty','sell_qty']]\n",
    "grouped.columns =['OFFER_price','BID_price','OFFER_qty','BID_qty']\n",
    "grouped.index = pd.to_datetime(grouped.index)\n",
    "\n",
    "\n",
    "#%% Join the CFDs with the future quotes \n",
    "\n",
    "result_final = pd.concat([grouped,df_quotes], axis=1, sort=True)\n",
    "result_final = result_final[['BID_price','OFFER_price','BID_qty','OFFER_qty','ofi_signal_quotes','Bid0_quotes','Offer0_quotes','mid_quotes' ]]\n",
    "result_final.sort_index(inplace=True)\n",
    "\n",
    "cols = ['Bid0_quotes', 'Offer0_quotes','ofi_signal_quotes']\n",
    "result_final.loc[:,cols] = result_final.loc[:,cols].fillna(method=\"ffill\")\n",
    "result_final.describe()\n"
   ]
  },
  {
   "cell_type": "code",
   "execution_count": null,
   "metadata": {},
   "outputs": [],
   "source": [
    "#%%\n",
    "result_final['delayed_bid'] = np.nan\n",
    "result_final['delayed_offer'] = np.nan\n",
    "result_final['delayed_mid'] = np.nan\n",
    "\n",
    "\n",
    "delayed_mid_index =result_final.columns.get_loc('delayed_mid')\n",
    "delayed_bid_index =result_final.columns.get_loc('delayed_bid')\n",
    "delayed_offer_index = result_final.columns.get_loc('delayed_offer')\n",
    "BID_price_index =result_final.columns.get_loc('BID_price')\n",
    "OFFER_price_index = result_final.columns.get_loc('OFFER_price')\n",
    "ofi_signal_quotes_index = result_final.columns.get_loc('ofi_signal_quotes')\n",
    "Bid0_CFD_index =result_final.columns.get_loc('Bid0_quotes')\n",
    "Offer0_CFD_index = result_final.columns.get_loc('Offer0_quotes')\n"
   ]
  },
  {
   "cell_type": "code",
   "execution_count": null,
   "metadata": {},
   "outputs": [],
   "source": [
    "result_final_columns  = result_final.columns\n",
    "array = result_final.values\n",
    "for i in range(array.shape[0]):\n",
    "    # We want to sell but the signal says up\n",
    "    if (array[i,BID_price_index] > 0) & (array[i,ofi_signal_quotes_index] > 0):\n",
    "        # Delay the execution\n",
    "        for i_inner in range(i,array.shape[0]):\n",
    "            if array[i_inner,ofi_signal_quotes_index] < 0:\n",
    "                array[i,delayed_bid_index] = array[i_inner,Bid0_CFD_index]\n",
    "                array[i,delayed_mid_index] = (array[i_inner,Bid0_CFD_index] + array[i_inner,Offer0_CFD_index])/2\n",
    "                break\n",
    "    if (array[i,OFFER_price_index] > 0) & (array[i,ofi_signal_quotes_index] < 0):\n",
    "         # Delay the execution\n",
    "        for i_inner in range(i,array.shape[0]):\n",
    "            if array[i_inner,ofi_signal_quotes_index]  > 0:\n",
    "                array[i,delayed_offer_index] = array[i_inner,Offer0_CFD_index]\n",
    "                array[i,delayed_mid_index] = (array[i_inner,Bid0_CFD_index] + array[i_inner,Offer0_CFD_index])/2\n",
    "                break\n",
    "\n",
    "\n",
    "result_final = pd.DataFrame(data = array,index = result_final.index,columns = result_final_columns)\n",
    "\n",
    "\n",
    "del array"
   ]
  },
  {
   "cell_type": "code",
   "execution_count": null,
   "metadata": {},
   "outputs": [],
   "source": [
    "#%% Calculate the PnL\n",
    "result_final['PnL'] = 0\n",
    "cols = ['Bid0_quotes', 'Offer0_quotes',]\n",
    "result_final.loc[:,cols] = result_final.loc[:,cols].fillna(method=\"ffill\")\n",
    "\n",
    "result_final['mid_quotes'] = ((result_final['Bid0_quotes'] + result_final['Offer0_quotes']) / 2.0)"
   ]
  },
  {
   "cell_type": "code",
   "execution_count": null,
   "metadata": {},
   "outputs": [],
   "source": [
    "# VS the actual trades\n",
    "result_final.loc[result_final['delayed_bid'] > 0, 'PnL']   =  result_final['delayed_bid'] - result_final['BID_price']\n",
    "result_final.loc[result_final['delayed_offer'] > 0, 'PnL'] = result_final['OFFER_price'] - result_final['delayed_offer']\n",
    "result_final['PnL'].cumsum().resample(\"1T\").last().plot()"
   ]
  },
  {
   "cell_type": "code",
   "execution_count": null,
   "metadata": {},
   "outputs": [],
   "source": [
    "# ON the mids\n",
    "result_final.loc[result_final['delayed_bid'] > 0, 'PnL']   =  (result_final['delayed_mid'] / result_final['mid_quotes'])-1\n",
    "result_final.loc[result_final['delayed_offer'] > 0, 'PnL'] = (result_final['mid_quotes'] / result_final['delayed_mid'])-1\n",
    "result_final['PnL'].cumsum().resample(\"1T\").last().plot()"
   ]
  },
  {
   "cell_type": "code",
   "execution_count": null,
   "metadata": {},
   "outputs": [],
   "source": [
    "# ON the top of the book\n",
    "result_final.loc[result_final['delayed_bid'] > 0, 'PnL']   =  (result_final['delayed_bid'] / result_final['Bid0_quotes'])-1\n",
    "result_final.loc[result_final['delayed_offer'] > 0, 'PnL'] = (result_final['Offer0_quotes'] / result_final['delayed_offer'])-1\n",
    "result_final['PnL'].cumsum().resample(\"1T\").last().plot()"
   ]
  },
  {
   "cell_type": "code",
   "execution_count": null,
   "metadata": {},
   "outputs": [],
   "source": [
    "result_final['PnL'].describe()"
   ]
  },
  {
   "cell_type": "code",
   "execution_count": null,
   "metadata": {},
   "outputs": [],
   "source": []
  },
  {
   "cell_type": "code",
   "execution_count": null,
   "metadata": {},
   "outputs": [],
   "source": []
  },
  {
   "cell_type": "code",
   "execution_count": null,
   "metadata": {},
   "outputs": [],
   "source": []
  },
  {
   "cell_type": "code",
   "execution_count": null,
   "metadata": {},
   "outputs": [],
   "source": [
    "# client buys / we sell\n",
    "# ofi says down\n",
    "# we hedge our position when the OFI flips"
   ]
  },
  {
   "cell_type": "code",
   "execution_count": null,
   "metadata": {},
   "outputs": [],
   "source": []
  },
  {
   "cell_type": "code",
   "execution_count": null,
   "metadata": {},
   "outputs": [],
   "source": []
  },
  {
   "cell_type": "code",
   "execution_count": null,
   "metadata": {},
   "outputs": [],
   "source": []
  },
  {
   "cell_type": "code",
   "execution_count": null,
   "metadata": {},
   "outputs": [],
   "source": []
  },
  {
   "cell_type": "code",
   "execution_count": null,
   "metadata": {},
   "outputs": [],
   "source": []
  },
  {
   "cell_type": "code",
   "execution_count": null,
   "metadata": {},
   "outputs": [],
   "source": []
  },
  {
   "cell_type": "code",
   "execution_count": null,
   "metadata": {},
   "outputs": [],
   "source": []
  }
 ],
 "metadata": {
  "kernelspec": {
   "display_name": "Python 3",
   "language": "python",
   "name": "python3"
  },
  "language_info": {
   "codemirror_mode": {
    "name": "ipython",
    "version": 3
   },
   "file_extension": ".py",
   "mimetype": "text/x-python",
   "name": "python",
   "nbconvert_exporter": "python",
   "pygments_lexer": "ipython3",
   "version": "3.7.2"
  }
 },
 "nbformat": 4,
 "nbformat_minor": 2
}
