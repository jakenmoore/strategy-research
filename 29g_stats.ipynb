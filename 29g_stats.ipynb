{
 "cells": [
  {
   "cell_type": "code",
   "execution_count": 12,
   "metadata": {},
   "outputs": [],
   "source": [
    "# import libraries\n",
    "import pandas as pd\n",
    "import numpy as np\n",
    "import math\n",
    "import datetime as dt\n",
    "from datetime import timedelta\n",
    "\n",
    "# charting libraries\n",
    "import plotly.offline as py\n",
    "import plotly.graph_objs as go\n",
    "from plotly.subplots import make_subplots\n",
    "%matplotlib inline\n",
    "\n",
    "import warnings\n",
    "warnings.filterwarnings('ignore')\n",
    "import s3fs"
   ]
  },
  {
   "cell_type": "code",
   "execution_count": 13,
   "metadata": {},
   "outputs": [],
   "source": [
    "import boto3\n",
    "from botocore.config import Config"
   ]
  },
  {
   "cell_type": "code",
   "execution_count": 5,
   "metadata": {},
   "outputs": [],
   "source": [
    "# s3 = boto3.client('s3')"
   ]
  },
  {
   "cell_type": "code",
   "execution_count": null,
   "metadata": {},
   "outputs": [],
   "source": []
  },
  {
   "cell_type": "code",
   "execution_count": null,
   "metadata": {},
   "outputs": [],
   "source": []
  },
  {
   "cell_type": "code",
   "execution_count": null,
   "metadata": {},
   "outputs": [],
   "source": []
  },
  {
   "cell_type": "code",
   "execution_count": 14,
   "metadata": {},
   "outputs": [],
   "source": [
    "#################\n",
    "# Definitions\n",
    "#################\n",
    "# Where to read data from\n",
    "s3_bucket    = 'mfx-sagemaker-dev'\n",
    "\n",
    "s3_signal_data_key = \"demo/XBTUSD_20200729-000000_20200730-140000/2020-07-29T00:00:00.346Z-2020-07-30T14:00:00.961Z-Input_DVCHAIN_top1-1.csv.gz\"\n",
    "\n",
    "# s3_reval_data_key = 'jeff/EURUSD_20200304-040000_20200304-200000/2020-03-04T04:00:00.002Z-2020-03-04T20:00:00.891Z-Input_FASTMATCH-EBSDIRECT-REUTERS-HOTSPOT-GTX-CNX-FXALL_top5-1.csv.gz'\n",
    "# s3_trigger_data_key =  'go-data/AUDUSD_20200212-060000_20200212-180000/2020-02-12T06:00:00.051Z-2020-02-12T18:00:00.897Z-Input_CITADEL-XTX-GOLDMAN_SACHS_top5-1.csv.gz'\n",
    "\n",
    "# Bar size\n",
    "resample_period = '60s'\n",
    "\n",
    "# Chart settings\n",
    "chart_padding_secs = 10\n",
    "\n",
    "# Breakout settings\n",
    "breakout_sigma = 1.0\n",
    "\n",
    "# MR settings\n",
    "mr_sigma = 3\n",
    "\n",
    "# Hedging level\n",
    "hedge_level = 3\n",
    "\n",
    "# Hedger interest to fill time in ms\n",
    "interest_to_fill = 100\n",
    " \n",
    "# n samples for moving average\n",
    "ma_samples = 3\n",
    "\n",
    "# optimise exits\n",
    "optimise_exit = True"
   ]
  },
  {
   "cell_type": "code",
   "execution_count": 15,
   "metadata": {},
   "outputs": [],
   "source": [
    "#################\n",
    "# Load from S3\n",
    "#################\n",
    "\n",
    "signal_tick_data = pd.read_csv('s3://{}/{}'.format(s3_bucket, s3_signal_data_key), index_col='t', parse_dates=['t'])\n",
    "trigger_tick_data = signal_tick_data\n",
    "\n",
    "reval_tick_data = signal_tick_data\n",
    "# Source for tick charts\n",
    "chart_tick_data = reval_tick_data\n",
    "\n",
    "signal_tick_data['spread'] = signal_tick_data['Offer0'] - signal_tick_data['Bid0']\n",
    "reval_tick_data['spread'] = reval_tick_data['Offer0'] - reval_tick_data['Bid0']"
   ]
  },
  {
   "cell_type": "code",
   "execution_count": 16,
   "metadata": {},
   "outputs": [
    {
     "data": {
      "text/html": [
       "<div>\n",
       "<style scoped>\n",
       "    .dataframe tbody tr th:only-of-type {\n",
       "        vertical-align: middle;\n",
       "    }\n",
       "\n",
       "    .dataframe tbody tr th {\n",
       "        vertical-align: top;\n",
       "    }\n",
       "\n",
       "    .dataframe thead th {\n",
       "        text-align: right;\n",
       "    }\n",
       "</style>\n",
       "<table border=\"1\" class=\"dataframe\">\n",
       "  <thead>\n",
       "    <tr style=\"text-align: right;\">\n",
       "      <th></th>\n",
       "      <th>s</th>\n",
       "      <th>SettlementDate</th>\n",
       "      <th>Bid0Qty</th>\n",
       "      <th>Bid0MinQty</th>\n",
       "      <th>Bid0</th>\n",
       "      <th>Offer0</th>\n",
       "      <th>Offer0Qty</th>\n",
       "      <th>Offer0MinQty</th>\n",
       "      <th>spread</th>\n",
       "    </tr>\n",
       "    <tr>\n",
       "      <th>t</th>\n",
       "      <th></th>\n",
       "      <th></th>\n",
       "      <th></th>\n",
       "      <th></th>\n",
       "      <th></th>\n",
       "      <th></th>\n",
       "      <th></th>\n",
       "      <th></th>\n",
       "      <th></th>\n",
       "    </tr>\n",
       "  </thead>\n",
       "  <tbody>\n",
       "    <tr>\n",
       "      <th>2020-07-29 00:00:00.346000+00:00</th>\n",
       "      <td>1</td>\n",
       "      <td>NaN</td>\n",
       "      <td>4.294967e+09</td>\n",
       "      <td>0.0</td>\n",
       "      <td>10927.88</td>\n",
       "      <td>10929.88</td>\n",
       "      <td>4.294967e+09</td>\n",
       "      <td>0.0</td>\n",
       "      <td>2.0</td>\n",
       "    </tr>\n",
       "    <tr>\n",
       "      <th>2020-07-29 00:00:00.458000+00:00</th>\n",
       "      <td>2</td>\n",
       "      <td>NaN</td>\n",
       "      <td>4.294967e+09</td>\n",
       "      <td>0.0</td>\n",
       "      <td>10928.94</td>\n",
       "      <td>10930.94</td>\n",
       "      <td>4.294967e+09</td>\n",
       "      <td>0.0</td>\n",
       "      <td>2.0</td>\n",
       "    </tr>\n",
       "    <tr>\n",
       "      <th>2020-07-29 00:00:00.562000+00:00</th>\n",
       "      <td>3</td>\n",
       "      <td>NaN</td>\n",
       "      <td>4.294967e+09</td>\n",
       "      <td>0.0</td>\n",
       "      <td>10928.66</td>\n",
       "      <td>10930.66</td>\n",
       "      <td>4.294967e+09</td>\n",
       "      <td>0.0</td>\n",
       "      <td>2.0</td>\n",
       "    </tr>\n",
       "    <tr>\n",
       "      <th>2020-07-29 00:00:00.678000+00:00</th>\n",
       "      <td>4</td>\n",
       "      <td>NaN</td>\n",
       "      <td>4.294967e+09</td>\n",
       "      <td>0.0</td>\n",
       "      <td>10928.86</td>\n",
       "      <td>10930.86</td>\n",
       "      <td>4.294967e+09</td>\n",
       "      <td>0.0</td>\n",
       "      <td>2.0</td>\n",
       "    </tr>\n",
       "    <tr>\n",
       "      <th>2020-07-29 00:00:00.783000+00:00</th>\n",
       "      <td>5</td>\n",
       "      <td>NaN</td>\n",
       "      <td>4.294967e+09</td>\n",
       "      <td>0.0</td>\n",
       "      <td>10928.96</td>\n",
       "      <td>10930.96</td>\n",
       "      <td>4.294967e+09</td>\n",
       "      <td>0.0</td>\n",
       "      <td>2.0</td>\n",
       "    </tr>\n",
       "  </tbody>\n",
       "</table>\n",
       "</div>"
      ],
      "text/plain": [
       "                                  s  SettlementDate       Bid0Qty  Bid0MinQty  \\\n",
       "t                                                                               \n",
       "2020-07-29 00:00:00.346000+00:00  1             NaN  4.294967e+09         0.0   \n",
       "2020-07-29 00:00:00.458000+00:00  2             NaN  4.294967e+09         0.0   \n",
       "2020-07-29 00:00:00.562000+00:00  3             NaN  4.294967e+09         0.0   \n",
       "2020-07-29 00:00:00.678000+00:00  4             NaN  4.294967e+09         0.0   \n",
       "2020-07-29 00:00:00.783000+00:00  5             NaN  4.294967e+09         0.0   \n",
       "\n",
       "                                      Bid0    Offer0     Offer0Qty  \\\n",
       "t                                                                    \n",
       "2020-07-29 00:00:00.346000+00:00  10927.88  10929.88  4.294967e+09   \n",
       "2020-07-29 00:00:00.458000+00:00  10928.94  10930.94  4.294967e+09   \n",
       "2020-07-29 00:00:00.562000+00:00  10928.66  10930.66  4.294967e+09   \n",
       "2020-07-29 00:00:00.678000+00:00  10928.86  10930.86  4.294967e+09   \n",
       "2020-07-29 00:00:00.783000+00:00  10928.96  10930.96  4.294967e+09   \n",
       "\n",
       "                                  Offer0MinQty  spread  \n",
       "t                                                       \n",
       "2020-07-29 00:00:00.346000+00:00           0.0     2.0  \n",
       "2020-07-29 00:00:00.458000+00:00           0.0     2.0  \n",
       "2020-07-29 00:00:00.562000+00:00           0.0     2.0  \n",
       "2020-07-29 00:00:00.678000+00:00           0.0     2.0  \n",
       "2020-07-29 00:00:00.783000+00:00           0.0     2.0  "
      ]
     },
     "execution_count": 16,
     "metadata": {},
     "output_type": "execute_result"
    }
   ],
   "source": [
    "signal_tick_data.head()"
   ]
  },
  {
   "cell_type": "code",
   "execution_count": null,
   "metadata": {},
   "outputs": [],
   "source": []
  },
  {
   "cell_type": "code",
   "execution_count": null,
   "metadata": {},
   "outputs": [],
   "source": []
  },
  {
   "cell_type": "code",
   "execution_count": null,
   "metadata": {},
   "outputs": [],
   "source": []
  },
  {
   "cell_type": "code",
   "execution_count": null,
   "metadata": {},
   "outputs": [],
   "source": []
  },
  {
   "cell_type": "code",
   "execution_count": null,
   "metadata": {},
   "outputs": [],
   "source": []
  },
  {
   "cell_type": "code",
   "execution_count": null,
   "metadata": {},
   "outputs": [],
   "source": []
  },
  {
   "cell_type": "code",
   "execution_count": null,
   "metadata": {},
   "outputs": [],
   "source": []
  },
  {
   "cell_type": "code",
   "execution_count": null,
   "metadata": {},
   "outputs": [],
   "source": []
  },
  {
   "cell_type": "code",
   "execution_count": null,
   "metadata": {},
   "outputs": [],
   "source": []
  },
  {
   "cell_type": "code",
   "execution_count": null,
   "metadata": {},
   "outputs": [],
   "source": []
  },
  {
   "cell_type": "code",
   "execution_count": null,
   "metadata": {},
   "outputs": [],
   "source": []
  }
 ],
 "metadata": {
  "kernelspec": {
   "display_name": "Python 3",
   "language": "python",
   "name": "python3"
  },
  "language_info": {
   "codemirror_mode": {
    "name": "ipython",
    "version": 3
   },
   "file_extension": ".py",
   "mimetype": "text/x-python",
   "name": "python",
   "nbconvert_exporter": "python",
   "pygments_lexer": "ipython3",
   "version": "3.7.3"
  }
 },
 "nbformat": 4,
 "nbformat_minor": 2
}
