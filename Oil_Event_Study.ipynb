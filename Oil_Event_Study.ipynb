{
 "cells": [
  {
   "cell_type": "code",
   "execution_count": 1,
   "metadata": {},
   "outputs": [],
   "source": [
    "from sklearn.linear_model import LinearRegression\n",
    "from sklearn import datasets\n",
    "import numpy as np\n",
    "import pandas as pd\n",
    "import matplotlib.pyplot as plt\n",
    "from sklearn.metrics import mean_squared_error, r2_score\n",
    "import math"
   ]
  },
  {
   "cell_type": "code",
   "execution_count": 2,
   "metadata": {},
   "outputs": [],
   "source": [
    "pd.options.display.max_columns = None"
   ]
  },
  {
   "cell_type": "code",
   "execution_count": 3,
   "metadata": {},
   "outputs": [],
   "source": [
    "# Load trades\n",
    "co_5_trades = pd.read_csv(\n",
    "    \"/Users/jakemoore/Code/kaiseki/data/trades_CO10-14.09.2018.csv\",\n",
    "    dtype={\n",
    "        \"Date\": str,\n",
    "        \"Time\": str,\n",
    "        \"Price\": np.float64,\n",
    "        \"Volume\": np.float64,\n",
    "        \"Market Flag\": str,\n",
    "    },\n",
    ")\n",
    "\n",
    "# Set the index\n",
    "co_5_trades[\"timestamp\"] = co_5_trades[\"Date\"] + \" \" + co_5_trades[\"Time\"]\n",
    "co_5_trades[\"timestamp\"] = pd.to_datetime(\n",
    "    co_5_trades[\"timestamp\"], format=\"%m/%d/%Y %H:%M:%S.%f\"\n",
    ")\n",
    "co_5_trades.set_index(\"timestamp\", inplace=True)\n",
    "co_5_trades.drop([\"Date\", \"Time\"], axis=1, inplace=True)\n",
    "co_5_trades.sort_index(inplace=True)"
   ]
  },
  {
   "cell_type": "code",
   "execution_count": 4,
   "metadata": {},
   "outputs": [],
   "source": [
    "# Load order books\n",
    "co_5_ob = pd.read_csv(\n",
    "    \"/Users/jakemoore/Code/kaiseki/data/quotes_CO10-14.09.2018.csv\",\n",
    "    dtype={\n",
    "        \"Date\": str,\n",
    "        \"Time\": str,\n",
    "        \"Bid Price\": np.float64,\n",
    "        \"Bid Size\": np.float64,\n",
    "        \"Ask Price\": np.float64,\n",
    "        \"Ask Size\": np.float64,\n",
    "        \"Market Flag\": str,\n",
    "        \"Quote Condition\": str,\n",
    "    },\n",
    ")\n",
    "\n",
    "# Set the index\n",
    "co_5_ob[\"timestamp\"] = co_5_ob[\"Date\"] + \" \" + co_5_ob[\"Time\"]\n",
    "co_5_ob[\"timestamp\"] = pd.to_datetime(\n",
    "    co_5_ob[\"timestamp\"], format=\"%m/%d/%Y %H:%M:%S.%f\"\n",
    ")\n",
    "co_5_ob.set_index(\"timestamp\", inplace=True)\n",
    "co_5_ob.drop([\"Date\", \"Time\"], axis=1, inplace=True)\n",
    "co_5_ob.sort_index(inplace=True)"
   ]
  },
  {
   "cell_type": "code",
   "execution_count": 5,
   "metadata": {},
   "outputs": [],
   "source": [
    "# drop the useless columns\n",
    "co_5_trades.drop(\"Market Flag\", inplace=True, axis=1)\n",
    "co_5_ob.drop(\"Quote Condition\", inplace=True, axis=1)\n",
    "co_5_ob.drop(\"Market Flag\", inplace=True, axis=1)"
   ]
  },
  {
   "cell_type": "code",
   "execution_count": 6,
   "metadata": {},
   "outputs": [],
   "source": [
    "# Rename columns\n",
    "co_5_trades.columns = [\"price\", \"volume\"]\n",
    "co_5_ob.columns = [\"bid_price\", \"bid_size\", \"ask_price\", \"ask_size\"]"
   ]
  },
  {
   "cell_type": "code",
   "execution_count": 7,
   "metadata": {},
   "outputs": [],
   "source": [
    "# Copy\n",
    "trades = co_5_trades.copy()\n",
    "ob = co_5_ob.copy()\n",
    "\n",
    "# Truncate trades and books to some specific window\n",
    "trades_idx = trades.index.copy()\n",
    "trades.index = trades.index.ceil(\"10ms\")\n",
    "ob.index = ob.index.ceil(\"10ms\")\n",
    "ob = ob.resample(\"10ms\").last()\n",
    "\n",
    "# Generate series of time\n",
    "df_ts = pd.DataFrame(index=pd.date_range(trades.index.min(), trades.index.max(), freq=\"10ms\"))\n",
    "df_ts.index.name = \"timestamp\"\n",
    "ob = df_ts.join(ob, how=\"left\")\n",
    "\n",
    "# ffill books data\n",
    "ob.fillna(method=\"ffill\", inplace=True)"
   ]
  },
  {
   "cell_type": "code",
   "execution_count": 8,
   "metadata": {},
   "outputs": [],
   "source": [
    "# Merge data frames\n",
    "taq = trades.join(ob, how=\"left\")"
   ]
  },
  {
   "cell_type": "code",
   "execution_count": 9,
   "metadata": {},
   "outputs": [],
   "source": [
    "# features engineering\n",
    "taq['mid'] = (taq['bid_price'] + taq['ask_price']) / 2.0\n",
    "\n",
    "taq.loc[:,'volume_weighted_mid'] = (taq.loc[:,'bid_price'] * taq.loc[:,'ask_size']\n",
    "+ taq.loc[:,'ask_price'] * taq.loc[:,'bid_size']) / (taq.loc[:,'bid_size']+taq.loc[:,'ask_size'])\n",
    "\n",
    "taq['direction_volume'] = np.where(taq['price'] < taq['mid'], taq['volume']*(-1), taq['volume'])\n",
    "\n",
    "taq['returns'] = taq['mid'].pct_change()"
   ]
  },
  {
   "cell_type": "code",
   "execution_count": 10,
   "metadata": {},
   "outputs": [],
   "source": [
    "# order book imbalance function\n",
    "def obi(quotes):\n",
    "    qdf = quotes.copy()\n",
    "\n",
    "    qdf['mid_change'] = ((qdf['bid_price'] + qdf['ask_price']) / 2.0).diff().div(0.01)\n",
    "    \n",
    "    qdf['prev_bidprice'] = qdf['bid_price'].shift()\n",
    "    qdf['prev_bidsize'] = qdf['bid_size'].shift()\n",
    "    qdf['prev_askprice'] = qdf['ask_price'].shift()\n",
    "    qdf['prev_asksize'] = qdf['ask_size'].shift()\n",
    "\n",
    "    # Fix any missing/invalid data\n",
    "    qdf.replace([np.inf, np.NINF], np.nan, inplace=True)\n",
    "    qdf.fillna(method=\"ffill\", inplace=True)\n",
    "    qdf.fillna(method=\"bfill\", inplace=True)\n",
    "    \n",
    "    bid_geq = qdf['bid_price'] >= qdf['prev_bidprice']\n",
    "    bid_leq = qdf['bid_price'] <= qdf['prev_bidprice']\n",
    "    ask_geq = qdf['ask_price'] >= qdf['prev_askprice']\n",
    "    ask_leq = qdf['ask_price'] <= qdf['prev_askprice']\n",
    "    \n",
    "    qdf['ofi'] = np.zeros(len(qdf))\n",
    "    qdf['ofi'].loc[bid_geq] += qdf['bid_size'].loc[bid_geq]\n",
    "    qdf['ofi'].loc[bid_leq] -= qdf['prev_bidsize'].loc[bid_leq]\n",
    "    qdf['ofi'].loc[ask_geq] += qdf['prev_asksize'].loc[ask_geq]\n",
    "    qdf['ofi'].loc[ask_leq] -= qdf['ask_size'].loc[ask_leq]    \n",
    "    \n",
    "    return qdf"
   ]
  },
  {
   "cell_type": "code",
   "execution_count": 11,
   "metadata": {},
   "outputs": [],
   "source": [
    "taq = obi(taq)"
   ]
  },
  {
   "cell_type": "code",
   "execution_count": 12,
   "metadata": {},
   "outputs": [
    {
     "data": {
      "image/png": "[encoded data removed]",
      "text/plain": [
       "<Figure size 432x288 with 1 Axes>"
      ]
     },
     "metadata": {
      "needs_background": "light"
     },
     "output_type": "display_data"
    },
    {
     "name": "stdout",
     "output_type": "stream",
     "text": [
      "0.6135301262468255\n"
     ]
    }
   ],
   "source": [
    "# Parameters\n",
    "rolling_length = \"10s\"\n",
    "flow_amount = 50\n",
    "\n",
    "# trade flow signal\n",
    "taq['flow_long_sig'] = np.where(taq['direction_volume'].rolling(rolling_length).sum() > flow_amount, 1, 0)\n",
    "taq['flow_short_sig'] = np.where(taq['direction_volume'].rolling(rolling_length).sum() < - flow_amount, -1, 0)\n",
    "taq['flow_sig'] = taq['flow_long_sig'] + taq['flow_short_sig']\n",
    "\n",
    "# VWM signal\n",
    "taq['vwm_long_sig'] = np.where(taq['volume_weighted_mid'] > taq['mid'], 1, 0)\n",
    "taq['vwm_short_sig'] = np.where(taq['volume_weighted_mid'] < taq['mid'], -1, 0)\n",
    "taq['vwm_sig'] = taq['vwm_long_sig'] + taq['vwm_long_sig']\n",
    "\n",
    "# OBI signal\n",
    "taq['obi_long_sig'] = np.where(taq['ofi'].rolling(rolling_length).sum() > flow_amount, 1, 0)\n",
    "taq['obi_short_sig'] = np.where(taq['ofi'].rolling(rolling_length).sum() < - flow_amount, -1, 0)\n",
    "taq['obi_sig'] = taq['obi_long_sig'] + taq['obi_short_sig']\n",
    "\n",
    "# combined signal\n",
    "taq['comb_sig'] = (taq['vwm_sig']*0.666) + (taq['flow_sig']*0.333)\n",
    "# taq['comb_sig'] = taq['flow_sig']\n",
    "\n",
    "# calc PNL - can add in long and short pnl below\n",
    "taq['total_pnl'] = taq['comb_sig'].shift(1) * taq['returns']\n",
    "\n",
    "# taq['long_pnl'] = taq['long_sig'].shift(1) * taq['returns']\n",
    "# taq['short_pnl'] = taq['short_sig'].shift(1) * taq['returns']\n",
    "\n",
    "# calculate whether +ve or -ve pnl\n",
    "taq['pnl+'] = np.where(taq['total_pnl'] > 0, taq['total_pnl'], 0)\n",
    "taq['pnl+'] = taq['pnl+'].replace(0, np.NaN) \n",
    "taq['pnl-'] = np.where(taq['total_pnl'] < 0, taq['total_pnl'], 0)\n",
    "taq['pnl-'] = taq['pnl-'].replace(0, np.NaN) \n",
    "\n",
    "# calculate percentage of winners\n",
    "winners = taq['pnl+'].count()\n",
    "losers = taq['pnl-'].count()\n",
    "ratio = winners / (winners + losers)\n",
    "winners_return = taq['pnl+'].mean()\n",
    "\n",
    "# plot 'pnl' chart\n",
    "taq['cum_pnl'] = (1 + taq['total_pnl']).cumprod()\n",
    "taq['cum_pnl'].plot()\n",
    "plt.show()\n",
    "print(ratio)\n"
   ]
  },
  {
   "cell_type": "code",
   "execution_count": 13,
   "metadata": {
    "scrolled": true
   },
   "outputs": [
    {
     "name": "stdout",
     "output_type": "stream",
     "text": [
      "0.1 sec effect: 0.0013836674184196094\n",
      "0.5 sec effect: 0.002073944891016557\n",
      "1.0 sec effect: 0.0024498412997587117\n",
      "3.0 sec effect: 0.002652506811988815\n",
      "5.0 sec effect: 0.0027190508997283033\n"
     ]
    }
   ],
   "source": [
    "for step in range(1, 51):\n",
    "    taq[step] = taq['mid'].shift(-step*10) - taq['mid']\n",
    "\n",
    "taq['sig2'] = taq['comb_sig'].replace(0, np.NaN) \n",
    "\n",
    "# create event stats\n",
    "taq['0.1sec_effect'] = taq['sig2'] * taq[1]\n",
    "taq['0.5sec_effect'] = taq['sig2'] * taq[5]\n",
    "taq['1.0sec_effect'] = taq['sig2'] * taq[10]\n",
    "taq['3.0sec_effect'] = taq['sig2'] * taq[30]\n",
    "taq['5.0sec_effect'] = taq['sig2'] * taq[50]\n",
    "\n",
    "# print event impacts for long signals\n",
    "print('0.1 sec effect: ' + str((taq['0.1sec_effect']).mean()))\n",
    "print('0.5 sec effect: ' + str((taq['0.5sec_effect']).mean()))\n",
    "print('1.0 sec effect: ' + str((taq['1.0sec_effect']).mean()))\n",
    "print('3.0 sec effect: ' + str((taq['3.0sec_effect']).mean()))\n",
    "print('5.0 sec effect: ' + str((taq['5.0sec_effect']).mean()))"
   ]
  },
  {
   "cell_type": "code",
   "execution_count": null,
   "metadata": {},
   "outputs": [],
   "source": [
    "taq[1].describe()"
   ]
  },
  {
   "cell_type": "code",
   "execution_count": null,
   "metadata": {},
   "outputs": [],
   "source": [
    "# put together reservation price based on 3 factors plus inventory\n",
    "# can we use the same scaling - 1 to 5 for each based on 'normal size'"
   ]
  },
  {
   "cell_type": "code",
   "execution_count": null,
   "metadata": {},
   "outputs": [],
   "source": []
  },
  {
   "cell_type": "code",
   "execution_count": null,
   "metadata": {},
   "outputs": [],
   "source": []
  },
  {
   "cell_type": "code",
   "execution_count": null,
   "metadata": {},
   "outputs": [],
   "source": [
    "price = taq['mid'].resample('1s').last()"
   ]
  },
  {
   "cell_type": "code",
   "execution_count": null,
   "metadata": {},
   "outputs": [],
   "source": [
    "price = pd.DataFrame(price)"
   ]
  },
  {
   "cell_type": "code",
   "execution_count": null,
   "metadata": {},
   "outputs": [],
   "source": [
    "price['return'] = price.pct_change()\n",
    "price['sigma'] = price['return'].rolling(60).std()"
   ]
  },
  {
   "cell_type": "code",
   "execution_count": null,
   "metadata": {},
   "outputs": [],
   "source": [
    "price['sigma'].plot()"
   ]
  },
  {
   "cell_type": "code",
   "execution_count": null,
   "metadata": {},
   "outputs": [],
   "source": [
    "price['09-12-2018 09:00:00' : '09-12-2018 12:00:00']"
   ]
  },
  {
   "cell_type": "code",
   "execution_count": null,
   "metadata": {},
   "outputs": [],
   "source": []
  },
  {
   "cell_type": "code",
   "execution_count": null,
   "metadata": {},
   "outputs": [],
   "source": [
    "holding_period = 5\n",
    "price['spread'] = price['mid'] * price['sigma'] * math.sqrt(holding_period)\n",
    "price['spread'].plot()"
   ]
  },
  {
   "cell_type": "code",
   "execution_count": null,
   "metadata": {},
   "outputs": [],
   "source": []
  },
  {
   "cell_type": "code",
   "execution_count": null,
   "metadata": {},
   "outputs": [],
   "source": []
  },
  {
   "cell_type": "code",
   "execution_count": null,
   "metadata": {},
   "outputs": [],
   "source": []
  },
  {
   "cell_type": "code",
   "execution_count": null,
   "metadata": {},
   "outputs": [],
   "source": []
  },
  {
   "cell_type": "code",
   "execution_count": null,
   "metadata": {},
   "outputs": [],
   "source": []
  },
  {
   "cell_type": "code",
   "execution_count": null,
   "metadata": {},
   "outputs": [],
   "source": []
  }
 ],
 "metadata": {
  "kernelspec": {
   "display_name": "Python 3",
   "language": "python",
   "name": "python3"
  },
  "language_info": {
   "codemirror_mode": {
    "name": "ipython",
    "version": 3
   },
   "file_extension": ".py",
   "mimetype": "text/x-python",
   "name": "python",
   "nbconvert_exporter": "python",
   "pygments_lexer": "ipython3",
   "version": "3.7.2"
  }
 },
 "nbformat": 4,
 "nbformat_minor": 2
}
