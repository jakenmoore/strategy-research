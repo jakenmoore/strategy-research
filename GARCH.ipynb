{
 "cells": [
  {
   "cell_type": "code",
   "execution_count": 13,
   "metadata": {},
   "outputs": [],
   "source": [
    "# import libraries\n",
    "import pandas as pd\n",
    "import numpy as np\n",
    "import math\n",
    "import datetime\n",
    "from datetime import timedelta\n",
    "from arch import arch_model\n",
    "from scipy.stats import norm\n",
    "\n",
    "import scipy.stats\n",
    "\n",
    "# charting libraries\n",
    "import plotly.offline as py\n",
    "import plotly.graph_objs as go\n",
    "from plotly.subplots import make_subplots\n",
    "from plotly.offline import download_plotlyjs, init_notebook_mode, plot, iplot\n",
    "import matplotlib.pyplot as plt\n",
    "%matplotlib inline\n",
    "\n",
    "import warnings\n",
    "warnings.filterwarnings('ignore')"
   ]
  },
  {
   "cell_type": "code",
   "execution_count": 39,
   "metadata": {},
   "outputs": [],
   "source": [
    "import datetime as dt\n",
    "\n",
    "import pandas_datareader.data as web\n",
    "\n",
    "from arch import arch_model\n",
    "\n",
    "start = dt.datetime(2000, 1, 1)\n",
    "end = dt.datetime(2014, 1, 1)\n",
    "sp500 = web.DataReader('^GSPC', 'yahoo', start=start, end=end)\n",
    "returns = 100 * sp500['Adj Close'].pct_change().dropna()\n"
   ]
  },
  {
   "cell_type": "code",
   "execution_count": 40,
   "metadata": {},
   "outputs": [
    {
     "name": "stdout",
     "output_type": "stream",
     "text": [
      "Iteration:      1,   Func. Count:      6,   Neg. LLF: 5159.583236619886\n",
      "Iteration:      2,   Func. Count:     16,   Neg. LLF: 5156.097598740948\n",
      "Iteration:      3,   Func. Count:     24,   Neg. LLF: 5152.299896533299\n",
      "Iteration:      4,   Func. Count:     31,   Neg. LLF: 5146.4753110022275\n",
      "Iteration:      5,   Func. Count:     38,   Neg. LLF: 5143.863365464941\n",
      "Iteration:      6,   Func. Count:     45,   Neg. LLF: 5143.020952324405\n",
      "Iteration:      7,   Func. Count:     52,   Neg. LLF: 5142.241045945975\n",
      "Iteration:      8,   Func. Count:     60,   Neg. LLF: 5142.07137126528\n",
      "Iteration:      9,   Func. Count:     67,   Neg. LLF: 5141.416648595367\n",
      "Iteration:     10,   Func. Count:     73,   Neg. LLF: 5141.392119620785\n",
      "Iteration:     11,   Func. Count:     79,   Neg. LLF: 5141.390235770439\n",
      "Iteration:     12,   Func. Count:     85,   Neg. LLF: 5141.390230506618\n",
      "Optimization terminated successfully.    (Exit mode 0)\n",
      "            Current function value: 5141.39023050538\n",
      "            Iterations: 12\n",
      "            Function evaluations: 85\n",
      "            Gradient evaluations: 12\n"
     ]
    }
   ],
   "source": [
    "# Specify GARCH model assumptions\n",
    "basic_gm = arch_model(returns, p = 1, q = 1,\n",
    "                      mean = 'constant', vol = 'GARCH', dist = 'normal')\n",
    "# Fit the model\n",
    "gm_result = basic_gm.fit()"
   ]
  },
  {
   "cell_type": "code",
   "execution_count": 41,
   "metadata": {},
   "outputs": [
    {
     "name": "stdout",
     "output_type": "stream",
     "text": [
      "                     Constant Mean - GARCH Model Results                      \n",
      "==============================================================================\n",
      "Dep. Variable:              Adj Close   R-squared:                      -0.001\n",
      "Mean Model:             Constant Mean   Adj. R-squared:                 -0.001\n",
      "Vol Model:                      GARCH   Log-Likelihood:               -5141.39\n",
      "Distribution:                  Normal   AIC:                           10290.8\n",
      "Method:            Maximum Likelihood   BIC:                           10315.4\n",
      "                                        No. Observations:                 3520\n",
      "Date:                Fri, Apr 10 2020   Df Residuals:                     3516\n",
      "Time:                        11:16:38   Df Model:                            4\n",
      "                                 Mean Model                                 \n",
      "============================================================================\n",
      "                 coef    std err          t      P>|t|      95.0% Conf. Int.\n",
      "----------------------------------------------------------------------------\n",
      "mu             0.0531  1.487e-02      3.569  3.581e-04 [2.392e-02,8.220e-02]\n",
      "                              Volatility Model                              \n",
      "============================================================================\n",
      "                 coef    std err          t      P>|t|      95.0% Conf. Int.\n",
      "----------------------------------------------------------------------------\n",
      "omega          0.0156  4.932e-03      3.155  1.606e-03 [5.892e-03,2.523e-02]\n",
      "alpha[1]       0.0879  1.140e-02      7.710  1.260e-14   [6.554e-02,  0.110]\n",
      "beta[1]        0.9014  1.183e-02     76.163      0.000     [  0.878,  0.925]\n",
      "============================================================================\n",
      "\n",
      "Covariance estimator: robust\n"
     ]
    }
   ],
   "source": [
    "print(gm_result.summary())"
   ]
  },
  {
   "cell_type": "code",
   "execution_count": 42,
   "metadata": {},
   "outputs": [
    {
     "data": {
      "image/png": "[encoded data removed]",
      "text/plain": [
       "<Figure size 432x288 with 1 Axes>"
      ]
     },
     "metadata": {
      "needs_background": "light"
     },
     "output_type": "display_data"
    }
   ],
   "source": [
    "# Obtain model estimated residuals and volatility\n",
    "gm_resid = gm_result.resid\n",
    "gm_std = gm_result.conditional_volatility\n",
    "\n",
    "# generate normal distribution residuals\n",
    "normal_resid = np.random.normal(np.mean(returns), np.std(returns), len(returns))\n",
    "\n",
    "# Calculate the standardized residuals\n",
    "gm_std_resid = gm_resid /gm_std\n",
    "\n",
    "# Plot the histogram of the standardized residuals\n",
    "plt.hist(gm_std_resid, bins = 50, \n",
    "         facecolor = 'orange', label = 'Standardized residuals')\n",
    "plt.hist(normal_resid, bins = 50, \n",
    "         facecolor = 'tomato', label = 'Normal residuals')\n",
    "plt.legend(loc = 'upper left')\n",
    "plt.show()"
   ]
  },
  {
   "cell_type": "code",
   "execution_count": 29,
   "metadata": {},
   "outputs": [],
   "source": [
    "normal_resid = norm.pdf(returns, np.mean(returns), np.std(returns))"
   ]
  },
  {
   "cell_type": "code",
   "execution_count": null,
   "metadata": {},
   "outputs": [],
   "source": []
  },
  {
   "cell_type": "code",
   "execution_count": 43,
   "metadata": {},
   "outputs": [
    {
     "name": "stdout",
     "output_type": "stream",
     "text": [
      "Iteration:      1,   Func. Count:      8,   Neg. LLF: 5121.751556326301\n",
      "Iteration:      2,   Func. Count:     20,   Neg. LLF: 5117.033185855527\n",
      "Iteration:      3,   Func. Count:     30,   Neg. LLF: 5112.062402224383\n",
      "Iteration:      4,   Func. Count:     39,   Neg. LLF: 5105.824108941534\n",
      "Iteration:      5,   Func. Count:     48,   Neg. LLF: 5102.062646280858\n",
      "Iteration:      6,   Func. Count:     57,   Neg. LLF: 5095.860140180762\n",
      "Iteration:      7,   Func. Count:     67,   Neg. LLF: 5095.005128057521\n",
      "Iteration:      8,   Func. Count:     76,   Neg. LLF: 5093.9959955754475\n",
      "Iteration:      9,   Func. Count:     85,   Neg. LLF: 5092.930072930265\n",
      "Iteration:     10,   Func. Count:     95,   Neg. LLF: 5092.847378693687\n",
      "Iteration:     11,   Func. Count:    104,   Neg. LLF: 5092.608065083068\n",
      "Iteration:     12,   Func. Count:    112,   Neg. LLF: 5092.554704290638\n",
      "Iteration:     13,   Func. Count:    120,   Neg. LLF: 5092.548227607854\n",
      "Iteration:     14,   Func. Count:    128,   Neg. LLF: 5092.548186950425\n",
      "Iteration:     15,   Func. Count:    136,   Neg. LLF: 5092.548184095691\n",
      "Optimization terminated successfully.    (Exit mode 0)\n",
      "            Current function value: 5092.548184095658\n",
      "            Iterations: 15\n",
      "            Function evaluations: 136\n",
      "            Gradient evaluations: 15\n"
     ]
    }
   ],
   "source": [
    "# Specify GARCH with student t distribution \n",
    "skewt_gm = arch_model(returns, p = 1, q = 1, mean = 'constant', vol = 'GARCH', dist = 'skewt')\n",
    "# Fit the model\n",
    "skewt_result = skewt_gm.fit()"
   ]
  },
  {
   "cell_type": "code",
   "execution_count": null,
   "metadata": {},
   "outputs": [],
   "source": [
    "# Print model summary of GARCH with constant mean\n",
    "print(gm_result.summary())\n",
    "# Print model summary of GARCH with Student t\n",
    "print(skewt_result.summary())\n",
    "\n",
    "# Plot model volatility \n",
    "plt.plot(cmean_vol, color = 'blue', label = 'Constant Mean Volatility')\n",
    "plt.plot(armean_vol, color = 'red', label = 'Student t Volatility')\n",
    "plt.legend(loc = 'upper right')\n",
    "plt.show()\n",
    "\n",
    "# Check correlation of volatility estimations\n",
    "print(np.corrcoef(cmean_vol, armean_vol)[0,1])"
   ]
  },
  {
   "cell_type": "code",
   "execution_count": null,
   "metadata": {},
   "outputs": [],
   "source": []
  },
  {
   "cell_type": "code",
   "execution_count": 45,
   "metadata": {},
   "outputs": [
    {
     "name": "stdout",
     "output_type": "stream",
     "text": [
      "normal   -18165.858870\n",
      "t        -17919.643916\n",
      "skewt    -17916.669052\n",
      "dtype: float64\n",
      "            normal         t     skewt\n",
      "alpha[1]  0.085627  0.064980  0.064889\n",
      "beta[1]   0.909098  0.927950  0.928215\n",
      "lambda         NaN       NaN -0.036986\n",
      "mu        0.046682  0.056438  0.040928\n",
      "nu             NaN  6.178652  6.186528\n",
      "omega     0.055806  0.048516  0.047683\n"
     ]
    }
   ],
   "source": [
    "\n",
    "from collections import OrderedDict\n",
    "\n",
    "import arch.data.wti\n",
    "\n",
    "crude = arch.data.wti.load()\n",
    "crude_ret = 100 * crude.DCOILWTICO.dropna().pct_change().dropna()\n",
    "res_normal = arch_model(crude_ret).fit(disp='off')\n",
    "res_t = arch_model(crude_ret, dist='t').fit(disp='off')\n",
    "res_skewt = arch_model(crude_ret, dist='skewt').fit(disp='off')\n",
    "lls = pd.Series(\n",
    "    OrderedDict((('normal', res_normal.loglikelihood),\n",
    "                 ('t', res_t.loglikelihood), ('skewt',\n",
    "                                              res_skewt.loglikelihood))))\n",
    "print(lls)\n",
    "params = pd.DataFrame(\n",
    "    OrderedDict((('normal', res_normal.params), ('t', res_t.params),\n",
    "                 ('skewt', res_skewt.params))))\n",
    "print(params)"
   ]
  },
  {
   "cell_type": "code",
   "execution_count": 46,
   "metadata": {},
   "outputs": [
    {
     "data": {
      "image/png": "[encoded data removed]",
      "text/plain": [
       "<Figure size 432x288 with 1 Axes>"
      ]
     },
     "metadata": {
      "needs_background": "light"
     },
     "output_type": "display_data"
    }
   ],
   "source": [
    "std_resid = res_normal.resid / res_normal.conditional_volatility\n",
    "unit_var_resid = res_normal.resid / res_normal.resid.std()\n",
    "df = pd.concat([std_resid, unit_var_resid], 1)\n",
    "df.columns = ['Std Resids', 'Unit Variance Resids']\n",
    "subplot = df.plot(kind='kde', xlim=(-4, 4))"
   ]
  },
  {
   "cell_type": "code",
   "execution_count": null,
   "metadata": {},
   "outputs": [],
   "source": []
  },
  {
   "cell_type": "code",
   "execution_count": 47,
   "metadata": {},
   "outputs": [],
   "source": [
    "start = dt.datetime(2000,1,1)\n",
    "end = dt.datetime(2014,1,1)\n",
    "sp500 = web.get_data_yahoo('^GSPC', start=start, end=end)\n",
    "returns = 100 * sp500['Adj Close'].pct_change().dropna()\n",
    "am = arch_model(returns, vol='Garch', p=1, o=0, q=1, dist='Normal')"
   ]
  },
  {
   "cell_type": "code",
   "execution_count": 48,
   "metadata": {},
   "outputs": [
    {
     "name": "stdout",
     "output_type": "stream",
     "text": [
      "Iteration:      1,   Func. Count:      6,   Neg. LLF: 3808.2922972597567\n",
      "Iteration:      2,   Func. Count:     16,   Neg. LLF: 3806.017494295933\n",
      "Iteration:      3,   Func. Count:     24,   Neg. LLF: 3802.5274034655035\n",
      "Iteration:      4,   Func. Count:     31,   Neg. LLF: 3793.7358063858605\n",
      "Iteration:      5,   Func. Count:     38,   Neg. LLF: 3786.9557610679894\n",
      "Iteration:      6,   Func. Count:     45,   Neg. LLF: 3786.328439482065\n",
      "Iteration:      7,   Func. Count:     52,   Neg. LLF: 3785.3954722920826\n",
      "Iteration:      8,   Func. Count:     59,   Neg. LLF: 3784.9389677522754\n",
      "Iteration:      9,   Func. Count:     66,   Neg. LLF: 3784.656099572095\n",
      "Iteration:     10,   Func. Count:     73,   Neg. LLF: 3784.6202765403746\n",
      "Iteration:     11,   Func. Count:     80,   Neg. LLF: 3784.5847666510645\n",
      "Iteration:     12,   Func. Count:     86,   Neg. LLF: 3784.584427415568\n",
      "Iteration:     13,   Func. Count:     92,   Neg. LLF: 3784.584380693768\n",
      "Optimization terminated successfully.    (Exit mode 0)\n",
      "            Current function value: 3784.5843806940625\n",
      "            Iterations: 13\n",
      "            Function evaluations: 92\n",
      "            Gradient evaluations: 13\n"
     ]
    }
   ],
   "source": [
    "split_date = dt.datetime(2010,1,1)\n",
    "res = am.fit(last_obs=split_date)"
   ]
  },
  {
   "cell_type": "code",
   "execution_count": 49,
   "metadata": {},
   "outputs": [
    {
     "data": {
      "text/plain": [
       "<matplotlib.axes._subplots.AxesSubplot at 0x1290ddfd0>"
      ]
     },
     "execution_count": 49,
     "metadata": {},
     "output_type": "execute_result"
    },
    {
     "data": {
      "image/png": "[encoded data removed]",
      "text/plain": [
       "<Figure size 432x288 with 1 Axes>"
      ]
     },
     "metadata": {
      "needs_background": "light"
     },
     "output_type": "display_data"
    }
   ],
   "source": [
    "forecasts = res.forecast(horizon=5, start=split_date)\n",
    "forecasts.variance[split_date:].plot()"
   ]
  },
  {
   "cell_type": "code",
   "execution_count": 50,
   "metadata": {},
   "outputs": [
    {
     "data": {
      "text/plain": [
       "<matplotlib.axes._subplots.AxesSubplot at 0x12a8929b0>"
      ]
     },
     "execution_count": 50,
     "metadata": {},
     "output_type": "execute_result"
    },
    {
     "data": {
      "image/png": "[encoded data removed]",
      "text/plain": [
       "<Figure size 432x288 with 1 Axes>"
      ]
     },
     "metadata": {
      "needs_background": "light"
     },
     "output_type": "display_data"
    }
   ],
   "source": [
    "forecasts = res.forecast(horizon=5, start=split_date, method='simulation')\n",
    "forecasts.variance[split_date:].plot()"
   ]
  },
  {
   "cell_type": "code",
   "execution_count": 51,
   "metadata": {},
   "outputs": [
    {
     "name": "stdout",
     "output_type": "stream",
     "text": [
      "                 h.1       h.2       h.3       h.4       h.5\n",
      "Date                                                        \n",
      "2013-12-24  0.489534  0.494896  0.504970  0.511049  0.520877\n",
      "2013-12-26  0.474691  0.483172  0.493047  0.500522  0.509314\n",
      "2013-12-27  0.447054  0.453183  0.459181  0.466536  0.473339\n",
      "2013-12-30  0.421528  0.430492  0.437526  0.446327  0.452942\n",
      "2013-12-31  0.407544  0.416042  0.424826  0.431095  0.438236\n"
     ]
    }
   ],
   "source": [
    "print(forecasts.variance.tail())"
   ]
  },
  {
   "cell_type": "code",
   "execution_count": null,
   "metadata": {},
   "outputs": [],
   "source": []
  },
  {
   "cell_type": "code",
   "execution_count": null,
   "metadata": {},
   "outputs": [],
   "source": []
  },
  {
   "cell_type": "code",
   "execution_count": null,
   "metadata": {},
   "outputs": [],
   "source": []
  }
 ],
 "metadata": {
  "kernelspec": {
   "display_name": "Python 3",
   "language": "python",
   "name": "python3"
  },
  "language_info": {
   "codemirror_mode": {
    "name": "ipython",
    "version": 3
   },
   "file_extension": ".py",
   "mimetype": "text/x-python",
   "name": "python",
   "nbconvert_exporter": "python",
   "pygments_lexer": "ipython3",
   "version": "3.7.2"
  }
 },
 "nbformat": 4,
 "nbformat_minor": 2
}
