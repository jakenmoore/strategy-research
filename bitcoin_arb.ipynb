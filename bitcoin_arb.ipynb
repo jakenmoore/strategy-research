{
 "cells": [
  {
   "cell_type": "code",
   "execution_count": null,
   "metadata": {},
   "outputs": [],
   "source": [
    "# import all necessary research utilities\n",
    "from research_utilities import *\n",
    "\n",
    "%matplotlib inline\n",
    "\n"
   ]
  },
  {
   "cell_type": "code",
   "execution_count": null,
   "metadata": {},
   "outputs": [],
   "source": [
    "#################\n",
    "# Definitions\n",
    "#################\n",
    "# Where to read data from\n",
    "s3_bucket    = 'mfx-sagemaker-dev'\n",
    "s3_signal_data_key_btc = \"demo/XBTUSD_20210202-000000_20210203-000000/2021-02-02T00:00:00.683Z-2021-02-03T00:00:00.799Z-Input_DVCHAIN-LMAX_DIGITAL_top1-1.csv.gz\"\n",
    "s3_signal_data_key_eth = \"demo/XETUSD_20210201-000000_20210202-000000/2021-02-01T00:00:00.790Z-2021-02-02T00:00:00.685Z-Input_DVCHAIN-LMAX_DIGITAL_top1-1.csv.gz\"\n",
    "\n",
    "# this is gold \n",
    "# s3_signal_data_key = \"go-data/XAUUSD_20210103-220000_20210115-220000/2021-01-03T23:00:00.250Z-2021-01-15T21:59:58.123Z-Input_FASTMATCH-SAXO-CFH-INVAST-JPM-HOTSPOT-MORGAN_STANLEY-LMAX-JUMP-HC_TECH-XTX_top5-1.csv.gz\""
   ]
  },
  {
   "cell_type": "code",
   "execution_count": null,
   "metadata": {},
   "outputs": [],
   "source": [
    "#################\n",
    "# Load from Server\n",
    "#################\n",
    "df_xbtusd_echo = pd.read_csv('s3://{}/{}'.format(s3_bucket, s3_signal_data_key_btc), index_col='t', parse_dates=['t'])\n",
    "df_ethusd_echo = pd.read_csv('s3://{}/{}'.format(s3_bucket, s3_signal_data_key_eth), index_col='t', parse_dates=['t'])"
   ]
  },
  {
   "cell_type": "code",
   "execution_count": null,
   "metadata": {},
   "outputs": [],
   "source": [
    "\n"
   ]
  },
  {
   "cell_type": "code",
   "execution_count": null,
   "metadata": {},
   "outputs": [],
   "source": [
    "# Read Binance Trades\n",
    "file = \"/Users/jakemoore/Desktop/BINANCE-BTC-USDT-trades-1612295089.parquet\"\n",
    "df_btcusdt_binance = pd.read_parquet(file)\n",
    "# all_binance = all_binance.drop_duplicates()\n",
    "# df_btcusdt_binance = all_binance.loc[all_binance['instrument'] == 'BTCUSDT']\n",
    "# df_ethusdt_binance = all_binance.loc[all_binance['instrument'] == 'ETHUSDT']\n"
   ]
  },
  {
   "cell_type": "code",
   "execution_count": null,
   "metadata": {},
   "outputs": [],
   "source": [
    "df_btcusdt_binance[\"timestamp\"] = pd.to_datetime(df_btcusdt_binance[\"timestamp\"], unit=\"s\")\n",
    "df_btcusdt_binance = df_btcusdt_binance.set_index(df_btcusdt_binance[\"timestamp\"])"
   ]
  },
  {
   "cell_type": "code",
   "execution_count": null,
   "metadata": {},
   "outputs": [],
   "source": [
    "df_btcusdt_binance.index = df_btcusdt_binance.index.tz_localize('UTC')\n"
   ]
  },
  {
   "cell_type": "code",
   "execution_count": null,
   "metadata": {},
   "outputs": [],
   "source": [
    "# df['EST'] = (df.time_UTC.dt.tz_localize('UTC')\n",
    "#                         .tz_convert('US/Eastern')\n",
    "#                         .strftime(\"%H:%M:%S\"))\n",
    "\n",
    "df_btcusdt_binance.index = pd.to_datetime(df_btcusdt_binance.index, errors='coerce', format='%Y-%m-%d %H:%M:%S:%f')\n",
    "\n",
    "# df_btcusdt_binance.index = pd.to_datetime(data.index, unit='s')\n"
   ]
  },
  {
   "cell_type": "code",
   "execution_count": null,
   "metadata": {},
   "outputs": [],
   "source": [
    "df_btcusdt_binance.tail()"
   ]
  },
  {
   "cell_type": "code",
   "execution_count": null,
   "metadata": {},
   "outputs": [],
   "source": [
    "df_xbtusd_echo = df_xbtusd_echo[\"2021-02-02 19:45:00\" : \"2021-02-02 20:40:00\"]\n",
    "df_btcusdt_binance = df_btcusdt_binance[\"2021-02-02 19:45:00\" : \"2021-02-02 20:40:00\"]"
   ]
  },
  {
   "cell_type": "code",
   "execution_count": null,
   "metadata": {},
   "outputs": [],
   "source": [
    "df_btcusdt_binance.info()"
   ]
  },
  {
   "cell_type": "code",
   "execution_count": null,
   "metadata": {},
   "outputs": [],
   "source": [
    "df_xbtusd_echo.info()"
   ]
  },
  {
   "cell_type": "code",
   "execution_count": null,
   "metadata": {},
   "outputs": [],
   "source": [
    "df_xbtusd_echo_resample = df_xbtusd_echo.resample(\"100ms\").last().ffill()\n",
    "df_btcusdt_binance_resample = df_btcusdt_binance.resample(\"100ms\").last().ffill()"
   ]
  },
  {
   "cell_type": "code",
   "execution_count": null,
   "metadata": {},
   "outputs": [],
   "source": [
    "# df_bitmex_resample.index = pd.to_datetime(df_bitmex_resample.index)\n",
    "\n",
    "# Merge data frames\n",
    "taq = df_xbtusd_echo_resample.join(df_btcusdt_binance_resample, how=\"left\")"
   ]
  },
  {
   "cell_type": "code",
   "execution_count": null,
   "metadata": {},
   "outputs": [],
   "source": [
    "taq.columns"
   ]
  },
  {
   "cell_type": "code",
   "execution_count": null,
   "metadata": {},
   "outputs": [],
   "source": [
    "taq[\"simple_arb\"] = taq[\"price\"].astype(float) - taq[\"Bid0\"]\n",
    "# taq[\"simple_arb\"] = np.where(taq[\"simple_arb\"] <0, taq[\"simple_arb\"], 0)"
   ]
  },
  {
   "cell_type": "code",
   "execution_count": null,
   "metadata": {},
   "outputs": [],
   "source": [
    "taq[[\"simple_arb\", \"Bid0\"]].resample(\"1t\").last().plot(subplots=True);"
   ]
  },
  {
   "cell_type": "code",
   "execution_count": null,
   "metadata": {},
   "outputs": [],
   "source": [
    "taq[\"our_mid\"] = taq[\"price\"] - taq[\"simple_arb\"] \n",
    "\n",
    "taq[\"binance_diff\"] = taq[\"our_mid\"].astype(float).diff()\n",
    "\n",
    "taq[\"Bid0_2\"] = taq[\"Bid0\"] + taq[\"binance_diff\"]\n",
    "taq[\"Ask0_2\"] = taq[\"Offer0\"] + taq[\"binance_diff\"]\n",
    "taq[\"spread\"] = taq[\"Offer0\"] - taq[\"Bid0\"]\n",
    "taq[\"spread\"] = np.maximum(taq[\"spread\"], 3)\n",
    "taq[\"bid0_diff\"] = taq[\"Bid0\"].diff()\n",
    "\n",
    "# taq[\"binance_leader_sig\"] = np.where(taq[\"binance_diff\"] > 0, 1, -1)\n",
    "# pnl = taq[\"binance_leader_sig\"].shift(1) * taq[\"bid0_diff\"]\n",
    "\n",
    "taq[\"echo_leader_sig\"] = np.where(taq[\"bid0_diff\"] > 0, 1, -1)\n",
    "pnl = taq[\"echo_leader_sig\"].shift(1) * taq[\"binance_diff\"]\n",
    "\n",
    "pnl.cumsum().resample(\"1t\").last().plot();"
   ]
  },
  {
   "cell_type": "code",
   "execution_count": null,
   "metadata": {},
   "outputs": [],
   "source": []
  },
  {
   "cell_type": "code",
   "execution_count": null,
   "metadata": {},
   "outputs": [],
   "source": [
    "resample_taq = taq[\"2021-02-02 19:45:00\" : \"2021-02-02 20:40:00\"]"
   ]
  },
  {
   "cell_type": "code",
   "execution_count": null,
   "metadata": {},
   "outputs": [],
   "source": [
    "# adjust for basis\n",
    "# move weak side based on momentum "
   ]
  },
  {
   "cell_type": "code",
   "execution_count": null,
   "metadata": {},
   "outputs": [],
   "source": []
  },
  {
   "cell_type": "code",
   "execution_count": null,
   "metadata": {},
   "outputs": [],
   "source": [
    "taq[\"bid_adj\"] = -np.where(taq[\"binance_diff\"]<-taq[\"spread\"].shift(1), taq[\"spread\"].shift(1), 2*taq[\"spread\"].shift(1))\n",
    "taq[\"offer_adj\"] = np.where(taq[\"binance_diff\"]>taq[\"spread\"].shift(1), 2*taq[\"spread\"].shift(1), taq[\"spread\"].shift(1))\n",
    "# shift spread "
   ]
  },
  {
   "cell_type": "code",
   "execution_count": null,
   "metadata": {},
   "outputs": [],
   "source": [
    "df = taq"
   ]
  },
  {
   "cell_type": "code",
   "execution_count": null,
   "metadata": {},
   "outputs": [],
   "source": [
    "plotly_line_chart()"
   ]
  },
  {
   "cell_type": "code",
   "execution_count": null,
   "metadata": {},
   "outputs": [],
   "source": []
  },
  {
   "cell_type": "code",
   "execution_count": null,
   "metadata": {
    "scrolled": true
   },
   "outputs": [],
   "source": [
    "plotly_line_chart(taq, \"Offer0\", \"Bid0\", False)"
   ]
  }
 ],
 "metadata": {
  "kernelspec": {
   "display_name": "Python 3",
   "language": "python",
   "name": "python3"
  },
  "language_info": {
   "codemirror_mode": {
    "name": "ipython",
    "version": 3
   },
   "file_extension": ".py",
   "mimetype": "text/x-python",
   "name": "python",
   "nbconvert_exporter": "python",
   "pygments_lexer": "ipython3",
   "version": "3.7.9"
  }
 },
 "nbformat": 4,
 "nbformat_minor": 4
}
