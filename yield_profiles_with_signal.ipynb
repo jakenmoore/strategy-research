{
 "cells": [
  {
   "cell_type": "code",
   "execution_count": 65,
   "metadata": {
    "pycharm": {
     "name": "#%% Import\n"
    }
   },
   "outputs": [],
   "source": [
    "import pandas as pd\n",
    "import numpy as np\n",
    "import numpy as np\n",
    "import matplotlib.pyplot as plt\n",
    "\n",
    "import pyarrow as pa\n",
    "import pyarrow.parquet as pq\n",
    "import math\n",
    "import datetime\n",
    "from datetime import timedelta\n",
    "import scipy.stats\n",
    "import warnings\n",
    "warnings.filterwarnings('ignore')\n",
    "%matplotlib inline\n"
   ]
  },
  {
   "cell_type": "code",
   "execution_count": 85,
   "metadata": {},
   "outputs": [],
   "source": [
    "# TODO - we want to optimise the holding period - since there arent many trades, want to up the yield per trade\n",
    "# set the date for date loc\n",
    "date_loc = '2020-07-28'\n",
    "lookback = 500 # this is 100 lots of resample_period\n",
    "resample_period = \"10ms\"\n",
    "\n",
    "filename_futures_quotes = \"/Volumes/GoogleDrive/Shared drives/data/jeff_usdjpy_20200728_quotes.csv\"\n",
    "filename_futures_trades = \"/Volumes/GoogleDrive/Shared drives/data/jeff_usdjpy_20200727_20200731_trades_clients\"\n",
    "\n"
   ]
  },
  {
   "cell_type": "code",
   "execution_count": 86,
   "metadata": {},
   "outputs": [],
   "source": [
    "def ofi(quotes,level):\n",
    "    \"\"\"Returns Order Flow Imbalance for given levels of the orderbook\"\"\"\n",
    "    qdf = quotes.copy()\n",
    "    bid_price_label = 'Bid' + str(level)\n",
    "    offer_price_label = 'Offer' + str(level)\n",
    "    bid_qty_label = 'Bid' +str(level) + 'Qty'\n",
    "    offer_qty_label = 'Offer' + str(level)+'Qty'\n",
    "\n",
    "    qdf['prev_bidprice'] = qdf[bid_price_label].shift()\n",
    "    qdf['prev_bidsize'] = qdf[bid_qty_label].shift()\n",
    "    qdf['prev_askprice'] = qdf[offer_price_label].shift()\n",
    "    qdf['prev_asksize'] = qdf[offer_qty_label].shift()\n",
    "\n",
    "    # Fix any missing/invalid data\n",
    "    qdf.replace([np.inf, np.NINF], np.nan, inplace=True)\n",
    "    qdf.fillna(method=\"ffill\", inplace=True)\n",
    "    qdf.fillna(method=\"bfill\", inplace=True)\n",
    "    \n",
    "    bid_geq = qdf[bid_price_label] >= qdf['prev_bidprice']\n",
    "    bid_leq = qdf[bid_price_label] <= qdf['prev_bidprice']\n",
    "    ask_geq = qdf[offer_price_label] >= qdf['prev_askprice']\n",
    "    ask_leq = qdf[offer_price_label] <= qdf['prev_askprice']\n",
    "    \n",
    "    qdf['ofi'] = np.zeros(len(qdf))\n",
    "    qdf['ofi'].loc[bid_geq] += qdf[bid_qty_label].loc[bid_geq]\n",
    "    qdf['ofi'].loc[bid_leq] -= qdf['prev_bidsize'].loc[bid_leq]\n",
    "    qdf['ofi'].loc[ask_geq] += qdf['prev_asksize'].loc[ask_geq]\n",
    "    qdf['ofi'].loc[ask_leq] -= qdf[offer_qty_label].loc[ask_leq]    \n",
    "    return qdf['ofi']"
   ]
  },
  {
   "cell_type": "code",
   "execution_count": 87,
   "metadata": {},
   "outputs": [],
   "source": [
    "# %% Read the order book data for futures\n",
    "\n",
    "df_quotes = pd.read_csv(filename_futures_quotes)\n",
    "\n",
    "\n",
    "df_quotes['t'] = pd.to_datetime(df_quotes['t'],errors='coerce')\n",
    "df_quotes.set_index(\"t\",inplace=True)\n",
    "#df_all  = df_all.resample(\"100ms\").last()\n",
    "\n",
    "df_quotes[\"Offer0Qty\"] = df_quotes[\"Offer0Qty\"].astype('float')\n",
    "df_quotes[\"Offer0\"] = df_quotes[\"Offer0\"].astype('float')\n",
    "df_quotes[\"Bid0\"] = df_quotes[\"Bid0\"].astype('float')\n",
    "df_quotes[\"Bid0Qty\"] = df_quotes[\"Bid0Qty\"].astype('float')\n",
    "\n",
    "df_quotes[\"Offer1Qty\"] = df_quotes[\"Offer1Qty\"].astype('float')\n",
    "df_quotes[\"Offer1\"] = df_quotes[\"Offer1\"].astype('float')\n",
    "df_quotes[\"Bid1\"] = df_quotes[\"Bid1\"].astype('float')\n",
    "df_quotes[\"Bid1Qty\"] = df_quotes[\"Bid1Qty\"].astype('float')\n",
    "\n",
    "df_quotes[\"Offer2Qty\"] = df_quotes[\"Offer2Qty\"].astype('float')\n",
    "df_quotes[\"Offer2\"] = df_quotes[\"Offer2\"].astype('float')\n",
    "df_quotes[\"Bid2\"] = df_quotes[\"Bid2\"].astype('float')\n",
    "df_quotes[\"Bid2Qty\"] = df_quotes[\"Bid2Qty\"].astype('float')\n",
    "\n",
    "df_quotes[\"Offer3Qty\"] = df_quotes[\"Offer3Qty\"].astype('float')\n",
    "df_quotes[\"Offer3\"] = df_quotes[\"Offer3\"].astype('float')\n",
    "df_quotes[\"Bid3\"] = df_quotes[\"Bid3\"].astype('float')\n",
    "df_quotes[\"Bid3Qty\"] = df_quotes[\"Bid3Qty\"].astype('float')\n",
    "\n",
    "df_quotes[\"Offer4Qty\"] = df_quotes[\"Offer4Qty\"].astype('float')\n",
    "df_quotes[\"Offer4\"] = df_quotes[\"Offer4\"].astype('float')\n",
    "df_quotes[\"Bid4\"] = df_quotes[\"Bid4\"].astype('float')\n",
    "df_quotes[\"Bid4Qty\"] = df_quotes[\"Bid4Qty\"].astype('float')\n",
    "df_quotes['market_mid'] = (df_quotes['Bid0'] + df_quotes['Offer0']) / 2\n",
    "\n",
    "df_quotes = df_quotes.loc[date_loc]\n",
    "\n",
    "#remove the duplicates\n",
    "df_quotes = df_quotes.loc[~df_quotes.index.duplicated(keep='last')]"
   ]
  },
  {
   "cell_type": "code",
   "execution_count": 88,
   "metadata": {},
   "outputs": [],
   "source": [
    "########################\n",
    "# OFI using top x levels \n",
    "########################\n",
    "\n",
    "df_quotes = df_quotes.resample(resample_period).last().ffill()\n",
    "df_quotes = df_quotes\n",
    "\n",
    "df_quotes[\"Offer0Qty\"] = df_quotes[\"Offer0Qty\"].astype('float')\n",
    "df_quotes[\"Offer0\"] = df_quotes[\"Offer0\"].astype('float')\n",
    "df_quotes[\"Bid0\"] = df_quotes[\"Bid0\"].astype('float')\n",
    "df_quotes[\"Bid0Qty\"] = df_quotes[\"Bid0Qty\"].astype('float')\n",
    "\n",
    "df_quotes[\"Offer1Qty\"] = df_quotes[\"Offer1Qty\"].astype('float')\n",
    "df_quotes[\"Offer1\"] = df_quotes[\"Offer1\"].astype('float')\n",
    "df_quotes[\"Bid1\"] = df_quotes[\"Bid1\"].astype('float')\n",
    "df_quotes[\"Bid1Qty\"] = df_quotes[\"Bid1Qty\"].astype('float')\n",
    "\n",
    "df_quotes[\"Offer2Qty\"] = df_quotes[\"Offer2Qty\"].astype('float')\n",
    "df_quotes[\"Offer2\"] = df_quotes[\"Offer2\"].astype('float')\n",
    "df_quotes[\"Bid2\"] = df_quotes[\"Bid2\"].astype('float')\n",
    "df_quotes[\"Bid2Qty\"] = df_quotes[\"Bid2Qty\"].astype('float')\n",
    "\n",
    "df_quotes[\"Offer3Qty\"] = df_quotes[\"Offer3Qty\"].astype('float')\n",
    "df_quotes[\"Offer3\"] = df_quotes[\"Offer3\"].astype('float')\n",
    "df_quotes[\"Bid3\"] = df_quotes[\"Bid3\"].astype('float')\n",
    "df_quotes[\"Bid3Qty\"] = df_quotes[\"Bid3Qty\"].astype('float')\n",
    "\n",
    "df_quotes[\"Offer4Qty\"] = df_quotes[\"Offer4Qty\"].astype('float')\n",
    "df_quotes[\"Offer4\"] = df_quotes[\"Offer4\"].astype('float')\n",
    "df_quotes[\"Bid4\"] = df_quotes[\"Bid4\"].astype('float')\n",
    "df_quotes[\"Bid4Qty\"] = df_quotes[\"Bid4Qty\"].astype('float')\n",
    "\n"
   ]
  },
  {
   "cell_type": "code",
   "execution_count": 89,
   "metadata": {},
   "outputs": [
    {
     "name": "stdout",
     "output_type": "stream",
     "text": [
      "Cumulative PnL 0.17043841333941012\n"
     ]
    },
    {
     "data": {
      "text/plain": "<Figure size 432x288 with 1 Axes>",
      "image/png": "[encoded data removed]"
     },
     "metadata": {
      "needs_background": "light"
     },
     "output_type": "display_data"
    }
   ],
   "source": [
    "# OFI levels 1, 2 and 3\n",
    "# moving average sets position change speed\n",
    "\n",
    "df_quotes['ofi'] = ofi(df_quotes,1) + ofi(df_quotes,2) + ofi(df_quotes,3) \n",
    "df_quotes['ofi_signal'] = np.where(df_quotes['ofi'].rolling(lookback).mean() > 0, 1, -1)\n",
    "df_quotes['mid'] = ((df_quotes['Bid0'] + df_quotes['Offer0']) / 2.0)\n",
    "df_quotes['mid_change'] = ((df_quotes['Bid0'] + df_quotes['Offer0']) / 2.0).pct_change()\n",
    "\n",
    "# shift the signal\n",
    "df_quotes['ofi_signal'] = df_quotes['ofi_signal'].shift(1)\n",
    "df_quotes['ofi_pnl'] = (df_quotes['ofi_signal'] * df_quotes['mid_change'])\n",
    "\n",
    "print(\"Cumulative PnL \" + str(df_quotes['ofi_pnl'].cumsum().iloc[-1]))\n",
    "\n",
    "#plot\n",
    "df_quotes['ofi_pnl'].cumsum().resample(\"1T\").last().plot()\n",
    "#add a suffix\n",
    "df_quotes = df_quotes.add_suffix('_quotes')"
   ]
  },
  {
   "cell_type": "code",
   "execution_count": 90,
   "metadata": {},
   "outputs": [],
   "source": [
    "# Load trades\n",
    "df_trades = pd.read_csv(filename_futures_trades+ \".csv\")\n",
    "\n",
    "#Function that adds the rolling long ash short position to the dataframe and average fill\n",
    "df_trades['buys_factor'] = 0 # delete after use\n",
    "df_trades['sells_factor'] = 0 # delete after use\n",
    "\n",
    "df_trades.loc[df_trades['side'] == 'sell','sells_factor'] = df_trades['fillPrice'] * df_trades['filledQuantity'] \n",
    "df_trades.loc[df_trades['side'] == 'buy','buys_factor'] = df_trades['fillPrice'] * df_trades['filledQuantity']\n",
    "df_trades.loc[df_trades['side'] == 'sell','cum_sell'] = df_trades.loc[df_trades['side'] == 'sell','filledQuantity'].cumsum()\n",
    "df_trades.loc[df_trades['side'] == 'buy','cum_buys'] = df_trades.loc[df_trades['side'] == 'buy','filledQuantity'].cumsum()\n",
    "df_trades.loc[df_trades['side'] == 'sell','average_sell_price'] = df_trades['sells_factor'].cumsum() / df_trades['cum_sell']\n",
    "df_trades.loc[df_trades['side'] == 'buy','average_buy_price'] = df_trades['buys_factor'].cumsum() / df_trades['cum_buys']\n",
    "\n",
    "# Set the index\n",
    "df_trades[\"timestamp\"] = df_trades[\"transactTime\"] \n",
    "df_trades[\"timestamp\"] = pd.to_datetime(df_trades[\"timestamp\"])\n",
    "\n",
    "df_trades.set_index(\"timestamp\", inplace=True)\n",
    "df_trades.sort_index(inplace=True)\n",
    "\n",
    "#drop unused columns\n",
    "df_trades = df_trades.loc[date_loc]\n",
    "\n",
    "#add the OFI to the trade \n",
    "df = df_trades.join(df_quotes, how='outer')\n",
    "df.sort_index(inplace=True)\n",
    "\n",
    "df['time'] = df.index\n",
    "df = df.reset_index(drop=True)\n",
    "\n",
    "cols = ['ofi_signal_quotes','cum_sell','average_sell_price','cum_buys','average_buy_price']\n",
    "df.loc[:,cols] = df.loc[:,cols].fillna(method=\"ffill\")\n",
    "\n",
    "df = df.loc[df['filledQuantity'] > 0]\n"
   ]
  },
  {
   "cell_type": "code",
   "execution_count": 91,
   "metadata": {
    "pycharm": {
     "name": "#%%\n"
    }
   },
   "outputs": [],
   "source": [
    "cols = [\n",
    "\"time\",\n",
    "\"key\",\n",
    "\"baseQuantityUsd\", \n",
    "\"usdPnl\",\n",
    "\"usdPnl\", \n",
    "\"PT0S\", \n",
    "\"usdPnl-PT0.1S\", \n",
    "\"usdPnl-PT0.5S\", \n",
    "\"usdPnl-PT1S\", \n",
    "\"usdPnl-PT5S\", \n",
    "\"usdPnl-PT10S\", \n",
    "\"usdPnl-PT30S\", \n",
    "\"usdPnl-PT1M\", \n",
    "\"usdPnl-PT2M\", \n",
    "\"usdPnl-PT4M\", \n",
    "\"usdPnl-PT8M\", \n",
    "\"usdPnl-PT12M\", \n",
    "\"usdPnl-PT16M\", \n",
    "\"usdPnl-PT20M\", \n",
    "\"usdPnl-PT40M\", \n",
    "\"usdPnl-PT1H\", \n",
    "\"usdPnl-PT1H30M\", \n",
    "\"usdPnl-PT2H\", \n",
    "\"side\", \n",
    "\"ofi_signal_quotes\"]\n",
    "\n"
   ]
  },
  {
   "cell_type": "code",
   "execution_count": 92,
   "outputs": [],
   "source": [
    "df.loc[:,cols].to_clipboard()\n",
    "\n"
   ],
   "metadata": {
    "collapsed": false,
    "pycharm": {
     "name": "#%%\n"
    }
   }
  },
  {
   "cell_type": "code",
   "execution_count": null,
   "outputs": [],
   "source": [],
   "metadata": {
    "collapsed": false,
    "pycharm": {
     "name": "#%%\n"
    }
   }
  }
 ],
 "metadata": {
  "kernelspec": {
   "display_name": "Python 3",
   "language": "python",
   "name": "python3"
  },
  "language_info": {
   "codemirror_mode": {
    "name": "ipython",
    "version": 3
   },
   "file_extension": ".py",
   "mimetype": "text/x-python",
   "name": "python",
   "nbconvert_exporter": "python",
   "pygments_lexer": "ipython3",
   "version": "3.7.2"
  }
 },
 "nbformat": 4,
 "nbformat_minor": 2
}