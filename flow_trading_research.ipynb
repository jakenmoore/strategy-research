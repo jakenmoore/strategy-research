{
 "cells": [
  {
   "cell_type": "code",
   "execution_count": null,
   "metadata": {},
   "outputs": [],
   "source": [
    "### TODO\n",
    "# use the order flow intensity function in the Gold example in the BTC example"
   ]
  },
  {
   "cell_type": "code",
   "execution_count": null,
   "metadata": {
    "hideCode": false,
    "hidePrompt": false
   },
   "outputs": [],
   "source": [
    "# import all necessary research utilities\n",
    "from research_utilities import *\n",
    "%matplotlib inline\n",
    "\n",
    "\n",
    "# import libraries\n",
    "from datetime import date\n",
    "import pandas as pd\n",
    "pd.options.display.max_columns = None \n",
    "import numpy as np\n",
    "\n",
    "# charting libraries & set style\n",
    "import matplotlib.pyplot as plt\n",
    "%matplotlib inline\n",
    "plt.style.use(\"seaborn\")\n",
    "\n",
    "# ignore warnings\n",
    "import warnings\n",
    "warnings.filterwarnings('ignore')\n",
    "\n",
    "# import our own utilities\n",
    "from macro_model import *\n",
    "\n",
    "# configs\n",
    "today = date.today()\n",
    "data_start_date = \"2005-01-01\"\n",
    "analysis_start_date = \"2020-07-01\"\n",
    "end_date = today"
   ]
  },
  {
   "cell_type": "code",
   "execution_count": null,
   "metadata": {
    "hideCode": false,
    "hidePrompt": false
   },
   "outputs": [],
   "source": [
    "df_trades = pd.read_parquet(\"/Users/jakemoore/Desktop/BITMEX-XBTUSD-trades-1612302410.parquet\")\n",
    "\n",
    "    df_l2 = pd.read_parquet(\"/Users/jakemoore/Desktop/BINANCE-BTC-USDT-l2_book-1612295089.parquet\")"
   ]
  },
  {
   "cell_type": "code",
   "execution_count": null,
   "metadata": {
    "hideCode": false,
    "hidePrompt": false
   },
   "outputs": [],
   "source": [
    "df_trades[\"timestamp\"] = pd.to_datetime(df_trades[\"timestamp\"], unit=\"s\")\n",
    "df_trades[\"receipt_timestamp\"] = pd.to_datetime(df_trades[\"receipt_timestamp\"], unit=\"s\")"
   ]
  },
  {
   "cell_type": "code",
   "execution_count": null,
   "metadata": {
    "hideCode": false,
    "hidePrompt": false
   },
   "outputs": [],
   "source": [
    "df_l2[\"timestamp\"] = pd.to_datetime(df_l2[\"timestamp\"], unit=\"s\")"
   ]
  },
  {
   "cell_type": "code",
   "execution_count": null,
   "metadata": {
    "hideCode": false,
    "hidePrompt": false
   },
   "outputs": [],
   "source": [
    "df_l2[\"receipt_timestamp\"] = pd.to_datetime(df_l2[\"receipt_timestamp\"], unit=\"s\")"
   ]
  },
  {
   "cell_type": "code",
   "execution_count": null,
   "metadata": {
    "hideCode": false,
    "hidePrompt": false
   },
   "outputs": [],
   "source": [
    "df_trades.tail()"
   ]
  },
  {
   "cell_type": "code",
   "execution_count": null,
   "metadata": {
    "hideCode": false,
    "hidePrompt": false
   },
   "outputs": [],
   "source": [
    "df_l2.set_index(\"timestamp\", inplace=True)"
   ]
  },
  {
   "cell_type": "code",
   "execution_count": null,
   "metadata": {
    "hideCode": false,
    "hidePrompt": false
   },
   "outputs": [],
   "source": [
    "# read trades data"
   ]
  },
  {
   "cell_type": "code",
   "execution_count": null,
   "metadata": {
    "hideCode": false,
    "hidePrompt": false
   },
   "outputs": [],
   "source": [
    "trades = pd.read_parquet(\"/Users/jakemoore/Desktop/BINANCE-BTC-USDT-trades-1612295089.parquet\")"
   ]
  },
  {
   "cell_type": "code",
   "execution_count": null,
   "metadata": {
    "hideCode": false,
    "hidePrompt": false
   },
   "outputs": [],
   "source": [
    "trades[\"timestamp\"] = pd.to_datetime(trades[\"timestamp\"], unit=\"s\")"
   ]
  },
  {
   "cell_type": "code",
   "execution_count": null,
   "metadata": {
    "hideCode": false,
    "hidePrompt": false
   },
   "outputs": [],
   "source": [
    "trades[\"receipt_timestamp\"] = pd.to_datetime(trades[\"receipt_timestamp\"], unit=\"s\")"
   ]
  },
  {
   "cell_type": "code",
   "execution_count": null,
   "metadata": {
    "hideCode": false,
    "hidePrompt": false
   },
   "outputs": [],
   "source": [
    "trades = trades.set_index(trades[\"timestamp\"])\n"
   ]
  },
  {
   "cell_type": "code",
   "execution_count": null,
   "metadata": {},
   "outputs": [],
   "source": [
    "trades[\"direction\"] = np.where(trades[\"side\"]=='buy', 1, -1)\n",
    "trades[\"direction_size\"] = trades[\"direction\"] * trades[\"amount\"] "
   ]
  },
  {
   "cell_type": "code",
   "execution_count": null,
   "metadata": {},
   "outputs": [],
   "source": [
    "trades.head()"
   ]
  },
  {
   "cell_type": "code",
   "execution_count": null,
   "metadata": {},
   "outputs": [],
   "source": []
  },
  {
   "cell_type": "code",
   "execution_count": null,
   "metadata": {},
   "outputs": [],
   "source": []
  },
  {
   "cell_type": "markdown",
   "metadata": {
    "hideCode": false,
    "hidePrompt": false
   },
   "source": [
    "Research - pockets of volatility and liquidity \n",
    "Invast gold spread\n",
    "Go with large flow or just flow when YP combines with breakout \n",
    "How get all the trades\n",
    "How reliable is invast spread?\n",
    "\n",
    "Research - my pricing engine\n"
   ]
  },
  {
   "cell_type": "markdown",
   "metadata": {
    "hideCode": false,
    "hidePrompt": false
   },
   "source": [
    "### Research - pockets of volatility and liquidity \n",
    "Invast gold spread.\n",
    "\n",
    "Go with large flow or just flow when YP combines with breakout.\n",
    "\n",
    "How get all the trades?\n",
    "\n",
    "How reliable is invast spread?\n",
    "\n",
    "Where is simulator? \n",
    "\n",
    "BREAKOUT and flow combined \n",
    "\n",
    "### Research - my pricing engine\n"
   ]
  },
  {
   "cell_type": "code",
   "execution_count": null,
   "metadata": {
    "hideCode": false,
    "hidePrompt": false
   },
   "outputs": [],
   "source": [
    "# test = trades.resample(\"1s\").agg({'x':'sum','y':'mean','z':'last'})\n"
   ]
  },
  {
   "cell_type": "code",
   "execution_count": null,
   "metadata": {
    "hideCode": false,
    "hidePrompt": false
   },
   "outputs": [],
   "source": [
    "# trades_10ms = trades.resample(\"10ms\").last().ffill()"
   ]
  },
  {
   "cell_type": "markdown",
   "metadata": {
    "hideCode": false,
    "hidePrompt": false
   },
   "source": [
    "## Flow trading "
   ]
  },
  {
   "cell_type": "code",
   "execution_count": null,
   "metadata": {},
   "outputs": [],
   "source": [
    "def lag_price(\n",
    "    data, column=\"price\", windows=[-100, -500, -1000,-3000, -6000]): # the unit is the resample period i.e. 10ms\n",
    "    for window in windows:\n",
    "        data[\"lagged_price_{}0_ms\".format(window)] = (\n",
    "            data[column].shift(window))\n",
    "    return\n"
   ]
  },
  {
   "cell_type": "code",
   "execution_count": null,
   "metadata": {
    "hideCode": false,
    "hidePrompt": false
   },
   "outputs": [],
   "source": [
    "tr = trades.drop_duplicates(subset=['timestamp'], keep='last')\n",
    "# trades = trades.resample(\"10ms\").last().ffill()"
   ]
  },
  {
   "cell_type": "code",
   "execution_count": null,
   "metadata": {},
   "outputs": [],
   "source": [
    "lag_price(tr)"
   ]
  },
  {
   "cell_type": "code",
   "execution_count": null,
   "metadata": {},
   "outputs": [],
   "source": [
    "tr.head()"
   ]
  },
  {
   "cell_type": "code",
   "execution_count": null,
   "metadata": {},
   "outputs": [],
   "source": [
    "tr[\"amount_1s_flow\"] = tr['direction_size'].rolling(\"1s\").sum() \n",
    "tr[\"amount_5s_flow\"] = tr['direction_size'].rolling(\"5s\").sum() \n",
    "tr[\"amount_60s_flow\"] = tr['direction_size'].rolling(\"60s\").sum() \n",
    "\n",
    "tr[\"amount_5m_flow\"] = tr['direction_size'].rolling(\"5t\").sum() \n"
   ]
  },
  {
   "cell_type": "code",
   "execution_count": null,
   "metadata": {
    "hideCode": false,
    "hidePrompt": false
   },
   "outputs": [],
   "source": [
    "tr[\"1s_yield_flow\"] = ((tr[\"lagged_price_-1000_ms\"] / tr[\"price\"])-1) * tr[\"amount_5s_flow\"]\n",
    "tr[\"30s_yield_flow\"] = ((tr[\"lagged_price_-30000_ms\"] / tr[\"price\"])-1) * tr[\"amount_5s_flow\"]\n",
    "\n",
    "\n",
    "tr[\"1s_yield\"] = ((tr[\"lagged_price_-1000_ms\"] / tr[\"price\"])-1) * tr[\"direction\"]\n",
    "tr[\"5s_yield\"] = ((tr[\"lagged_price_-5000_ms\"] / tr[\"price\"])-1) * tr[\"direction\"]\n",
    "\n",
    "tr[\"30s_yield\"] = ((tr[\"lagged_price_-30000_ms\"] / tr[\"price\"])-1) * tr[\"direction\"]\n",
    "\n",
    "    "
   ]
  },
  {
   "cell_type": "code",
   "execution_count": null,
   "metadata": {
    "hideCode": false,
    "hidePrompt": false
   },
   "outputs": [],
   "source": [
    "## Need to change this to trade flow not trade size\n",
    "\n",
    "df_adverse = tr\n",
    "# df_adverse = tr.loc[tr[\"amount\"] >= 0.01]\n",
    "# df_adverse = tr.loc[tr[\"amount_5s_flow\"] >= 0]\n",
    "df_adverse = df_adverse.loc[df_adverse[\"1s_yield_flow\"] > 0.005]\n",
    "    \n"
   ]
  },
  {
   "cell_type": "code",
   "execution_count": null,
   "metadata": {},
   "outputs": [],
   "source": [
    "tr.head()"
   ]
  },
  {
   "cell_type": "code",
   "execution_count": null,
   "metadata": {
    "hideCode": false,
    "hidePrompt": false
   },
   "outputs": [],
   "source": [
    "df_adverse.describe()"
   ]
  },
  {
   "cell_type": "code",
   "execution_count": null,
   "metadata": {
    "hideCode": false,
    "hidePrompt": false
   },
   "outputs": [],
   "source": [
    "df_adverse[\"sum\"] = df_adverse[\"1s_yield_flow\"].cumsum().plot(title=\"when amount > 0.02 and 1s yield is > 0.0002\");    \n",
    "# plt.savefig(\"/Users/jakemoore/Desktop/research folder/adverse_selction_when amount > 0.02 and 1s yield is > 0.0002.png\")"
   ]
  },
  {
   "cell_type": "markdown",
   "metadata": {},
   "source": [
    "### Trade flow - going with the flow"
   ]
  },
  {
   "cell_type": "code",
   "execution_count": null,
   "metadata": {},
   "outputs": [],
   "source": [
    "tr[\"flow_signal\"] = np.where(tr[\"amount_5s_flow\"] > 0, 1, -1)\n",
    "tr[\"flow_signal\"] = tr[\"flow_signal\"].shift(1)\n",
    "tr[\"flow_pnl\"] = tr[\"flow_signal\"] * tr[\"price\"].pct_change()"
   ]
  },
  {
   "cell_type": "code",
   "execution_count": null,
   "metadata": {},
   "outputs": [],
   "source": [
    "tr[\"flow_signal\"].plot()"
   ]
  },
  {
   "cell_type": "code",
   "execution_count": null,
   "metadata": {},
   "outputs": [],
   "source": [
    "tr[\"flow_pnl\"].cumsum().plot()"
   ]
  },
  {
   "cell_type": "code",
   "execution_count": null,
   "metadata": {},
   "outputs": [],
   "source": [
    "tr['direction_size_100ms'] = tr[\"direction_size\"].rolling(\"100ms\").sum()"
   ]
  },
  {
   "cell_type": "code",
   "execution_count": null,
   "metadata": {},
   "outputs": [],
   "source": [
    "big_fish = tr[np.abs(tr[\"direction_size_100ms\"]) > 0.25]"
   ]
  },
  {
   "cell_type": "code",
   "execution_count": null,
   "metadata": {},
   "outputs": [],
   "source": [
    "big_fish[\"flow_pnl\"].cumsum().plot()"
   ]
  },
  {
   "cell_type": "code",
   "execution_count": null,
   "metadata": {},
   "outputs": [],
   "source": [
    "big_fish[\"flow_pnl\"].mean()"
   ]
  },
  {
   "cell_type": "code",
   "execution_count": null,
   "metadata": {},
   "outputs": [],
   "source": []
  },
  {
   "cell_type": "markdown",
   "metadata": {},
   "source": [
    "### Think Gold Flow"
   ]
  },
  {
   "cell_type": "code",
   "execution_count": null,
   "metadata": {},
   "outputs": [],
   "source": [
    "xau_flow = pd.read_csv(\"/Users/jakemoore/Desktop/XAUThinkW01-04.csv\")\n",
    "xau_flow[\"UnixTime\"] = pd.to_datetime(xau_flow[\"UnixTime\"]/1000, unit=\"s\")\n",
    "xau_flow = xau_flow.set_index(xau_flow[\"UnixTime\"])"
   ]
  },
  {
   "cell_type": "code",
   "execution_count": null,
   "metadata": {},
   "outputs": [],
   "source": [
    "\n"
   ]
  },
  {
   "cell_type": "code",
   "execution_count": null,
   "metadata": {},
   "outputs": [],
   "source": [
    "xau_flow.tail()"
   ]
  },
  {
   "cell_type": "code",
   "execution_count": null,
   "metadata": {},
   "outputs": [],
   "source": [
    "# xau_flow = xau_flow.between_time(\"07:00\", \"17:00\")\n",
    "xau_flow[\"direction\"] = np.where(xau_flow[\"side\"] == 'OFFER', 1, -1)"
   ]
  },
  {
   "cell_type": "code",
   "execution_count": null,
   "metadata": {},
   "outputs": [],
   "source": [
    "xau_flow[\"direction_flow\"] = xau_flow[\"direction\"] * xau_flow[\"trade_quantity\"]"
   ]
  },
  {
   "cell_type": "code",
   "execution_count": null,
   "metadata": {},
   "outputs": [],
   "source": [
    "xau_flow[\"cum_flow\"] = xau_flow[\"direction_flow\"].cumsum()"
   ]
  },
  {
   "cell_type": "code",
   "execution_count": null,
   "metadata": {},
   "outputs": [],
   "source": [
    "xau_flow[[\"cum_flow\", \"trade_price\"]].resample(\"60t\").last().plot(subplots=True);"
   ]
  },
  {
   "cell_type": "code",
   "execution_count": null,
   "metadata": {},
   "outputs": [],
   "source": [
    "xau_flow[\"5min_flow\"] = xau_flow[\"direction_flow\"].rolling(\"5t\").sum()\n",
    "xau_flow[\"15min_flow\"] = xau_flow[\"direction_flow\"].rolling(\"15t\").sum()\n",
    "xau_flow[\"30min_flow\"] = xau_flow[\"direction_flow\"].rolling(\"30t\").sum()\n",
    "\n",
    "\n",
    "# simple flow\n",
    "xau_flow[\"flow_signal\"] = np.where(xau_flow[\"5min_flow\"] < 0, 1, -1)\n",
    "xau_flow[\"flow_signal\"] = xau_flow[\"flow_signal\"].shift(1)\n",
    "xau_flow[\"flow_pnl\"] = xau_flow[\"flow_signal\"] * xau_flow[\"trade_price\"].diff()\n",
    "xau_flow[\"flow_pnl_cum\"] = xau_flow[\"flow_pnl\"].cumsum()\n",
    "\n"
   ]
  },
  {
   "cell_type": "code",
   "execution_count": null,
   "metadata": {},
   "outputs": [],
   "source": [
    "xau_flow[\"flow_pnl\"].cumsum().resample(\"5t\").last().plot(subplots=True);"
   ]
  },
  {
   "cell_type": "code",
   "execution_count": null,
   "metadata": {},
   "outputs": [],
   "source": [
    "# xau_flow[\"5m_ma\"] = xau_flow[\"trade_price\"].rolling(\"5t\").mean()\n",
    "# xau_flow[\"5m_ma_signal\"] = np.where(xau_flow[\"trade_price\"] > xau_flow[\"5m_ma\"], -1, 1)\n",
    "# xau_flow[\"5m_ma_signal\"] = xau_flow[\"5m_ma_signal\"].shift(1)\n",
    "# xau_flow[\"5m_ma_pnl\"] = xau_flow[\"5m_ma_signal\"] * xau_flow[\"trade_price\"].diff()"
   ]
  },
  {
   "cell_type": "code",
   "execution_count": null,
   "metadata": {},
   "outputs": [],
   "source": []
  },
  {
   "cell_type": "code",
   "execution_count": null,
   "metadata": {},
   "outputs": [],
   "source": []
  },
  {
   "cell_type": "code",
   "execution_count": null,
   "metadata": {},
   "outputs": [],
   "source": []
  },
  {
   "cell_type": "code",
   "execution_count": null,
   "metadata": {},
   "outputs": [],
   "source": [
    "trades=11\n",
    "cost_per_trade = 0.2\n",
    "cost=trades*cost_per_trade\n",
    "cost"
   ]
  },
  {
   "cell_type": "code",
   "execution_count": null,
   "metadata": {},
   "outputs": [],
   "source": []
  },
  {
   "cell_type": "code",
   "execution_count": null,
   "metadata": {},
   "outputs": [],
   "source": [
    "xau_flow[\"flow_pnl\"][\"2021-01-08 14:00:00\":\"2021-01-08 15:00:00\"].cumsum().resample(\"1t\").last().plot(subplots=True);"
   ]
  },
  {
   "cell_type": "code",
   "execution_count": null,
   "metadata": {},
   "outputs": [],
   "source": []
  },
  {
   "cell_type": "code",
   "execution_count": null,
   "metadata": {},
   "outputs": [],
   "source": [
    "### TO INVESTIGATE\n",
    "# pnl when trend is positive and negagtive"
   ]
  },
  {
   "cell_type": "code",
   "execution_count": null,
   "metadata": {},
   "outputs": [],
   "source": [
    "xau_flow[[\"flow_signal\", \"flow_pnl_cum\"]][\"2021-01-08 14:00:00\":\"2021-01-08 15:00:00\"].plot(subplots=True)"
   ]
  },
  {
   "cell_type": "code",
   "execution_count": null,
   "metadata": {},
   "outputs": [],
   "source": [
    "xau_flow['signal_change'] = np.where(xau_flow[\"flow_signal\"] != xau_flow[\"flow_signal\"].shift(1), 1, np.nan)"
   ]
  },
  {
   "cell_type": "code",
   "execution_count": null,
   "metadata": {},
   "outputs": [],
   "source": [
    "xau_flow.describe()"
   ]
  },
  {
   "cell_type": "code",
   "execution_count": null,
   "metadata": {},
   "outputs": [],
   "source": [
    "2465*.2"
   ]
  },
  {
   "cell_type": "code",
   "execution_count": null,
   "metadata": {},
   "outputs": [],
   "source": [
    "xau_flow['signal_change'].count()"
   ]
  },
  {
   "cell_type": "code",
   "execution_count": null,
   "metadata": {},
   "outputs": [],
   "source": [
    "xau_flow['flow_pnl'].sum()"
   ]
  },
  {
   "cell_type": "code",
   "execution_count": null,
   "metadata": {},
   "outputs": [],
   "source": [
    "small_fry = xau_flow[xau_flow[\"trade_quantity\"] < 3]\n",
    "big_fish = xau_flow[xau_flow[\"trade_quantity\"] > 100]"
   ]
  },
  {
   "cell_type": "code",
   "execution_count": null,
   "metadata": {},
   "outputs": [],
   "source": [
    "small_fry_yield = small_fry['flow_pnl'].sum() / small_fry['signal_change'].count()\n",
    "small_fry_yield"
   ]
  },
  {
   "cell_type": "code",
   "execution_count": null,
   "metadata": {},
   "outputs": [],
   "source": [
    "big_fish_yield = big_fish['flow_pnl'].sum() / big_fish['signal_change'].count()\n",
    "big_fish_yield"
   ]
  },
  {
   "cell_type": "code",
   "execution_count": null,
   "metadata": {},
   "outputs": [],
   "source": [
    "small_fry.describe()"
   ]
  },
  {
   "cell_type": "code",
   "execution_count": null,
   "metadata": {},
   "outputs": [],
   "source": [
    "big_fish.describe()"
   ]
  },
  {
   "cell_type": "code",
   "execution_count": null,
   "metadata": {},
   "outputs": [],
   "source": [
    "# xau_flow['big_flow_column', 'small_flow_column', 'sum_big_flow', 'sum_small_flow']\n",
    "# market orders for big flow "
   ]
  },
  {
   "cell_type": "code",
   "execution_count": null,
   "metadata": {},
   "outputs": [],
   "source": [
    "big_fish_yield = big_fish['flow_pnl'].cumsum().plot()"
   ]
  },
  {
   "cell_type": "code",
   "execution_count": null,
   "metadata": {},
   "outputs": [],
   "source": [
    "total_flow_pnl = np.concatenate((small_fry[\"flow_pnl\"], -big_fish['flow_pnl']))"
   ]
  },
  {
   "cell_type": "code",
   "execution_count": null,
   "metadata": {},
   "outputs": [],
   "source": [
    "total = pd.DataFrame(total_flow_pnl)\n"
   ]
  },
  {
   "cell_type": "code",
   "execution_count": null,
   "metadata": {},
   "outputs": [],
   "source": [
    "total.cumsum().plot()"
   ]
  },
  {
   "cell_type": "code",
   "execution_count": null,
   "metadata": {},
   "outputs": [],
   "source": []
  },
  {
   "cell_type": "code",
   "execution_count": null,
   "metadata": {},
   "outputs": [],
   "source": [
    "# look at the two sizes, are there any predictive relationships?\n",
    "xau_flow[\"small_fry_pnl\"] = np.where(xau_flow[\"trade_quantity\"] < 3, xau_flow[\"flow_pnl\"], np.nan)\n",
    "xau_flow[\"big_fish_pnl\"] = np.where(xau_flow[\"trade_quantity\"] >100, xau_flow[\"flow_pnl\"]*(-1), np.nan)\n",
    "\n"
   ]
  },
  {
   "cell_type": "code",
   "execution_count": null,
   "metadata": {},
   "outputs": [],
   "source": [
    "xau_flow[\"big_fish_pnl\"][\"2021-01-06 08:45:00\":\"2021-01-09 15:00:00\"].rolling(\"5t\").count().plot();"
   ]
  },
  {
   "cell_type": "code",
   "execution_count": null,
   "metadata": {},
   "outputs": [],
   "source": [
    "# just take the signals \n",
    "\n",
    "xau_flow[\"big_fish_pnl_filtered\"] = np.where(xau_flow[\"big_fish_pnl\"].shift(1).rolling(\"5t\").count()>10, xau_flow[\"big_fish_pnl\"], np.nan)"
   ]
  },
  {
   "cell_type": "code",
   "execution_count": null,
   "metadata": {},
   "outputs": [],
   "source": [
    "xau_flow[\"big_fish_pnl_filtered\"].describe()"
   ]
  },
  {
   "cell_type": "code",
   "execution_count": null,
   "metadata": {},
   "outputs": [],
   "source": [
    "xau_flow[\"big_fish_pnl_filtered\"][\"2021-01-04 08:45:00\":\"2021-01-08 20:00:00\"].cumsum().plot();"
   ]
  },
  {
   "cell_type": "code",
   "execution_count": null,
   "metadata": {},
   "outputs": [],
   "source": [
    "### RESEARCH\n",
    "# Order flow intensity \n",
    "# More orders = more movement?\n",
    "# How switch regimes \n",
    "# Auto select big flow "
   ]
  },
  {
   "cell_type": "code",
   "execution_count": null,
   "metadata": {},
   "outputs": [],
   "source": [
    "xau_flow[\"trade_price\"].plot();"
   ]
  },
  {
   "cell_type": "code",
   "execution_count": null,
   "metadata": {},
   "outputs": [],
   "source": [
    "xau_flow[\"big_fish_pnl_filtered\"]"
   ]
  },
  {
   "cell_type": "code",
   "execution_count": null,
   "metadata": {},
   "outputs": [],
   "source": []
  },
  {
   "cell_type": "code",
   "execution_count": null,
   "metadata": {},
   "outputs": [],
   "source": []
  },
  {
   "cell_type": "code",
   "execution_count": null,
   "metadata": {},
   "outputs": [],
   "source": []
  },
  {
   "cell_type": "code",
   "execution_count": null,
   "metadata": {},
   "outputs": [],
   "source": [
    "xau_flow.head()"
   ]
  },
  {
   "cell_type": "code",
   "execution_count": null,
   "metadata": {},
   "outputs": [],
   "source": []
  },
  {
   "cell_type": "code",
   "execution_count": null,
   "metadata": {},
   "outputs": [],
   "source": []
  },
  {
   "cell_type": "code",
   "execution_count": null,
   "metadata": {},
   "outputs": [],
   "source": []
  },
  {
   "cell_type": "code",
   "execution_count": null,
   "metadata": {},
   "outputs": [],
   "source": []
  }
 ],
 "metadata": {
  "hide_code_all_hidden": false,
  "kernelspec": {
   "display_name": "Python 3",
   "language": "python",
   "name": "python3"
  },
  "language_info": {
   "codemirror_mode": {
    "name": "ipython",
    "version": 3
   },
   "file_extension": ".py",
   "mimetype": "text/x-python",
   "name": "python",
   "nbconvert_exporter": "python",
   "pygments_lexer": "ipython3",
   "version": "3.7.9"
  }
 },
 "nbformat": 4,
 "nbformat_minor": 4
}
