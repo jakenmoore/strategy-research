{
 "cells": [
  {
   "cell_type": "code",
   "execution_count": 1,
   "metadata": {},
   "outputs": [],
   "source": [
    "import warnings\n",
    "warnings.filterwarnings(\"ignore\")"
   ]
  },
  {
   "cell_type": "code",
   "execution_count": 2,
   "metadata": {},
   "outputs": [],
   "source": [
    "import pandas as pd\n",
    "%matplotlib inline\n",
    "import matplotlib\n",
    "import numpy as np\n",
    "import matplotlib.pyplot as plt \n",
    "from pandas import datetime\n",
    "from pandas.plotting import autocorrelation_plot\n",
    "from statsmodels.tsa.arima_model import ARIMA\n",
    "from sklearn.metrics import mean_squared_error\n",
    "import statsmodels.api as sm\n",
    "from numba import jit\n",
    "from scipy import stats"
   ]
  },
  {
   "cell_type": "code",
   "execution_count": 3,
   "metadata": {},
   "outputs": [],
   "source": [
    "# Display and formatting\n",
    "pd.set_option('display.max_columns', 200)\n",
    "pd.set_option('display.max_rows', 1200)\n",
    "%matplotlib inline"
   ]
  },
  {
   "cell_type": "code",
   "execution_count": 4,
   "metadata": {},
   "outputs": [],
   "source": [
    "import datetime\n",
    "index = pd.date_range(start=\"2019-07-01\", periods=101, freq='1s')\n",
    "columns = ['s', 'res_price', 'inv', 'ask_spread', 'bid_spread', \n",
    "           'spread', 'bid action', 'ask_action', 'pnl']\n",
    "df = pd.DataFrame(index=index, columns=columns)\n",
    "df = df.fillna(0) # with 0s "
   ]
  },
  {
   "cell_type": "code",
   "execution_count": 5,
   "metadata": {},
   "outputs": [],
   "source": [
    "# Same initial setup\n",
    "s0 = 100 # initial price\n",
    "T = 1# time\n",
    "sigma = 0.01 # volatility\n",
    "dt = 0.01 # number of time steps - this creates 200 price points\n",
    "q0 = 0 # time steps\n",
    "gamma = 0.1 # risk aversion set to 0.1, can be parameterised based on pnl\n",
    "k = 1.5 # set to 1.5\n",
    "A = 140\n"
   ]
  },
  {
   "cell_type": "code",
   "execution_count": 6,
   "metadata": {},
   "outputs": [],
   "source": [
    "# Create prices\n",
    "white_noise = sigma * np.sqrt(dt) * np.random.choice([1, -1], int(T / dt))\n",
    "price_process = s0 + np.cumsum(white_noise)\n",
    "price_process = np.insert(price_process, 0, s0)\n",
    "df['s'] = price_process"
   ]
  },
  {
   "cell_type": "code",
   "execution_count": 7,
   "metadata": {},
   "outputs": [],
   "source": [
    "# Create step for time decay function\n",
    "df['step'] = 1\n",
    "df['step'] = df['step'].cumsum()"
   ]
  },
  {
   "cell_type": "code",
   "execution_count": 8,
   "metadata": {},
   "outputs": [],
   "source": [
    "# Create inventory and flow (random) variables\n",
    "inv = np.random.randint(-5,5,size=(101, 1))\n",
    "df['inv'] = inv\n",
    "flow = np.random.randint(-1,1,size=(101, 1))\n",
    "df['flow'] = flow"
   ]
  },
  {
   "cell_type": "code",
   "execution_count": 9,
   "metadata": {},
   "outputs": [],
   "source": [
    "# Original version with time decay function and no flow data\n",
    "df['res_price'] = df['s'] - df['inv'] * gamma * sigma**2 * (T - df['step'] * dt)\n",
    "\n",
    "df['spread'] = gamma * sigma**2 * (T - df['step'] * dt) + (2 / gamma) * np.log(1 + (gamma / k))\n",
    "df['spread'] /= 2\n",
    "df['ask_spread'] = np.where(df['res_price'] >= df['s'], df['spread'] + (df['res_price'] - df['s']), \n",
    "                            df['spread'] - (df['res_price'] - df['s']))\n",
    "df['bid_spread'] = np.where(df['res_price'] >= df['s'], df['spread'] + (df['res_price'] - df['s']), \n",
    "                            df['spread'] - (df['res_price'] - df['s']))\n",
    "df['time'] = (T - df['step'] * dt)"
   ]
  },
  {
   "cell_type": "code",
   "execution_count": 10,
   "metadata": {},
   "outputs": [],
   "source": [
    "# Version with no time decay function \n",
    "\n",
    "df['res_price'] = df['s'] - (df['inv'] * gamma * sigma**2)\n",
    "\n",
    "# this is the proper spread, need to estimate k\n",
    "# df['spread'] = gamma * sigma**2 + (2 / gamma) * np.log(1 + (gamma / k))\n",
    "\n",
    "\n",
    "\n",
    "# simple spread version\n",
    "df['spread'] = df['s'] * sigma\n",
    "df['spread'] /= 2\n",
    "df['ask_spread'] = np.where(df['res_price'] >= df['s'], df['spread'] + (df['res_price'] - df['s']), \n",
    "                            df['spread'] - (df['res_price'] - df['s']))\n",
    "df['bid_spread'] = np.where(df['res_price'] >= df['s'], df['spread'] + (df['res_price'] - df['s']), \n",
    "                            df['spread'] - (df['res_price'] - df['s']))\n",
    "\n",
    "df['time'] = (T - df['step'] * dt)\n",
    "\n",
    "df['bid_price'] = df['res_price'] - df['bid_spread']\n",
    "df['ask_price'] = df['res_price'] + df['ask_spread']"
   ]
  },
  {
   "cell_type": "code",
   "execution_count": 74,
   "metadata": {},
   "outputs": [],
   "source": [
    "sigma_freq = 1440\n",
    "sigma_day = 0.02 # 2%\n",
    "risk_premium = 3.5\n",
    "gamma = .1\n",
    "sigma_scaled = sigma_day / np.sqrt(sigma_freq)\n",
    "spread = risk_premium * sigma_scaled * 9160\n",
    "spread = spread/2\n",
    "inv_adj = (10*100) * gamma * (sigma_day)**2/np.sqrt(sigma_freq)\n",
    "reservation_price = 9160 - inv_adj\n",
    "\n",
    "\n",
    "\n"
   ]
  },
  {
   "cell_type": "code",
   "execution_count": 75,
   "metadata": {},
   "outputs": [
    {
     "data": {
      "text/plain": [
       "9.655487789047452"
      ]
     },
     "execution_count": 75,
     "metadata": {},
     "output_type": "execute_result"
    }
   ],
   "source": [
    "inv_adj*9160"
   ]
  },
  {
   "cell_type": "code",
   "execution_count": 76,
   "metadata": {},
   "outputs": [
    {
     "data": {
      "text/plain": [
       "8.44855181541652"
      ]
     },
     "execution_count": 76,
     "metadata": {},
     "output_type": "execute_result"
    }
   ],
   "source": [
    "spread"
   ]
  },
  {
   "cell_type": "code",
   "execution_count": null,
   "metadata": {},
   "outputs": [],
   "source": [
    "df['spread'].iplot()"
   ]
  },
  {
   "cell_type": "code",
   "execution_count": null,
   "metadata": {},
   "outputs": [],
   "source": []
  },
  {
   "cell_type": "code",
   "execution_count": null,
   "metadata": {},
   "outputs": [],
   "source": []
  },
  {
   "cell_type": "code",
   "execution_count": null,
   "metadata": {},
   "outputs": [],
   "source": []
  },
  {
   "cell_type": "code",
   "execution_count": null,
   "metadata": {},
   "outputs": [],
   "source": []
  },
  {
   "cell_type": "code",
   "execution_count": null,
   "metadata": {},
   "outputs": [],
   "source": []
  },
  {
   "cell_type": "code",
   "execution_count": null,
   "metadata": {},
   "outputs": [],
   "source": []
  },
  {
   "cell_type": "code",
   "execution_count": null,
   "metadata": {},
   "outputs": [],
   "source": []
  },
  {
   "cell_type": "code",
   "execution_count": null,
   "metadata": {},
   "outputs": [],
   "source": []
  },
  {
   "cell_type": "code",
   "execution_count": null,
   "metadata": {},
   "outputs": [],
   "source": []
  },
  {
   "cell_type": "code",
   "execution_count": null,
   "metadata": {},
   "outputs": [],
   "source": []
  },
  {
   "cell_type": "code",
   "execution_count": null,
   "metadata": {},
   "outputs": [],
   "source": []
  },
  {
   "cell_type": "code",
   "execution_count": null,
   "metadata": {},
   "outputs": [],
   "source": []
  },
  {
   "cell_type": "code",
   "execution_count": null,
   "metadata": {},
   "outputs": [],
   "source": []
  },
  {
   "cell_type": "code",
   "execution_count": null,
   "metadata": {},
   "outputs": [],
   "source": []
  },
  {
   "cell_type": "code",
   "execution_count": null,
   "metadata": {},
   "outputs": [],
   "source": []
  },
  {
   "cell_type": "code",
   "execution_count": null,
   "metadata": {},
   "outputs": [],
   "source": []
  },
  {
   "cell_type": "code",
   "execution_count": null,
   "metadata": {},
   "outputs": [],
   "source": []
  },
  {
   "cell_type": "code",
   "execution_count": null,
   "metadata": {},
   "outputs": [],
   "source": []
  },
  {
   "cell_type": "code",
   "execution_count": null,
   "metadata": {},
   "outputs": [],
   "source": []
  },
  {
   "cell_type": "code",
   "execution_count": null,
   "metadata": {},
   "outputs": [],
   "source": []
  },
  {
   "cell_type": "code",
   "execution_count": null,
   "metadata": {},
   "outputs": [],
   "source": []
  },
  {
   "cell_type": "code",
   "execution_count": null,
   "metadata": {},
   "outputs": [],
   "source": []
  },
  {
   "cell_type": "code",
   "execution_count": null,
   "metadata": {},
   "outputs": [],
   "source": []
  },
  {
   "cell_type": "code",
   "execution_count": null,
   "metadata": {},
   "outputs": [],
   "source": []
  },
  {
   "cell_type": "code",
   "execution_count": null,
   "metadata": {},
   "outputs": [],
   "source": []
  },
  {
   "cell_type": "code",
   "execution_count": null,
   "metadata": {},
   "outputs": [],
   "source": []
  },
  {
   "cell_type": "code",
   "execution_count": null,
   "metadata": {},
   "outputs": [],
   "source": []
  },
  {
   "cell_type": "code",
   "execution_count": null,
   "metadata": {},
   "outputs": [],
   "source": []
  },
  {
   "cell_type": "code",
   "execution_count": null,
   "metadata": {},
   "outputs": [],
   "source": []
  },
  {
   "cell_type": "code",
   "execution_count": null,
   "metadata": {},
   "outputs": [],
   "source": []
  },
  {
   "cell_type": "code",
   "execution_count": null,
   "metadata": {},
   "outputs": [],
   "source": []
  }
 ],
 "metadata": {
  "kernelspec": {
   "display_name": "Python 3",
   "language": "python",
   "name": "python3"
  },
  "language_info": {
   "codemirror_mode": {
    "name": "ipython",
    "version": 3
   },
   "file_extension": ".py",
   "mimetype": "text/x-python",
   "name": "python",
   "nbconvert_exporter": "python",
   "pygments_lexer": "ipython3",
   "version": "3.7.2"
  }
 },
 "nbformat": 4,
 "nbformat_minor": 2
}
