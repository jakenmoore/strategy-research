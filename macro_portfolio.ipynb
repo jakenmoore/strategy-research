{
 "cells": [
  {
   "cell_type": "markdown",
   "metadata": {},
   "source": [
    "### TODO\n",
    "1. Import data \n",
    "2. Risk index\n",
    "3. Rates index\n",
    "4. Position sizer\n",
    "5. Theoretical positions\n",
    "6. Actual futures positions\n",
    "7. Theo VaR and pnl\n",
    "8. Actualt VaR and pnl\n",
    "9. Spread + commissions\n",
    "10. Dictionary of futures specs\n",
    "\n",
    "### Bottoms up models \n",
    "1. High frequency trend\n",
    "2. ML forecasts \n",
    "\n",
    "\n",
    "### Execution system\n",
    "1. HFPredictors \n",
    "\n",
    "### Reports\n",
    "1. VaR\n",
    "2. Stress test\n",
    "3. Leverage \n",
    "4. Pnl "
   ]
  },
  {
   "cell_type": "code",
   "execution_count": null,
   "metadata": {},
   "outputs": [],
   "source": [
    "# import libraries\n",
    "import pandas as pd\n",
    "pd.options.display.max_columns = None \n",
    "import numpy as np\n",
    "# charting libraries & set style\n",
    "import matplotlib.pyplot as plt\n",
    "%matplotlib inline\n",
    "plt.style.use(\"seaborn\")\n",
    "# ignore warnings\n",
    "import warnings\n",
    "warnings.filterwarnings('ignore')\n",
    " # import our own utilities\n",
    "from macro_model import *"
   ]
  },
  {
   "cell_type": "code",
   "execution_count": null,
   "metadata": {},
   "outputs": [],
   "source": [
    "# configs\n",
    "data_start_date = \"2020-01-01\"\n",
    "analysis_start_date = \"2020-06-01\"\n",
    "end_date = \"2020-09-30\"\n",
    "\n",
    "# risk target\n",
    "annual_risk_target = 0.10 # 10%\n",
    "daily_risk_target = annual_risk_target / np.sqrt(252)\n",
    "\n"
   ]
  },
  {
   "cell_type": "code",
   "execution_count": null,
   "metadata": {},
   "outputs": [],
   "source": [
    "# load the data and add models \n",
    "all_data = load_data(data_start_date, end_date, daily_risk_target)"
   ]
  },
  {
   "cell_type": "code",
   "execution_count": null,
   "metadata": {},
   "outputs": [],
   "source": []
  },
  {
   "cell_type": "code",
   "execution_count": null,
   "metadata": {},
   "outputs": [],
   "source": [
    "weighted_risk_index = pd.DataFrame(index = all_data)\n",
    "risk_index = pd.DataFrame(index = all_data)\n",
    "                                   \n",
    "all_data[\"weighted_10y_rates_index_return\"] = (all_data[[\"usgg10yr_index_weighted_return\", \n",
    "                                                    \"gecu10yr_index_weighted_return\",\n",
    "                                                   \"gjgb10_index_weighted_return\",\n",
    "                                                   \"gtgbp10y_govt_weighted_return\",\n",
    "                                                   \"gacgb10_index_weighted_return\",\n",
    "                                                   \"gcan10yr_index_weighted_return\",]]).sum(axis=1)\n",
    "\n",
    "\n",
    "all_data[\"weighted_risk_index_return\"] = (all_data[[\"spx_index_weighted_return\", \n",
    "                                                    \"dax_index_weighted_return\",\n",
    "                                                   \"nky_index_weighted_return\",\n",
    "                                                   \"ukx_index_weighted_return\",\n",
    "                                                   \"as51_index_weighted_return\",\n",
    "                                                   \"sptsx_index_weighted_return\",\n",
    "                                                   \"xau_curncy_weighted_return\", \n",
    "                                                   \"hg1_comdty_weighted_return\"]]).sum(axis=1) \n",
    "\n",
    "# turn rates index the other way round\n",
    "all_data[\"weighted_10y_rates_index_return\"] = all_data[\"weighted_10y_rates_index_return\"] * (-1)\n",
    "\n",
    "# average of both indices \n",
    "all_data[\"weighted_index_return\"] = all_data[[\"weighted_risk_index_return\", \n",
    "                                                           \"weighted_10y_rates_index_return\"]].mean(axis=1)\n",
    "\n",
    "all_data[\"weighted_index_return_20d_vol\"] = all_data[\"weighted_index_return\"].rolling(20).std() * np.sqrt(252)\n",
    "all_data[\"scalar\"] = annual_risk_target / all_data[\"weighted_index_return_20d_vol\"]\n",
    "\n",
    "# TODO adjust the indices for vol\n",
    "# TODO correlations between risk and rates \n",
    "\n",
    "# cumulative returns\n",
    "all_data[\"weighted_risk_cum_sum\"] = all_data[\"weighted_risk_index_return\"].cumsum()\n",
    "all_data[\"weighted_rates_cum_sum\"] = all_data[\"weighted_risk_index_return\"].cumsum()\n",
    "\n"
   ]
  },
  {
   "cell_type": "code",
   "execution_count": null,
   "metadata": {},
   "outputs": [],
   "source": [
    "# insert run model\n",
    "run_model(all_data)"
   ]
  },
  {
   "cell_type": "code",
   "execution_count": null,
   "metadata": {},
   "outputs": [],
   "source": [
    "# relative performance of risk and return\n",
    "all_data[\"risk_30d_ma\"] = all_data[\"weighted_risk_index_return\"].rolling(21).mean()\n",
    "all_data[\"rates_30d_ma\"] = all_data[\"weighted_10y_rates_index_return\"].rolling(21).mean()\n",
    "all_data[\"relative_performance_30d_ma\"] = (all_data[\"risk_30d_ma\"] - all_data[\"rates_30d_ma\"])\n",
    "# create relative performance indicator\n",
    "all_data[\"relative_performance\"] = (all_data[\"weighted_risk_index_return\"] - all_data[\"weighted_10y_rates_index_return\"])\n"
   ]
  },
  {
   "cell_type": "code",
   "execution_count": null,
   "metadata": {},
   "outputs": [],
   "source": [
    "\n",
    "# plot relative performance\n",
    "all_data[[\"risk_30d_ma\", \n",
    "          \"rates_30d_ma\", \n",
    "          \"relative_performance_30d_ma\"]].loc[analysis_start_date:end_date].cumsum().plot();\n",
    "plt.legend();\n",
    "\n"
   ]
  },
  {
   "cell_type": "code",
   "execution_count": null,
   "metadata": {},
   "outputs": [],
   "source": [
    "# set up signals on the weighted indices - don't shift yet \n",
    "all_data[\"rp_signal\"] = np.where(all_data[\"relative_performance_30d_ma\"].diff() >= 0, 1, -1)\n",
    "all_data[\"weighted_risk_trend_signal\"] = np.where((all_data[\"weighted_risk_cum_sum\"] - all_data[\"weighted_risk_cum_sum\"].rolling(21).mean())>=0, 1, -1)\n",
    "all_data[\"weighted_rates_trend_signal\"] = np.where((all_data[\"weighted_rates_cum_sum\"] - all_data[\"weighted_rates_cum_sum\"].rolling(21).mean())>=0, 1, -1)\n",
    "\n"
   ]
  },
  {
   "cell_type": "code",
   "execution_count": null,
   "metadata": {},
   "outputs": [],
   "source": [
    "# create risk signal\n",
    "all_data[\"risk_signal\"] = 0\n",
    "all_data.loc[(all_data[\"rp_signal\"] == 1), \"risk_signal\"] = 1\n",
    "all_data.loc[(all_data[\"rp_signal\"] == -1) & (all_data[\"weighted_risk_trend_signal\"] == -1), \"risk_signal\"] = -1\n",
    "all_data.loc[(all_data[\"rp_signal\"] == -1) & (all_data[\"weighted_risk_trend_signal\"] == 1), \"risk_signal\"] = 0\n",
    "\n",
    "# shift the signal\n",
    "all_data[\"risk_signal\"] = all_data[\"risk_signal\"].shift(1)"
   ]
  },
  {
   "cell_type": "code",
   "execution_count": null,
   "metadata": {},
   "outputs": [],
   "source": [
    "# create rates signal\n",
    "all_data[\"rates_signal\"] = 0\n",
    "all_data.loc[(all_data[\"rp_signal\"] == -1), \"rates_signal\"] = 1\n",
    "all_data.loc[(all_data[\"rp_signal\"] == 1) & (all_data[\"weighted_rates_trend_signal\"] == -1), \"rates_signal\"] = -1\n",
    "all_data.loc[(all_data[\"rp_signal\"] == 1) & (all_data[\"weighted_rates_trend_signal\"] == 1), \"risk_signal\"] = 1\n",
    "\n",
    "# shift the signal\n",
    "all_data[\"rates_signal\"] = all_data[\"rates_signal\"].shift(1)"
   ]
  },
  {
   "cell_type": "code",
   "execution_count": null,
   "metadata": {},
   "outputs": [],
   "source": [
    "# create the risk and rates moodel pnls\n",
    "all_data[\"risk_pnl\"] = all_data[\"risk_signal\"] * all_data[\"weighted_risk_index_return\"]\n",
    "all_data[\"rates_pnl\"] = all_data[\"rates_signal\"] * all_data[\"weighted_10y_rates_index_return\"]\n",
    "all_data[\"model_pnl\"] = (all_data[\"risk_pnl\"] + all_data[\"rates_pnl\"])"
   ]
  },
  {
   "cell_type": "code",
   "execution_count": null,
   "metadata": {},
   "outputs": [],
   "source": []
  },
  {
   "cell_type": "code",
   "execution_count": null,
   "metadata": {},
   "outputs": [],
   "source": [
    "all_data[[\"weighted_10y_rates_index_return\", \"weighted_risk_index_return\", \"model_pnl\"]].cumsum().plot()\n",
    "plt.legend();"
   ]
  },
  {
   "cell_type": "code",
   "execution_count": null,
   "metadata": {},
   "outputs": [],
   "source": [
    "ar = annual_return(all_data[\"model_pnl\"])\n",
    "risk = annual_risk(all_data[\"model_pnl\"])\n",
    "sr = sharpe_ratio(all_data[\"model_pnl\"])\n",
    "print(f\"Annual return: {ar}\")\n",
    "print(f\"Annual risk: {risk}\")\n",
    "print(f\"Sharpe Ratio: {sr}\")\n",
    "\n"
   ]
  },
  {
   "cell_type": "code",
   "execution_count": null,
   "metadata": {},
   "outputs": [],
   "source": [
    "all_data[\"risk_signal\"].iloc[-1]\n",
    "all_data[\"rates_signal\"].iloc[-1]\n"
   ]
  },
  {
   "cell_type": "code",
   "execution_count": null,
   "metadata": {},
   "outputs": [],
   "source": [
    "output = all_data[[\"rp_signal\", \"weighted_risk_trend_signal\", \"risk_signal\"]].tail(15).transpose()"
   ]
  },
  {
   "cell_type": "code",
   "execution_count": null,
   "metadata": {},
   "outputs": [],
   "source": [
    "all_data[[\"risk_signal\", \"rates_signal\"]].loc[analysis_start_date:end_date].plot()"
   ]
  },
  {
   "cell_type": "code",
   "execution_count": null,
   "metadata": {},
   "outputs": [],
   "source": [
    "# create valuation indicator\n",
    "all_data['risk_pct_rank'] = all_data['weighted_risk_index_return'].rolling(120).mean().rank(pct=True)\n",
    "all_data['rates_pct_rank'] = all_data['weighted_10y_rates_index_return'].rolling(120).mean().rank(pct=True)\n",
    "all_data[\"rich_cheap\"] = (all_data[\"spx_index_60d_percentile\"] + \n",
    "                          all_data[\"spx_index_60d_percentile_detrended\"]) / 2\n",
    "\n",
    "# create trading signal based on value\n",
    "all_data['value_signal'] =  0\n",
    "all_data.loc[all_data[\"rich_cheap\"] >= .8,'value_signal'] =  -1\n",
    "all_data.loc[(all_data[\"rich_cheap\"] <= .2),'value_signal'] =  1\n",
    "\n",
    "# shift the signal\n",
    "all_data[\"value_signal\"] = all_data[\"value_signal\"].shift(1)\n",
    "\n",
    "# TODO create vol signal\n",
    "\n",
    "# TODO create momentum signal\n"
   ]
  },
  {
   "cell_type": "code",
   "execution_count": null,
   "metadata": {},
   "outputs": [],
   "source": [
    "#TODO add percentile \n",
    "all_data[[\"spx_index\", \"risk_pct_rank\"]].loc[analysis_start_date:end_date].plot(subplots=True)\n",
    "plt.legend()\n",
    "plt.title(\"Rich-Cheap Indicator\");"
   ]
  },
  {
   "cell_type": "code",
   "execution_count": null,
   "metadata": {},
   "outputs": [],
   "source": [
    "# TODO model for futures based on slope of this line\n",
    "all_data['risk_pct_rank'].rolling(5).mean().plot();"
   ]
  },
  {
   "cell_type": "code",
   "execution_count": null,
   "metadata": {},
   "outputs": [],
   "source": [
    "\n"
   ]
  },
  {
   "cell_type": "code",
   "execution_count": null,
   "metadata": {},
   "outputs": [],
   "source": [
    "all_data['rich_cheap'].plot();"
   ]
  },
  {
   "cell_type": "code",
   "execution_count": null,
   "metadata": {},
   "outputs": [],
   "source": [
    "all_data[['spx_index_60d_percentile', 'spx_index', 'spx_index_21d_vol']].plot(subplots=True);"
   ]
  },
  {
   "cell_type": "code",
   "execution_count": null,
   "metadata": {},
   "outputs": [],
   "source": [
    "all_data[\"usgg10yr_index_weight\"]*all_data[\"rates_signal\"].tail()"
   ]
  },
  {
   "cell_type": "code",
   "execution_count": null,
   "metadata": {},
   "outputs": [],
   "source": [
    "all_data[\"ty1_comdty_weight\"]*all_data[\"rates_signal\"].tail()"
   ]
  },
  {
   "cell_type": "code",
   "execution_count": null,
   "metadata": {},
   "outputs": [],
   "source": [
    "aum = 5000000\n",
    "contract_size = 100000\n",
    "number_of_instruments = 6\n",
    "weight = (all_data[\"ty1_comdty_weight\"]*all_data[\"rates_signal\"]).iloc[-1]\n",
    "position = np.round((weight/number_of_instruments) * aum / contract_size)\n",
    "position"
   ]
  },
  {
   "cell_type": "code",
   "execution_count": null,
   "metadata": {},
   "outputs": [],
   "source": [
    "all_data[[\"ty1_comdty_weight\",\"ty1_comdty_21d_vol\", \"usgg10yr_index_weight\", \"usgg10yr_index_21d_vol\"]].tail()"
   ]
  },
  {
   "cell_type": "code",
   "execution_count": null,
   "metadata": {},
   "outputs": [],
   "source": [
    "weight"
   ]
  },
  {
   "cell_type": "code",
   "execution_count": null,
   "metadata": {},
   "outputs": [],
   "source": []
  },
  {
   "cell_type": "code",
   "execution_count": null,
   "metadata": {},
   "outputs": [],
   "source": []
  },
  {
   "cell_type": "code",
   "execution_count": null,
   "metadata": {},
   "outputs": [],
   "source": []
  },
  {
   "cell_type": "code",
   "execution_count": null,
   "metadata": {},
   "outputs": [],
   "source": []
  }
 ],
 "metadata": {
  "kernelspec": {
   "display_name": "Python 3",
   "language": "python",
   "name": "python3"
  },
  "language_info": {
   "codemirror_mode": {
    "name": "ipython",
    "version": 3
   },
   "file_extension": ".py",
   "mimetype": "text/x-python",
   "name": "python",
   "nbconvert_exporter": "python",
   "pygments_lexer": "ipython3",
   "version": "3.7.2"
  }
 },
 "nbformat": 4,
 "nbformat_minor": 2
}
